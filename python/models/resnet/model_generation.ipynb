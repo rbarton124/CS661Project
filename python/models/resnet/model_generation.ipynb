{
  "nbformat": 4,
  "nbformat_minor": 0,
  "metadata": {
    "colab": {
      "provenance": [],
      "gpuType": "A100",
      "machine_shape": "hm"
    },
    "kernelspec": {
      "name": "python3",
      "display_name": "Python 3"
    },
    "language_info": {
      "name": "python"
    },
    "accelerator": "GPU"
  },
  "cells": [
    {
      "cell_type": "code",
      "execution_count": null,
      "metadata": {
        "colab": {
          "base_uri": "https://localhost:8080/"
        },
        "id": "YREft17fLk42",
        "outputId": "cb27caf9-38cc-4cc4-cd25-a233d9f6e96f"
      },
      "outputs": [
        {
          "output_type": "stream",
          "name": "stdout",
          "text": [
            "Mounted at /content/gdrive/\n",
            "/content/gdrive/MyDrive/model_generation\n",
            "Requirement already satisfied: einops in /usr/local/lib/python3.10/dist-packages (0.7.0)\n"
          ]
        }
      ],
      "source": [
        "# only run this cell on colab\n",
        "from google.colab import drive\n",
        "\n",
        "drive.mount('/content/gdrive/', force_remount=True)\n",
        "%cd /content/gdrive/MyDrive/model_generation\n",
        "\n",
        "%pip install einops"
      ]
    },
    {
      "cell_type": "code",
      "source": [
        "def reload_modules():\n",
        "    import importlib\n",
        "    import models\n",
        "    importlib.reload(models)\n",
        "    import models"
      ],
      "metadata": {
        "id": "8c8tSYNBLngX"
      },
      "execution_count": null,
      "outputs": []
    },
    {
      "cell_type": "code",
      "source": [
        "reload_modules()"
      ],
      "metadata": {
        "id": "K5dgiu3GZzCR"
      },
      "execution_count": null,
      "outputs": []
    },
    {
      "cell_type": "code",
      "source": [
        "import models\n",
        "import torch\n",
        "import torch.nn as nn"
      ],
      "metadata": {
        "id": "EmP6OGJHaELA"
      },
      "execution_count": null,
      "outputs": []
    },
    {
      "cell_type": "code",
      "source": [
        "PRUNE_EPOCHS = 10\n",
        "TOTAL_EPOCHS = 200\n",
        "RESNET_SIZE = 50\n",
        "\n",
        "for pruning_rate in [0.1, 0.2, 0.3, 0.4]:\n",
        "    print(f\"-----------------------{pruning_rate=}------------------------\")\n",
        "    model = models.make_untrained_resnet_model(resnet_block_size=50,\n",
        "                                               quantize_bits=None)\n",
        "    model = models.train_resnet_model(model,\n",
        "                                    resnet_block_size=RESNET_SIZE,\n",
        "                                    prune_ratio=pruning_rate,\n",
        "                                    prune_epochs=PRUNE_EPOCHS,\n",
        "                                    total_epochs=TOTAL_EPOCHS,\n",
        "                                    prune_global=False,\n",
        "                                    quantize_bits=None)"
      ],
      "metadata": {
        "colab": {
          "base_uri": "https://localhost:8080/"
        },
        "id": "HO1q6nTqLx7s",
        "outputId": "2d1714a6-33f6-4517-c8e3-2a95c8042dda"
      },
      "execution_count": null,
      "outputs": [
        {
          "output_type": "stream",
          "name": "stdout",
          "text": [
            "-----------------------pruning_rate=0.1------------------------\n"
          ]
        },
        {
          "output_type": "stream",
          "name": "stderr",
          "text": [
            "/usr/local/lib/python3.10/dist-packages/torchvision/models/_utils.py:208: UserWarning: The parameter 'pretrained' is deprecated since 0.13 and may be removed in the future, please use 'weights' instead.\n",
            "  warnings.warn(\n",
            "/usr/local/lib/python3.10/dist-packages/torchvision/models/_utils.py:223: UserWarning: Arguments other than a weight enum or `None` for 'weights' are deprecated since 0.13 and may be removed in the future. The current behavior is equivalent to passing `weights=None`.\n",
            "  warnings.warn(msg)\n"
          ]
        },
        {
          "output_type": "stream",
          "name": "stdout",
          "text": [
            "Files already downloaded and verified\n",
            "Files already downloaded and verified\n",
            "epoch=0\n"
          ]
        },
        {
          "output_type": "stream",
          "name": "stderr",
          "text": [
            "\rEpoch 1/200:   0%|          | 0/782 [00:00<?, ?it/s]/usr/lib/python3.10/multiprocessing/popen_fork.py:66: RuntimeWarning: os.fork() was called. os.fork() is incompatible with multithreaded code, and JAX is multithreaded, so this will likely lead to a deadlock.\n",
            "  self.pid = os.fork()\n"
          ]
        },
        {
          "output_type": "stream",
          "name": "stdout",
          "text": [
            "Epoch 1/10 - Loss: 4.258, Accuracy: 22.27%\n",
            "Total weight sparsity in the model: 1.00%\n",
            "epoch=1\n"
          ]
        },
        {
          "output_type": "stream",
          "name": "stderr",
          "text": []
        },
        {
          "output_type": "stream",
          "name": "stdout",
          "text": [
            "Epoch 2/10 - Loss: 2.005, Accuracy: 30.11%\n",
            "Total weight sparsity in the model: 2.00%\n",
            "epoch=2\n"
          ]
        },
        {
          "output_type": "stream",
          "name": "stderr",
          "text": []
        },
        {
          "output_type": "stream",
          "name": "stdout",
          "text": [
            "Epoch 3/10 - Loss: 1.803, Accuracy: 31.20%\n",
            "Total weight sparsity in the model: 3.00%\n",
            "epoch=3\n"
          ]
        },
        {
          "output_type": "stream",
          "name": "stderr",
          "text": []
        },
        {
          "output_type": "stream",
          "name": "stdout",
          "text": [
            "Epoch 4/10 - Loss: 1.693, Accuracy: 39.75%\n",
            "Total weight sparsity in the model: 4.00%\n",
            "epoch=4\n"
          ]
        },
        {
          "output_type": "stream",
          "name": "stderr",
          "text": []
        },
        {
          "output_type": "stream",
          "name": "stdout",
          "text": [
            "Epoch 5/10 - Loss: 1.619, Accuracy: 42.40%\n",
            "Total weight sparsity in the model: 4.99%\n",
            "epoch=5\n"
          ]
        },
        {
          "output_type": "stream",
          "name": "stderr",
          "text": []
        },
        {
          "output_type": "stream",
          "name": "stdout",
          "text": [
            "Epoch 6/10 - Loss: 1.485, Accuracy: 48.48%\n",
            "Total weight sparsity in the model: 5.99%\n",
            "epoch=6\n"
          ]
        },
        {
          "output_type": "stream",
          "name": "stderr",
          "text": []
        },
        {
          "output_type": "stream",
          "name": "stdout",
          "text": [
            "Epoch 7/10 - Loss: 1.410, Accuracy: 51.40%\n",
            "Total weight sparsity in the model: 6.99%\n",
            "epoch=7\n"
          ]
        },
        {
          "output_type": "stream",
          "name": "stderr",
          "text": []
        },
        {
          "output_type": "stream",
          "name": "stdout",
          "text": [
            "Epoch 8/10 - Loss: 1.358, Accuracy: 49.03%\n",
            "Total weight sparsity in the model: 7.99%\n",
            "epoch=8\n"
          ]
        },
        {
          "output_type": "stream",
          "name": "stderr",
          "text": []
        },
        {
          "output_type": "stream",
          "name": "stdout",
          "text": [
            "Epoch 9/10 - Loss: 1.322, Accuracy: 52.12%\n",
            "Total weight sparsity in the model: 8.99%\n",
            "epoch=9\n"
          ]
        },
        {
          "output_type": "stream",
          "name": "stderr",
          "text": []
        },
        {
          "output_type": "stream",
          "name": "stdout",
          "text": [
            "Epoch 10/10 - Loss: 1.277, Accuracy: 53.68%\n",
            "Total weight sparsity in the model: 9.99%\n",
            "epoch=10\n"
          ]
        },
        {
          "output_type": "stream",
          "name": "stderr",
          "text": []
        },
        {
          "output_type": "stream",
          "name": "stdout",
          "text": [
            "Epoch 11/200 - Loss: 1.227, Accuracy: 59.40%\n",
            "Saved new best model with accuracy: 59.40%\n",
            "epoch=11\n"
          ]
        },
        {
          "output_type": "stream",
          "name": "stderr",
          "text": []
        },
        {
          "output_type": "stream",
          "name": "stdout",
          "text": [
            "Epoch 12/200 - Loss: 1.200, Accuracy: 54.27%\n",
            "epoch=12\n"
          ]
        },
        {
          "output_type": "stream",
          "name": "stderr",
          "text": []
        },
        {
          "output_type": "stream",
          "name": "stdout",
          "text": [
            "Epoch 13/200 - Loss: 1.170, Accuracy: 60.26%\n",
            "Saved new best model with accuracy: 60.26%\n",
            "epoch=13\n"
          ]
        },
        {
          "output_type": "stream",
          "name": "stderr",
          "text": []
        },
        {
          "output_type": "stream",
          "name": "stdout",
          "text": [
            "Epoch 14/200 - Loss: 1.144, Accuracy: 58.19%\n",
            "epoch=14\n"
          ]
        },
        {
          "output_type": "stream",
          "name": "stderr",
          "text": []
        },
        {
          "output_type": "stream",
          "name": "stdout",
          "text": [
            "Epoch 15/200 - Loss: 1.115, Accuracy: 60.51%\n",
            "Saved new best model with accuracy: 60.51%\n",
            "epoch=15\n"
          ]
        },
        {
          "output_type": "stream",
          "name": "stderr",
          "text": []
        },
        {
          "output_type": "stream",
          "name": "stdout",
          "text": [
            "Epoch 16/200 - Loss: 1.094, Accuracy: 64.70%\n",
            "Saved new best model with accuracy: 64.70%\n",
            "epoch=16\n"
          ]
        },
        {
          "output_type": "stream",
          "name": "stderr",
          "text": []
        },
        {
          "output_type": "stream",
          "name": "stdout",
          "text": [
            "Epoch 17/200 - Loss: 1.077, Accuracy: 65.56%\n",
            "Saved new best model with accuracy: 65.56%\n",
            "epoch=17\n"
          ]
        },
        {
          "output_type": "stream",
          "name": "stderr",
          "text": []
        },
        {
          "output_type": "stream",
          "name": "stdout",
          "text": [
            "Epoch 18/200 - Loss: 1.061, Accuracy: 61.70%\n",
            "epoch=18\n"
          ]
        },
        {
          "output_type": "stream",
          "name": "stderr",
          "text": []
        },
        {
          "output_type": "stream",
          "name": "stdout",
          "text": [
            "Epoch 19/200 - Loss: 1.045, Accuracy: 60.90%\n",
            "epoch=19\n"
          ]
        },
        {
          "output_type": "stream",
          "name": "stderr",
          "text": []
        },
        {
          "output_type": "stream",
          "name": "stdout",
          "text": [
            "Epoch 20/200 - Loss: 1.041, Accuracy: 64.34%\n",
            "epoch=20\n"
          ]
        },
        {
          "output_type": "stream",
          "name": "stderr",
          "text": []
        },
        {
          "output_type": "stream",
          "name": "stdout",
          "text": [
            "Epoch 21/200 - Loss: 1.027, Accuracy: 63.73%\n",
            "epoch=21\n"
          ]
        },
        {
          "output_type": "stream",
          "name": "stderr",
          "text": []
        },
        {
          "output_type": "stream",
          "name": "stdout",
          "text": [
            "Epoch 22/200 - Loss: 1.022, Accuracy: 62.22%\n",
            "epoch=22\n"
          ]
        },
        {
          "output_type": "stream",
          "name": "stderr",
          "text": []
        },
        {
          "output_type": "stream",
          "name": "stdout",
          "text": [
            "Epoch 23/200 - Loss: 1.008, Accuracy: 66.01%\n",
            "Saved new best model with accuracy: 66.01%\n",
            "epoch=23\n"
          ]
        },
        {
          "output_type": "stream",
          "name": "stderr",
          "text": []
        },
        {
          "output_type": "stream",
          "name": "stdout",
          "text": [
            "Epoch 24/200 - Loss: 0.998, Accuracy: 66.32%\n",
            "Saved new best model with accuracy: 66.32%\n",
            "epoch=24\n"
          ]
        },
        {
          "output_type": "stream",
          "name": "stderr",
          "text": []
        },
        {
          "output_type": "stream",
          "name": "stdout",
          "text": [
            "Epoch 25/200 - Loss: 0.993, Accuracy: 64.50%\n",
            "epoch=25\n"
          ]
        },
        {
          "output_type": "stream",
          "name": "stderr",
          "text": []
        },
        {
          "output_type": "stream",
          "name": "stdout",
          "text": [
            "Epoch 26/200 - Loss: 1.006, Accuracy: 66.07%\n",
            "epoch=26\n"
          ]
        },
        {
          "output_type": "stream",
          "name": "stderr",
          "text": []
        },
        {
          "output_type": "stream",
          "name": "stdout",
          "text": [
            "Epoch 27/200 - Loss: 0.976, Accuracy: 66.09%\n",
            "epoch=27\n"
          ]
        },
        {
          "output_type": "stream",
          "name": "stderr",
          "text": []
        },
        {
          "output_type": "stream",
          "name": "stdout",
          "text": [
            "Epoch 28/200 - Loss: 0.978, Accuracy: 58.35%\n",
            "epoch=28\n"
          ]
        },
        {
          "output_type": "stream",
          "name": "stderr",
          "text": []
        },
        {
          "output_type": "stream",
          "name": "stdout",
          "text": [
            "Epoch 29/200 - Loss: 0.980, Accuracy: 67.33%\n",
            "Saved new best model with accuracy: 67.33%\n",
            "epoch=29\n"
          ]
        },
        {
          "output_type": "stream",
          "name": "stderr",
          "text": []
        },
        {
          "output_type": "stream",
          "name": "stdout",
          "text": [
            "Epoch 30/200 - Loss: 0.971, Accuracy: 68.94%\n",
            "Saved new best model with accuracy: 68.94%\n",
            "epoch=30\n"
          ]
        },
        {
          "output_type": "stream",
          "name": "stderr",
          "text": []
        },
        {
          "output_type": "stream",
          "name": "stdout",
          "text": [
            "Epoch 31/200 - Loss: 0.966, Accuracy: 61.57%\n",
            "epoch=31\n"
          ]
        },
        {
          "output_type": "stream",
          "name": "stderr",
          "text": []
        },
        {
          "output_type": "stream",
          "name": "stdout",
          "text": [
            "Epoch 32/200 - Loss: 0.963, Accuracy: 66.71%\n",
            "epoch=32\n"
          ]
        },
        {
          "output_type": "stream",
          "name": "stderr",
          "text": []
        },
        {
          "output_type": "stream",
          "name": "stdout",
          "text": [
            "Epoch 33/200 - Loss: 0.962, Accuracy: 63.90%\n",
            "epoch=33\n"
          ]
        },
        {
          "output_type": "stream",
          "name": "stderr",
          "text": []
        },
        {
          "output_type": "stream",
          "name": "stdout",
          "text": [
            "Epoch 34/200 - Loss: 0.961, Accuracy: 60.60%\n",
            "epoch=34\n"
          ]
        },
        {
          "output_type": "stream",
          "name": "stderr",
          "text": []
        },
        {
          "output_type": "stream",
          "name": "stdout",
          "text": [
            "Epoch 35/200 - Loss: 0.958, Accuracy: 67.69%\n",
            "epoch=35\n"
          ]
        },
        {
          "output_type": "stream",
          "name": "stderr",
          "text": []
        },
        {
          "output_type": "stream",
          "name": "stdout",
          "text": [
            "Epoch 36/200 - Loss: 0.951, Accuracy: 67.15%\n",
            "epoch=36\n"
          ]
        },
        {
          "output_type": "stream",
          "name": "stderr",
          "text": []
        },
        {
          "output_type": "stream",
          "name": "stdout",
          "text": [
            "Epoch 37/200 - Loss: 0.945, Accuracy: 66.81%\n",
            "epoch=37\n"
          ]
        },
        {
          "output_type": "stream",
          "name": "stderr",
          "text": []
        },
        {
          "output_type": "stream",
          "name": "stdout",
          "text": [
            "Epoch 38/200 - Loss: 0.949, Accuracy: 57.63%\n",
            "epoch=38\n"
          ]
        },
        {
          "output_type": "stream",
          "name": "stderr",
          "text": []
        },
        {
          "output_type": "stream",
          "name": "stdout",
          "text": [
            "Epoch 39/200 - Loss: 0.951, Accuracy: 65.02%\n",
            "epoch=39\n"
          ]
        },
        {
          "output_type": "stream",
          "name": "stderr",
          "text": []
        },
        {
          "output_type": "stream",
          "name": "stdout",
          "text": [
            "Epoch 40/200 - Loss: 0.934, Accuracy: 68.21%\n",
            "epoch=40\n"
          ]
        },
        {
          "output_type": "stream",
          "name": "stderr",
          "text": []
        },
        {
          "output_type": "stream",
          "name": "stdout",
          "text": [
            "Epoch 41/200 - Loss: 0.943, Accuracy: 70.18%\n",
            "Saved new best model with accuracy: 70.18%\n",
            "epoch=41\n"
          ]
        },
        {
          "output_type": "stream",
          "name": "stderr",
          "text": []
        },
        {
          "output_type": "stream",
          "name": "stdout",
          "text": [
            "Epoch 42/200 - Loss: 0.936, Accuracy: 68.15%\n",
            "epoch=42\n"
          ]
        },
        {
          "output_type": "stream",
          "name": "stderr",
          "text": []
        },
        {
          "output_type": "stream",
          "name": "stdout",
          "text": [
            "Epoch 43/200 - Loss: 0.924, Accuracy: 65.46%\n",
            "epoch=43\n"
          ]
        },
        {
          "output_type": "stream",
          "name": "stderr",
          "text": []
        },
        {
          "output_type": "stream",
          "name": "stdout",
          "text": [
            "Epoch 44/200 - Loss: 0.933, Accuracy: 71.27%\n",
            "Saved new best model with accuracy: 71.27%\n",
            "epoch=44\n"
          ]
        },
        {
          "output_type": "stream",
          "name": "stderr",
          "text": []
        },
        {
          "output_type": "stream",
          "name": "stdout",
          "text": [
            "Epoch 45/200 - Loss: 0.918, Accuracy: 67.74%\n",
            "epoch=45\n"
          ]
        },
        {
          "output_type": "stream",
          "name": "stderr",
          "text": []
        },
        {
          "output_type": "stream",
          "name": "stdout",
          "text": [
            "Epoch 46/200 - Loss: 0.920, Accuracy: 65.08%\n",
            "epoch=46\n"
          ]
        },
        {
          "output_type": "stream",
          "name": "stderr",
          "text": []
        },
        {
          "output_type": "stream",
          "name": "stdout",
          "text": [
            "Epoch 47/200 - Loss: 0.932, Accuracy: 68.61%\n",
            "epoch=47\n"
          ]
        },
        {
          "output_type": "stream",
          "name": "stderr",
          "text": []
        },
        {
          "output_type": "stream",
          "name": "stdout",
          "text": [
            "Epoch 48/200 - Loss: 0.916, Accuracy: 68.22%\n",
            "epoch=48\n"
          ]
        },
        {
          "output_type": "stream",
          "name": "stderr",
          "text": []
        },
        {
          "output_type": "stream",
          "name": "stdout",
          "text": [
            "Epoch 49/200 - Loss: 0.917, Accuracy: 64.23%\n",
            "epoch=49\n"
          ]
        },
        {
          "output_type": "stream",
          "name": "stderr",
          "text": []
        },
        {
          "output_type": "stream",
          "name": "stdout",
          "text": [
            "Epoch 50/200 - Loss: 0.911, Accuracy: 63.44%\n",
            "epoch=50\n"
          ]
        },
        {
          "output_type": "stream",
          "name": "stderr",
          "text": []
        },
        {
          "output_type": "stream",
          "name": "stdout",
          "text": [
            "Epoch 51/200 - Loss: 0.914, Accuracy: 68.72%\n",
            "epoch=51\n"
          ]
        },
        {
          "output_type": "stream",
          "name": "stderr",
          "text": []
        },
        {
          "output_type": "stream",
          "name": "stdout",
          "text": [
            "Epoch 52/200 - Loss: 0.906, Accuracy: 67.79%\n",
            "epoch=52\n"
          ]
        },
        {
          "output_type": "stream",
          "name": "stderr",
          "text": []
        },
        {
          "output_type": "stream",
          "name": "stdout",
          "text": [
            "Epoch 53/200 - Loss: 0.906, Accuracy: 69.18%\n",
            "epoch=53\n"
          ]
        },
        {
          "output_type": "stream",
          "name": "stderr",
          "text": []
        },
        {
          "output_type": "stream",
          "name": "stdout",
          "text": [
            "Epoch 54/200 - Loss: 0.906, Accuracy: 64.96%\n",
            "epoch=54\n"
          ]
        },
        {
          "output_type": "stream",
          "name": "stderr",
          "text": []
        },
        {
          "output_type": "stream",
          "name": "stdout",
          "text": [
            "Epoch 55/200 - Loss: 0.885, Accuracy: 66.11%\n",
            "epoch=55\n"
          ]
        },
        {
          "output_type": "stream",
          "name": "stderr",
          "text": []
        },
        {
          "output_type": "stream",
          "name": "stdout",
          "text": [
            "Epoch 56/200 - Loss: 0.898, Accuracy: 66.14%\n",
            "epoch=56\n"
          ]
        },
        {
          "output_type": "stream",
          "name": "stderr",
          "text": []
        },
        {
          "output_type": "stream",
          "name": "stdout",
          "text": [
            "Epoch 57/200 - Loss: 0.894, Accuracy: 66.24%\n",
            "epoch=57\n"
          ]
        },
        {
          "output_type": "stream",
          "name": "stderr",
          "text": []
        },
        {
          "output_type": "stream",
          "name": "stdout",
          "text": [
            "Epoch 58/200 - Loss: 0.891, Accuracy: 58.93%\n",
            "epoch=58\n"
          ]
        },
        {
          "output_type": "stream",
          "name": "stderr",
          "text": []
        },
        {
          "output_type": "stream",
          "name": "stdout",
          "text": [
            "Epoch 59/200 - Loss: 0.886, Accuracy: 71.57%\n",
            "Saved new best model with accuracy: 71.57%\n",
            "epoch=59\n"
          ]
        },
        {
          "output_type": "stream",
          "name": "stderr",
          "text": []
        },
        {
          "output_type": "stream",
          "name": "stdout",
          "text": [
            "Epoch 60/200 - Loss: 0.889, Accuracy: 70.84%\n",
            "epoch=60\n"
          ]
        },
        {
          "output_type": "stream",
          "name": "stderr",
          "text": []
        },
        {
          "output_type": "stream",
          "name": "stdout",
          "text": [
            "Epoch 61/200 - Loss: 0.880, Accuracy: 70.94%\n",
            "epoch=61\n"
          ]
        },
        {
          "output_type": "stream",
          "name": "stderr",
          "text": []
        },
        {
          "output_type": "stream",
          "name": "stdout",
          "text": [
            "Epoch 62/200 - Loss: 0.884, Accuracy: 69.21%\n",
            "epoch=62\n"
          ]
        },
        {
          "output_type": "stream",
          "name": "stderr",
          "text": []
        },
        {
          "output_type": "stream",
          "name": "stdout",
          "text": [
            "Epoch 63/200 - Loss: 0.875, Accuracy: 65.85%\n",
            "epoch=63\n"
          ]
        },
        {
          "output_type": "stream",
          "name": "stderr",
          "text": []
        },
        {
          "output_type": "stream",
          "name": "stdout",
          "text": [
            "Epoch 64/200 - Loss: 0.877, Accuracy: 68.57%\n",
            "epoch=64\n"
          ]
        },
        {
          "output_type": "stream",
          "name": "stderr",
          "text": []
        },
        {
          "output_type": "stream",
          "name": "stdout",
          "text": [
            "Epoch 65/200 - Loss: 0.863, Accuracy: 69.73%\n",
            "epoch=65\n"
          ]
        },
        {
          "output_type": "stream",
          "name": "stderr",
          "text": []
        },
        {
          "output_type": "stream",
          "name": "stdout",
          "text": [
            "Epoch 66/200 - Loss: 0.866, Accuracy: 66.79%\n",
            "epoch=66\n"
          ]
        },
        {
          "output_type": "stream",
          "name": "stderr",
          "text": []
        },
        {
          "output_type": "stream",
          "name": "stdout",
          "text": [
            "Epoch 67/200 - Loss: 0.868, Accuracy: 71.80%\n",
            "Saved new best model with accuracy: 71.80%\n",
            "epoch=67\n"
          ]
        },
        {
          "output_type": "stream",
          "name": "stderr",
          "text": []
        },
        {
          "output_type": "stream",
          "name": "stdout",
          "text": [
            "Epoch 68/200 - Loss: 0.852, Accuracy: 70.57%\n",
            "epoch=68\n"
          ]
        },
        {
          "output_type": "stream",
          "name": "stderr",
          "text": []
        },
        {
          "output_type": "stream",
          "name": "stdout",
          "text": [
            "Epoch 69/200 - Loss: 0.868, Accuracy: 68.93%\n",
            "epoch=69\n"
          ]
        },
        {
          "output_type": "stream",
          "name": "stderr",
          "text": []
        },
        {
          "output_type": "stream",
          "name": "stdout",
          "text": [
            "Epoch 70/200 - Loss: 0.854, Accuracy: 65.54%\n",
            "epoch=70\n"
          ]
        },
        {
          "output_type": "stream",
          "name": "stderr",
          "text": []
        },
        {
          "output_type": "stream",
          "name": "stdout",
          "text": [
            "Epoch 71/200 - Loss: 0.854, Accuracy: 67.83%\n",
            "epoch=71\n"
          ]
        },
        {
          "output_type": "stream",
          "name": "stderr",
          "text": []
        },
        {
          "output_type": "stream",
          "name": "stdout",
          "text": [
            "Epoch 72/200 - Loss: 0.846, Accuracy: 68.78%\n",
            "epoch=72\n"
          ]
        },
        {
          "output_type": "stream",
          "name": "stderr",
          "text": []
        },
        {
          "output_type": "stream",
          "name": "stdout",
          "text": [
            "Epoch 73/200 - Loss: 0.848, Accuracy: 71.24%\n",
            "epoch=73\n"
          ]
        },
        {
          "output_type": "stream",
          "name": "stderr",
          "text": []
        },
        {
          "output_type": "stream",
          "name": "stdout",
          "text": [
            "Epoch 74/200 - Loss: 0.845, Accuracy: 67.94%\n",
            "epoch=74\n"
          ]
        },
        {
          "output_type": "stream",
          "name": "stderr",
          "text": []
        },
        {
          "output_type": "stream",
          "name": "stdout",
          "text": [
            "Epoch 75/200 - Loss: 0.830, Accuracy: 66.82%\n",
            "epoch=75\n"
          ]
        },
        {
          "output_type": "stream",
          "name": "stderr",
          "text": []
        },
        {
          "output_type": "stream",
          "name": "stdout",
          "text": [
            "Epoch 76/200 - Loss: 0.827, Accuracy: 72.00%\n",
            "Saved new best model with accuracy: 72.00%\n",
            "epoch=76\n"
          ]
        },
        {
          "output_type": "stream",
          "name": "stderr",
          "text": []
        },
        {
          "output_type": "stream",
          "name": "stdout",
          "text": [
            "Epoch 77/200 - Loss: 0.832, Accuracy: 71.43%\n",
            "epoch=77\n"
          ]
        },
        {
          "output_type": "stream",
          "name": "stderr",
          "text": []
        },
        {
          "output_type": "stream",
          "name": "stdout",
          "text": [
            "Epoch 78/200 - Loss: 0.825, Accuracy: 71.21%\n",
            "epoch=78\n"
          ]
        },
        {
          "output_type": "stream",
          "name": "stderr",
          "text": []
        },
        {
          "output_type": "stream",
          "name": "stdout",
          "text": [
            "Epoch 79/200 - Loss: 0.817, Accuracy: 69.08%\n",
            "epoch=79\n"
          ]
        },
        {
          "output_type": "stream",
          "name": "stderr",
          "text": []
        },
        {
          "output_type": "stream",
          "name": "stdout",
          "text": [
            "Epoch 80/200 - Loss: 0.824, Accuracy: 70.28%\n",
            "epoch=80\n"
          ]
        },
        {
          "output_type": "stream",
          "name": "stderr",
          "text": []
        },
        {
          "output_type": "stream",
          "name": "stdout",
          "text": [
            "Epoch 81/200 - Loss: 0.817, Accuracy: 70.61%\n",
            "epoch=81\n"
          ]
        },
        {
          "output_type": "stream",
          "name": "stderr",
          "text": []
        },
        {
          "output_type": "stream",
          "name": "stdout",
          "text": [
            "Epoch 82/200 - Loss: 0.803, Accuracy: 70.95%\n",
            "epoch=82\n"
          ]
        },
        {
          "output_type": "stream",
          "name": "stderr",
          "text": []
        },
        {
          "output_type": "stream",
          "name": "stdout",
          "text": [
            "Epoch 83/200 - Loss: 0.807, Accuracy: 72.38%\n",
            "Saved new best model with accuracy: 72.38%\n",
            "epoch=83\n"
          ]
        },
        {
          "output_type": "stream",
          "name": "stderr",
          "text": []
        },
        {
          "output_type": "stream",
          "name": "stdout",
          "text": [
            "Epoch 84/200 - Loss: 0.799, Accuracy: 71.48%\n",
            "epoch=84\n"
          ]
        },
        {
          "output_type": "stream",
          "name": "stderr",
          "text": []
        },
        {
          "output_type": "stream",
          "name": "stdout",
          "text": [
            "Epoch 85/200 - Loss: 0.798, Accuracy: 73.91%\n",
            "Saved new best model with accuracy: 73.91%\n",
            "epoch=85\n"
          ]
        },
        {
          "output_type": "stream",
          "name": "stderr",
          "text": []
        },
        {
          "output_type": "stream",
          "name": "stdout",
          "text": [
            "Epoch 86/200 - Loss: 0.794, Accuracy: 69.22%\n",
            "epoch=86\n"
          ]
        },
        {
          "output_type": "stream",
          "name": "stderr",
          "text": []
        },
        {
          "output_type": "stream",
          "name": "stdout",
          "text": [
            "Epoch 87/200 - Loss: 0.789, Accuracy: 72.23%\n",
            "epoch=87\n"
          ]
        },
        {
          "output_type": "stream",
          "name": "stderr",
          "text": []
        },
        {
          "output_type": "stream",
          "name": "stdout",
          "text": [
            "Epoch 88/200 - Loss: 0.787, Accuracy: 73.14%\n",
            "epoch=88\n"
          ]
        },
        {
          "output_type": "stream",
          "name": "stderr",
          "text": []
        },
        {
          "output_type": "stream",
          "name": "stdout",
          "text": [
            "Epoch 89/200 - Loss: 0.779, Accuracy: 72.93%\n",
            "epoch=89\n"
          ]
        },
        {
          "output_type": "stream",
          "name": "stderr",
          "text": []
        },
        {
          "output_type": "stream",
          "name": "stdout",
          "text": [
            "Epoch 90/200 - Loss: 0.774, Accuracy: 72.59%\n",
            "epoch=90\n"
          ]
        },
        {
          "output_type": "stream",
          "name": "stderr",
          "text": []
        },
        {
          "output_type": "stream",
          "name": "stdout",
          "text": [
            "Epoch 91/200 - Loss: 0.777, Accuracy: 70.93%\n",
            "epoch=91\n"
          ]
        },
        {
          "output_type": "stream",
          "name": "stderr",
          "text": []
        },
        {
          "output_type": "stream",
          "name": "stdout",
          "text": [
            "Epoch 92/200 - Loss: 0.769, Accuracy: 74.01%\n",
            "Saved new best model with accuracy: 74.01%\n",
            "epoch=92\n"
          ]
        },
        {
          "output_type": "stream",
          "name": "stderr",
          "text": []
        },
        {
          "output_type": "stream",
          "name": "stdout",
          "text": [
            "Epoch 93/200 - Loss: 0.774, Accuracy: 75.05%\n",
            "Saved new best model with accuracy: 75.05%\n",
            "epoch=93\n"
          ]
        },
        {
          "output_type": "stream",
          "name": "stderr",
          "text": []
        },
        {
          "output_type": "stream",
          "name": "stdout",
          "text": [
            "Epoch 94/200 - Loss: 0.764, Accuracy: 71.83%\n",
            "epoch=94\n"
          ]
        },
        {
          "output_type": "stream",
          "name": "stderr",
          "text": []
        },
        {
          "output_type": "stream",
          "name": "stdout",
          "text": [
            "Epoch 95/200 - Loss: 0.762, Accuracy: 74.01%\n",
            "epoch=95\n"
          ]
        },
        {
          "output_type": "stream",
          "name": "stderr",
          "text": []
        },
        {
          "output_type": "stream",
          "name": "stdout",
          "text": [
            "Epoch 96/200 - Loss: 0.753, Accuracy: 72.58%\n",
            "epoch=96\n"
          ]
        },
        {
          "output_type": "stream",
          "name": "stderr",
          "text": []
        },
        {
          "output_type": "stream",
          "name": "stdout",
          "text": [
            "Epoch 97/200 - Loss: 0.758, Accuracy: 74.54%\n",
            "epoch=97\n"
          ]
        },
        {
          "output_type": "stream",
          "name": "stderr",
          "text": []
        },
        {
          "output_type": "stream",
          "name": "stdout",
          "text": [
            "Epoch 98/200 - Loss: 0.755, Accuracy: 69.64%\n",
            "epoch=98\n"
          ]
        },
        {
          "output_type": "stream",
          "name": "stderr",
          "text": []
        },
        {
          "output_type": "stream",
          "name": "stdout",
          "text": [
            "Epoch 99/200 - Loss: 0.737, Accuracy: 73.09%\n",
            "epoch=99\n"
          ]
        },
        {
          "output_type": "stream",
          "name": "stderr",
          "text": []
        },
        {
          "output_type": "stream",
          "name": "stdout",
          "text": [
            "Epoch 100/200 - Loss: 0.741, Accuracy: 74.62%\n",
            "epoch=100\n"
          ]
        },
        {
          "output_type": "stream",
          "name": "stderr",
          "text": []
        },
        {
          "output_type": "stream",
          "name": "stdout",
          "text": [
            "Epoch 101/200 - Loss: 0.733, Accuracy: 73.55%\n",
            "epoch=101\n"
          ]
        },
        {
          "output_type": "stream",
          "name": "stderr",
          "text": []
        },
        {
          "output_type": "stream",
          "name": "stdout",
          "text": [
            "Epoch 102/200 - Loss: 0.734, Accuracy: 76.77%\n",
            "Saved new best model with accuracy: 76.77%\n",
            "epoch=102\n"
          ]
        },
        {
          "output_type": "stream",
          "name": "stderr",
          "text": []
        },
        {
          "output_type": "stream",
          "name": "stdout",
          "text": [
            "Epoch 103/200 - Loss: 0.725, Accuracy: 73.50%\n",
            "epoch=103\n"
          ]
        },
        {
          "output_type": "stream",
          "name": "stderr",
          "text": []
        },
        {
          "output_type": "stream",
          "name": "stdout",
          "text": [
            "Epoch 104/200 - Loss: 0.722, Accuracy: 73.13%\n",
            "epoch=104\n"
          ]
        },
        {
          "output_type": "stream",
          "name": "stderr",
          "text": []
        },
        {
          "output_type": "stream",
          "name": "stdout",
          "text": [
            "Epoch 105/200 - Loss: 0.722, Accuracy: 71.60%\n",
            "epoch=105\n"
          ]
        },
        {
          "output_type": "stream",
          "name": "stderr",
          "text": []
        },
        {
          "output_type": "stream",
          "name": "stdout",
          "text": [
            "Epoch 106/200 - Loss: 0.715, Accuracy: 75.20%\n",
            "epoch=106\n"
          ]
        },
        {
          "output_type": "stream",
          "name": "stderr",
          "text": []
        },
        {
          "output_type": "stream",
          "name": "stdout",
          "text": [
            "Epoch 107/200 - Loss: 0.708, Accuracy: 74.05%\n",
            "epoch=107\n"
          ]
        },
        {
          "output_type": "stream",
          "name": "stderr",
          "text": []
        },
        {
          "output_type": "stream",
          "name": "stdout",
          "text": [
            "Epoch 108/200 - Loss: 0.709, Accuracy: 75.51%\n",
            "epoch=108\n"
          ]
        },
        {
          "output_type": "stream",
          "name": "stderr",
          "text": []
        },
        {
          "output_type": "stream",
          "name": "stdout",
          "text": [
            "Epoch 109/200 - Loss: 0.700, Accuracy: 74.91%\n",
            "epoch=109\n"
          ]
        },
        {
          "output_type": "stream",
          "name": "stderr",
          "text": []
        },
        {
          "output_type": "stream",
          "name": "stdout",
          "text": [
            "Epoch 110/200 - Loss: 0.686, Accuracy: 73.88%\n",
            "epoch=110\n"
          ]
        },
        {
          "output_type": "stream",
          "name": "stderr",
          "text": []
        },
        {
          "output_type": "stream",
          "name": "stdout",
          "text": [
            "Epoch 111/200 - Loss: 0.691, Accuracy: 76.18%\n",
            "epoch=111\n"
          ]
        },
        {
          "output_type": "stream",
          "name": "stderr",
          "text": []
        },
        {
          "output_type": "stream",
          "name": "stdout",
          "text": [
            "Epoch 112/200 - Loss: 0.685, Accuracy: 75.56%\n",
            "epoch=112\n"
          ]
        },
        {
          "output_type": "stream",
          "name": "stderr",
          "text": []
        },
        {
          "output_type": "stream",
          "name": "stdout",
          "text": [
            "Epoch 113/200 - Loss: 0.681, Accuracy: 74.42%\n",
            "epoch=113\n"
          ]
        },
        {
          "output_type": "stream",
          "name": "stderr",
          "text": []
        },
        {
          "output_type": "stream",
          "name": "stdout",
          "text": [
            "Epoch 114/200 - Loss: 0.670, Accuracy: 76.61%\n",
            "epoch=114\n"
          ]
        },
        {
          "output_type": "stream",
          "name": "stderr",
          "text": []
        },
        {
          "output_type": "stream",
          "name": "stdout",
          "text": [
            "Epoch 115/200 - Loss: 0.665, Accuracy: 73.77%\n",
            "epoch=115\n"
          ]
        },
        {
          "output_type": "stream",
          "name": "stderr",
          "text": []
        },
        {
          "output_type": "stream",
          "name": "stdout",
          "text": [
            "Epoch 116/200 - Loss: 0.666, Accuracy: 78.04%\n",
            "Saved new best model with accuracy: 78.04%\n",
            "epoch=116\n"
          ]
        },
        {
          "output_type": "stream",
          "name": "stderr",
          "text": []
        },
        {
          "output_type": "stream",
          "name": "stdout",
          "text": [
            "Epoch 117/200 - Loss: 0.654, Accuracy: 77.15%\n",
            "epoch=117\n"
          ]
        },
        {
          "output_type": "stream",
          "name": "stderr",
          "text": []
        },
        {
          "output_type": "stream",
          "name": "stdout",
          "text": [
            "Epoch 118/200 - Loss: 0.652, Accuracy: 74.99%\n",
            "epoch=118\n"
          ]
        },
        {
          "output_type": "stream",
          "name": "stderr",
          "text": []
        },
        {
          "output_type": "stream",
          "name": "stdout",
          "text": [
            "Epoch 119/200 - Loss: 0.642, Accuracy: 75.49%\n",
            "epoch=119\n"
          ]
        },
        {
          "output_type": "stream",
          "name": "stderr",
          "text": []
        },
        {
          "output_type": "stream",
          "name": "stdout",
          "text": [
            "Epoch 120/200 - Loss: 0.645, Accuracy: 77.22%\n",
            "epoch=120\n"
          ]
        },
        {
          "output_type": "stream",
          "name": "stderr",
          "text": []
        },
        {
          "output_type": "stream",
          "name": "stdout",
          "text": [
            "Epoch 121/200 - Loss: 0.638, Accuracy: 76.30%\n",
            "epoch=121\n"
          ]
        },
        {
          "output_type": "stream",
          "name": "stderr",
          "text": []
        },
        {
          "output_type": "stream",
          "name": "stdout",
          "text": [
            "Epoch 122/200 - Loss: 0.626, Accuracy: 77.19%\n",
            "epoch=122\n"
          ]
        },
        {
          "output_type": "stream",
          "name": "stderr",
          "text": []
        },
        {
          "output_type": "stream",
          "name": "stdout",
          "text": [
            "Epoch 123/200 - Loss: 0.623, Accuracy: 75.72%\n",
            "epoch=123\n"
          ]
        },
        {
          "output_type": "stream",
          "name": "stderr",
          "text": []
        },
        {
          "output_type": "stream",
          "name": "stdout",
          "text": [
            "Epoch 124/200 - Loss: 0.620, Accuracy: 77.53%\n",
            "epoch=124\n"
          ]
        },
        {
          "output_type": "stream",
          "name": "stderr",
          "text": []
        },
        {
          "output_type": "stream",
          "name": "stdout",
          "text": [
            "Epoch 125/200 - Loss: 0.607, Accuracy: 78.83%\n",
            "Saved new best model with accuracy: 78.83%\n",
            "epoch=125\n"
          ]
        },
        {
          "output_type": "stream",
          "name": "stderr",
          "text": []
        },
        {
          "output_type": "stream",
          "name": "stdout",
          "text": [
            "Epoch 126/200 - Loss: 0.600, Accuracy: 76.94%\n",
            "epoch=126\n"
          ]
        },
        {
          "output_type": "stream",
          "name": "stderr",
          "text": []
        },
        {
          "output_type": "stream",
          "name": "stdout",
          "text": [
            "Epoch 127/200 - Loss: 0.598, Accuracy: 78.10%\n",
            "epoch=127\n"
          ]
        },
        {
          "output_type": "stream",
          "name": "stderr",
          "text": []
        },
        {
          "output_type": "stream",
          "name": "stdout",
          "text": [
            "Epoch 128/200 - Loss: 0.591, Accuracy: 78.16%\n",
            "epoch=128\n"
          ]
        },
        {
          "output_type": "stream",
          "name": "stderr",
          "text": []
        },
        {
          "output_type": "stream",
          "name": "stdout",
          "text": [
            "Epoch 129/200 - Loss: 0.589, Accuracy: 79.30%\n",
            "Saved new best model with accuracy: 79.30%\n",
            "epoch=129\n"
          ]
        },
        {
          "output_type": "stream",
          "name": "stderr",
          "text": []
        },
        {
          "output_type": "stream",
          "name": "stdout",
          "text": [
            "Epoch 130/200 - Loss: 0.584, Accuracy: 76.63%\n",
            "epoch=130\n"
          ]
        },
        {
          "output_type": "stream",
          "name": "stderr",
          "text": []
        },
        {
          "output_type": "stream",
          "name": "stdout",
          "text": [
            "Epoch 131/200 - Loss: 0.575, Accuracy: 77.59%\n",
            "epoch=131\n"
          ]
        },
        {
          "output_type": "stream",
          "name": "stderr",
          "text": []
        },
        {
          "output_type": "stream",
          "name": "stdout",
          "text": [
            "Epoch 132/200 - Loss: 0.574, Accuracy: 77.86%\n",
            "epoch=132\n"
          ]
        },
        {
          "output_type": "stream",
          "name": "stderr",
          "text": []
        },
        {
          "output_type": "stream",
          "name": "stdout",
          "text": [
            "Epoch 133/200 - Loss: 0.561, Accuracy: 80.60%\n",
            "Saved new best model with accuracy: 80.60%\n",
            "epoch=133\n"
          ]
        },
        {
          "output_type": "stream",
          "name": "stderr",
          "text": []
        },
        {
          "output_type": "stream",
          "name": "stdout",
          "text": [
            "Epoch 134/200 - Loss: 0.560, Accuracy: 81.27%\n",
            "Saved new best model with accuracy: 81.27%\n",
            "epoch=134\n"
          ]
        },
        {
          "output_type": "stream",
          "name": "stderr",
          "text": []
        },
        {
          "output_type": "stream",
          "name": "stdout",
          "text": [
            "Epoch 135/200 - Loss: 0.554, Accuracy: 79.95%\n",
            "epoch=135\n"
          ]
        },
        {
          "output_type": "stream",
          "name": "stderr",
          "text": []
        },
        {
          "output_type": "stream",
          "name": "stdout",
          "text": [
            "Epoch 136/200 - Loss: 0.540, Accuracy: 77.93%\n",
            "epoch=136\n"
          ]
        },
        {
          "output_type": "stream",
          "name": "stderr",
          "text": []
        },
        {
          "output_type": "stream",
          "name": "stdout",
          "text": [
            "Epoch 137/200 - Loss: 0.535, Accuracy: 80.44%\n",
            "epoch=137\n"
          ]
        },
        {
          "output_type": "stream",
          "name": "stderr",
          "text": []
        },
        {
          "output_type": "stream",
          "name": "stdout",
          "text": [
            "Epoch 138/200 - Loss: 0.535, Accuracy: 80.02%\n",
            "epoch=138\n"
          ]
        },
        {
          "output_type": "stream",
          "name": "stderr",
          "text": []
        },
        {
          "output_type": "stream",
          "name": "stdout",
          "text": [
            "Epoch 139/200 - Loss: 0.524, Accuracy: 80.54%\n",
            "epoch=139\n"
          ]
        },
        {
          "output_type": "stream",
          "name": "stderr",
          "text": []
        },
        {
          "output_type": "stream",
          "name": "stdout",
          "text": [
            "Epoch 140/200 - Loss: 0.515, Accuracy: 80.72%\n",
            "epoch=140\n"
          ]
        },
        {
          "output_type": "stream",
          "name": "stderr",
          "text": []
        },
        {
          "output_type": "stream",
          "name": "stdout",
          "text": [
            "Epoch 141/200 - Loss: 0.504, Accuracy: 81.03%\n",
            "epoch=141\n"
          ]
        },
        {
          "output_type": "stream",
          "name": "stderr",
          "text": []
        },
        {
          "output_type": "stream",
          "name": "stdout",
          "text": [
            "Epoch 142/200 - Loss: 0.502, Accuracy: 79.60%\n",
            "epoch=142\n"
          ]
        },
        {
          "output_type": "stream",
          "name": "stderr",
          "text": []
        },
        {
          "output_type": "stream",
          "name": "stdout",
          "text": [
            "Epoch 143/200 - Loss: 0.495, Accuracy: 81.32%\n",
            "Saved new best model with accuracy: 81.32%\n",
            "epoch=143\n"
          ]
        },
        {
          "output_type": "stream",
          "name": "stderr",
          "text": []
        },
        {
          "output_type": "stream",
          "name": "stdout",
          "text": [
            "Epoch 144/200 - Loss: 0.492, Accuracy: 79.67%\n",
            "epoch=144\n"
          ]
        },
        {
          "output_type": "stream",
          "name": "stderr",
          "text": []
        },
        {
          "output_type": "stream",
          "name": "stdout",
          "text": [
            "Epoch 145/200 - Loss: 0.487, Accuracy: 81.41%\n",
            "Saved new best model with accuracy: 81.41%\n",
            "epoch=145\n"
          ]
        },
        {
          "output_type": "stream",
          "name": "stderr",
          "text": []
        },
        {
          "output_type": "stream",
          "name": "stdout",
          "text": [
            "Epoch 146/200 - Loss: 0.474, Accuracy: 82.48%\n",
            "Saved new best model with accuracy: 82.48%\n",
            "epoch=146\n"
          ]
        },
        {
          "output_type": "stream",
          "name": "stderr",
          "text": []
        },
        {
          "output_type": "stream",
          "name": "stdout",
          "text": [
            "Epoch 147/200 - Loss: 0.468, Accuracy: 82.62%\n",
            "Saved new best model with accuracy: 82.62%\n",
            "epoch=147\n"
          ]
        },
        {
          "output_type": "stream",
          "name": "stderr",
          "text": []
        },
        {
          "output_type": "stream",
          "name": "stdout",
          "text": [
            "Epoch 148/200 - Loss: 0.463, Accuracy: 82.48%\n",
            "epoch=148\n"
          ]
        },
        {
          "output_type": "stream",
          "name": "stderr",
          "text": []
        },
        {
          "output_type": "stream",
          "name": "stdout",
          "text": [
            "Epoch 149/200 - Loss: 0.458, Accuracy: 82.85%\n",
            "Saved new best model with accuracy: 82.85%\n",
            "epoch=149\n"
          ]
        },
        {
          "output_type": "stream",
          "name": "stderr",
          "text": []
        },
        {
          "output_type": "stream",
          "name": "stdout",
          "text": [
            "Epoch 150/200 - Loss: 0.443, Accuracy: 82.24%\n",
            "epoch=150\n"
          ]
        },
        {
          "output_type": "stream",
          "name": "stderr",
          "text": []
        },
        {
          "output_type": "stream",
          "name": "stdout",
          "text": [
            "Epoch 151/200 - Loss: 0.437, Accuracy: 81.93%\n",
            "epoch=151\n"
          ]
        },
        {
          "output_type": "stream",
          "name": "stderr",
          "text": []
        },
        {
          "output_type": "stream",
          "name": "stdout",
          "text": [
            "Epoch 152/200 - Loss: 0.427, Accuracy: 81.40%\n",
            "epoch=152\n"
          ]
        },
        {
          "output_type": "stream",
          "name": "stderr",
          "text": []
        },
        {
          "output_type": "stream",
          "name": "stdout",
          "text": [
            "Epoch 153/200 - Loss: 0.420, Accuracy: 81.11%\n",
            "epoch=153\n"
          ]
        },
        {
          "output_type": "stream",
          "name": "stderr",
          "text": []
        },
        {
          "output_type": "stream",
          "name": "stdout",
          "text": [
            "Epoch 154/200 - Loss: 0.414, Accuracy: 83.81%\n",
            "Saved new best model with accuracy: 83.81%\n",
            "epoch=154\n"
          ]
        },
        {
          "output_type": "stream",
          "name": "stderr",
          "text": []
        },
        {
          "output_type": "stream",
          "name": "stdout",
          "text": [
            "Epoch 155/200 - Loss: 0.411, Accuracy: 83.02%\n",
            "epoch=155\n"
          ]
        },
        {
          "output_type": "stream",
          "name": "stderr",
          "text": []
        },
        {
          "output_type": "stream",
          "name": "stdout",
          "text": [
            "Epoch 156/200 - Loss: 0.406, Accuracy: 81.89%\n",
            "epoch=156\n"
          ]
        },
        {
          "output_type": "stream",
          "name": "stderr",
          "text": []
        },
        {
          "output_type": "stream",
          "name": "stdout",
          "text": [
            "Epoch 157/200 - Loss: 0.388, Accuracy: 83.08%\n",
            "epoch=157\n"
          ]
        },
        {
          "output_type": "stream",
          "name": "stderr",
          "text": []
        },
        {
          "output_type": "stream",
          "name": "stdout",
          "text": [
            "Epoch 158/200 - Loss: 0.382, Accuracy: 83.87%\n",
            "Saved new best model with accuracy: 83.87%\n",
            "epoch=158\n"
          ]
        },
        {
          "output_type": "stream",
          "name": "stderr",
          "text": []
        },
        {
          "output_type": "stream",
          "name": "stdout",
          "text": [
            "Epoch 159/200 - Loss: 0.375, Accuracy: 83.32%\n",
            "epoch=159\n"
          ]
        },
        {
          "output_type": "stream",
          "name": "stderr",
          "text": []
        },
        {
          "output_type": "stream",
          "name": "stdout",
          "text": [
            "Epoch 160/200 - Loss: 0.365, Accuracy: 84.54%\n",
            "Saved new best model with accuracy: 84.54%\n",
            "epoch=160\n"
          ]
        },
        {
          "output_type": "stream",
          "name": "stderr",
          "text": []
        },
        {
          "output_type": "stream",
          "name": "stdout",
          "text": [
            "Epoch 161/200 - Loss: 0.355, Accuracy: 84.37%\n",
            "epoch=161\n"
          ]
        },
        {
          "output_type": "stream",
          "name": "stderr",
          "text": []
        },
        {
          "output_type": "stream",
          "name": "stdout",
          "text": [
            "Epoch 162/200 - Loss: 0.345, Accuracy: 85.49%\n",
            "Saved new best model with accuracy: 85.49%\n",
            "epoch=162\n"
          ]
        },
        {
          "output_type": "stream",
          "name": "stderr",
          "text": []
        },
        {
          "output_type": "stream",
          "name": "stdout",
          "text": [
            "Epoch 163/200 - Loss: 0.336, Accuracy: 84.94%\n",
            "epoch=163\n"
          ]
        },
        {
          "output_type": "stream",
          "name": "stderr",
          "text": []
        },
        {
          "output_type": "stream",
          "name": "stdout",
          "text": [
            "Epoch 164/200 - Loss: 0.330, Accuracy: 85.04%\n",
            "epoch=164\n"
          ]
        },
        {
          "output_type": "stream",
          "name": "stderr",
          "text": []
        },
        {
          "output_type": "stream",
          "name": "stdout",
          "text": [
            "Epoch 165/200 - Loss: 0.322, Accuracy: 84.81%\n",
            "epoch=165\n"
          ]
        },
        {
          "output_type": "stream",
          "name": "stderr",
          "text": []
        },
        {
          "output_type": "stream",
          "name": "stdout",
          "text": [
            "Epoch 166/200 - Loss: 0.309, Accuracy: 85.57%\n",
            "Saved new best model with accuracy: 85.57%\n",
            "epoch=166\n"
          ]
        },
        {
          "output_type": "stream",
          "name": "stderr",
          "text": []
        },
        {
          "output_type": "stream",
          "name": "stdout",
          "text": [
            "Epoch 167/200 - Loss: 0.297, Accuracy: 85.68%\n",
            "Saved new best model with accuracy: 85.68%\n",
            "epoch=167\n"
          ]
        },
        {
          "output_type": "stream",
          "name": "stderr",
          "text": []
        },
        {
          "output_type": "stream",
          "name": "stdout",
          "text": [
            "Epoch 168/200 - Loss: 0.288, Accuracy: 85.03%\n",
            "epoch=168\n"
          ]
        },
        {
          "output_type": "stream",
          "name": "stderr",
          "text": []
        },
        {
          "output_type": "stream",
          "name": "stdout",
          "text": [
            "Epoch 169/200 - Loss: 0.274, Accuracy: 86.43%\n",
            "Saved new best model with accuracy: 86.43%\n",
            "epoch=169\n"
          ]
        },
        {
          "output_type": "stream",
          "name": "stderr",
          "text": []
        },
        {
          "output_type": "stream",
          "name": "stdout",
          "text": [
            "Epoch 170/200 - Loss: 0.269, Accuracy: 85.05%\n",
            "epoch=170\n"
          ]
        },
        {
          "output_type": "stream",
          "name": "stderr",
          "text": []
        },
        {
          "output_type": "stream",
          "name": "stdout",
          "text": [
            "Epoch 171/200 - Loss: 0.253, Accuracy: 86.50%\n",
            "Saved new best model with accuracy: 86.50%\n",
            "epoch=171\n"
          ]
        },
        {
          "output_type": "stream",
          "name": "stderr",
          "text": []
        },
        {
          "output_type": "stream",
          "name": "stdout",
          "text": [
            "Epoch 172/200 - Loss: 0.252, Accuracy: 86.86%\n",
            "Saved new best model with accuracy: 86.86%\n",
            "epoch=172\n"
          ]
        },
        {
          "output_type": "stream",
          "name": "stderr",
          "text": []
        },
        {
          "output_type": "stream",
          "name": "stdout",
          "text": [
            "Epoch 173/200 - Loss: 0.242, Accuracy: 86.41%\n",
            "epoch=173\n"
          ]
        },
        {
          "output_type": "stream",
          "name": "stderr",
          "text": []
        },
        {
          "output_type": "stream",
          "name": "stdout",
          "text": [
            "Epoch 174/200 - Loss: 0.224, Accuracy: 86.57%\n",
            "epoch=174\n"
          ]
        },
        {
          "output_type": "stream",
          "name": "stderr",
          "text": []
        },
        {
          "output_type": "stream",
          "name": "stdout",
          "text": [
            "Epoch 175/200 - Loss: 0.217, Accuracy: 87.21%\n",
            "Saved new best model with accuracy: 87.21%\n",
            "epoch=175\n"
          ]
        },
        {
          "output_type": "stream",
          "name": "stderr",
          "text": []
        },
        {
          "output_type": "stream",
          "name": "stdout",
          "text": [
            "Epoch 176/200 - Loss: 0.203, Accuracy: 87.09%\n",
            "epoch=176\n"
          ]
        },
        {
          "output_type": "stream",
          "name": "stderr",
          "text": []
        },
        {
          "output_type": "stream",
          "name": "stdout",
          "text": [
            "Epoch 177/200 - Loss: 0.195, Accuracy: 87.53%\n",
            "Saved new best model with accuracy: 87.53%\n",
            "epoch=177\n"
          ]
        },
        {
          "output_type": "stream",
          "name": "stderr",
          "text": []
        },
        {
          "output_type": "stream",
          "name": "stdout",
          "text": [
            "Epoch 178/200 - Loss: 0.185, Accuracy: 87.59%\n",
            "Saved new best model with accuracy: 87.59%\n",
            "epoch=178\n"
          ]
        },
        {
          "output_type": "stream",
          "name": "stderr",
          "text": []
        },
        {
          "output_type": "stream",
          "name": "stdout",
          "text": [
            "Epoch 179/200 - Loss: 0.174, Accuracy: 87.69%\n",
            "Saved new best model with accuracy: 87.69%\n",
            "epoch=179\n"
          ]
        },
        {
          "output_type": "stream",
          "name": "stderr",
          "text": []
        },
        {
          "output_type": "stream",
          "name": "stdout",
          "text": [
            "Epoch 180/200 - Loss: 0.163, Accuracy: 87.88%\n",
            "Saved new best model with accuracy: 87.88%\n",
            "epoch=180\n"
          ]
        },
        {
          "output_type": "stream",
          "name": "stderr",
          "text": []
        },
        {
          "output_type": "stream",
          "name": "stdout",
          "text": [
            "Epoch 181/200 - Loss: 0.150, Accuracy: 87.78%\n",
            "epoch=181\n"
          ]
        },
        {
          "output_type": "stream",
          "name": "stderr",
          "text": []
        },
        {
          "output_type": "stream",
          "name": "stdout",
          "text": [
            "Epoch 182/200 - Loss: 0.139, Accuracy: 87.90%\n",
            "Saved new best model with accuracy: 87.90%\n",
            "epoch=182\n"
          ]
        },
        {
          "output_type": "stream",
          "name": "stderr",
          "text": []
        },
        {
          "output_type": "stream",
          "name": "stdout",
          "text": [
            "Epoch 183/200 - Loss: 0.139, Accuracy: 87.91%\n",
            "Saved new best model with accuracy: 87.91%\n",
            "epoch=183\n"
          ]
        },
        {
          "output_type": "stream",
          "name": "stderr",
          "text": []
        },
        {
          "output_type": "stream",
          "name": "stdout",
          "text": [
            "Epoch 184/200 - Loss: 0.123, Accuracy: 88.16%\n",
            "Saved new best model with accuracy: 88.16%\n",
            "epoch=184\n"
          ]
        },
        {
          "output_type": "stream",
          "name": "stderr",
          "text": []
        },
        {
          "output_type": "stream",
          "name": "stdout",
          "text": [
            "Epoch 185/200 - Loss: 0.115, Accuracy: 88.08%\n",
            "epoch=185\n"
          ]
        },
        {
          "output_type": "stream",
          "name": "stderr",
          "text": []
        },
        {
          "output_type": "stream",
          "name": "stdout",
          "text": [
            "Epoch 186/200 - Loss: 0.101, Accuracy: 88.23%\n",
            "Saved new best model with accuracy: 88.23%\n",
            "epoch=186\n"
          ]
        },
        {
          "output_type": "stream",
          "name": "stderr",
          "text": []
        },
        {
          "output_type": "stream",
          "name": "stdout",
          "text": [
            "Epoch 187/200 - Loss: 0.099, Accuracy: 88.69%\n",
            "Saved new best model with accuracy: 88.69%\n",
            "epoch=187\n"
          ]
        },
        {
          "output_type": "stream",
          "name": "stderr",
          "text": []
        },
        {
          "output_type": "stream",
          "name": "stdout",
          "text": [
            "Epoch 188/200 - Loss: 0.090, Accuracy: 88.36%\n",
            "epoch=188\n"
          ]
        },
        {
          "output_type": "stream",
          "name": "stderr",
          "text": []
        },
        {
          "output_type": "stream",
          "name": "stdout",
          "text": [
            "Epoch 189/200 - Loss: 0.085, Accuracy: 88.24%\n",
            "epoch=189\n"
          ]
        },
        {
          "output_type": "stream",
          "name": "stderr",
          "text": []
        },
        {
          "output_type": "stream",
          "name": "stdout",
          "text": [
            "Epoch 190/200 - Loss: 0.076, Accuracy: 88.52%\n",
            "epoch=190\n"
          ]
        },
        {
          "output_type": "stream",
          "name": "stderr",
          "text": []
        },
        {
          "output_type": "stream",
          "name": "stdout",
          "text": [
            "Epoch 191/200 - Loss: 0.073, Accuracy: 88.65%\n",
            "epoch=191\n"
          ]
        },
        {
          "output_type": "stream",
          "name": "stderr",
          "text": []
        },
        {
          "output_type": "stream",
          "name": "stdout",
          "text": [
            "Epoch 192/200 - Loss: 0.067, Accuracy: 88.69%\n",
            "epoch=192\n"
          ]
        },
        {
          "output_type": "stream",
          "name": "stderr",
          "text": []
        },
        {
          "output_type": "stream",
          "name": "stdout",
          "text": [
            "Epoch 193/200 - Loss: 0.063, Accuracy: 88.51%\n",
            "epoch=193\n"
          ]
        },
        {
          "output_type": "stream",
          "name": "stderr",
          "text": []
        },
        {
          "output_type": "stream",
          "name": "stdout",
          "text": [
            "Epoch 194/200 - Loss: 0.058, Accuracy: 88.89%\n",
            "Saved new best model with accuracy: 88.89%\n",
            "epoch=194\n"
          ]
        },
        {
          "output_type": "stream",
          "name": "stderr",
          "text": []
        },
        {
          "output_type": "stream",
          "name": "stdout",
          "text": [
            "Epoch 195/200 - Loss: 0.056, Accuracy: 88.69%\n",
            "epoch=195\n"
          ]
        },
        {
          "output_type": "stream",
          "name": "stderr",
          "text": []
        },
        {
          "output_type": "stream",
          "name": "stdout",
          "text": [
            "Epoch 196/200 - Loss: 0.056, Accuracy: 88.76%\n",
            "epoch=196\n"
          ]
        },
        {
          "output_type": "stream",
          "name": "stderr",
          "text": []
        },
        {
          "output_type": "stream",
          "name": "stdout",
          "text": [
            "Epoch 197/200 - Loss: 0.054, Accuracy: 88.83%\n",
            "epoch=197\n"
          ]
        },
        {
          "output_type": "stream",
          "name": "stderr",
          "text": []
        },
        {
          "output_type": "stream",
          "name": "stdout",
          "text": [
            "Epoch 198/200 - Loss: 0.053, Accuracy: 88.82%\n",
            "epoch=198\n"
          ]
        },
        {
          "output_type": "stream",
          "name": "stderr",
          "text": []
        },
        {
          "output_type": "stream",
          "name": "stdout",
          "text": [
            "Epoch 199/200 - Loss: 0.052, Accuracy: 88.88%\n",
            "epoch=199\n"
          ]
        },
        {
          "output_type": "stream",
          "name": "stderr",
          "text": []
        },
        {
          "output_type": "stream",
          "name": "stdout",
          "text": [
            "Epoch 200/200 - Loss: 0.050, Accuracy: 88.91%\n",
            "Saved new best model with accuracy: 88.91%\n",
            "Total weight sparsity in the model: 9.99%\n",
            "-----------------------pruning_rate=0.2------------------------\n",
            "Files already downloaded and verified\n",
            "Files already downloaded and verified\n",
            "epoch=0\n"
          ]
        },
        {
          "output_type": "stream",
          "name": "stderr",
          "text": []
        },
        {
          "output_type": "stream",
          "name": "stdout",
          "text": [
            "Epoch 1/10 - Loss: 3.688, Accuracy: 18.11%\n",
            "Total weight sparsity in the model: 2.00%\n",
            "epoch=1\n"
          ]
        },
        {
          "output_type": "stream",
          "name": "stderr",
          "text": []
        },
        {
          "output_type": "stream",
          "name": "stdout",
          "text": [
            "Epoch 2/10 - Loss: 2.106, Accuracy: 19.39%\n",
            "Total weight sparsity in the model: 4.00%\n",
            "epoch=2\n"
          ]
        },
        {
          "output_type": "stream",
          "name": "stderr",
          "text": []
        },
        {
          "output_type": "stream",
          "name": "stdout",
          "text": [
            "Epoch 3/10 - Loss: 1.956, Accuracy: 28.60%\n",
            "Total weight sparsity in the model: 5.99%\n",
            "epoch=3\n"
          ]
        },
        {
          "output_type": "stream",
          "name": "stderr",
          "text": []
        },
        {
          "output_type": "stream",
          "name": "stdout",
          "text": [
            "Epoch 4/10 - Loss: 1.767, Accuracy: 39.03%\n",
            "Total weight sparsity in the model: 7.99%\n",
            "epoch=4\n"
          ]
        },
        {
          "output_type": "stream",
          "name": "stderr",
          "text": []
        },
        {
          "output_type": "stream",
          "name": "stdout",
          "text": [
            "Epoch 5/10 - Loss: 1.646, Accuracy: 43.73%\n",
            "Total weight sparsity in the model: 9.99%\n",
            "epoch=5\n"
          ]
        },
        {
          "output_type": "stream",
          "name": "stderr",
          "text": []
        },
        {
          "output_type": "stream",
          "name": "stdout",
          "text": [
            "Epoch 6/10 - Loss: 1.553, Accuracy: 44.72%\n",
            "Total weight sparsity in the model: 11.99%\n",
            "epoch=6\n"
          ]
        },
        {
          "output_type": "stream",
          "name": "stderr",
          "text": []
        },
        {
          "output_type": "stream",
          "name": "stdout",
          "text": [
            "Epoch 7/10 - Loss: 1.487, Accuracy: 49.26%\n",
            "Total weight sparsity in the model: 13.99%\n",
            "epoch=7\n"
          ]
        },
        {
          "output_type": "stream",
          "name": "stderr",
          "text": []
        },
        {
          "output_type": "stream",
          "name": "stdout",
          "text": [
            "Epoch 8/10 - Loss: 1.413, Accuracy: 49.98%\n",
            "Total weight sparsity in the model: 15.98%\n",
            "epoch=8\n"
          ]
        },
        {
          "output_type": "stream",
          "name": "stderr",
          "text": []
        },
        {
          "output_type": "stream",
          "name": "stdout",
          "text": [
            "Epoch 9/10 - Loss: 1.364, Accuracy: 54.89%\n",
            "Total weight sparsity in the model: 17.98%\n",
            "epoch=9\n"
          ]
        },
        {
          "output_type": "stream",
          "name": "stderr",
          "text": []
        },
        {
          "output_type": "stream",
          "name": "stdout",
          "text": [
            "Epoch 10/10 - Loss: 1.281, Accuracy: 55.51%\n",
            "Total weight sparsity in the model: 19.98%\n",
            "epoch=10\n"
          ]
        },
        {
          "output_type": "stream",
          "name": "stderr",
          "text": []
        },
        {
          "output_type": "stream",
          "name": "stdout",
          "text": [
            "Epoch 11/200 - Loss: 1.216, Accuracy: 53.00%\n",
            "Saved new best model with accuracy: 53.00%\n",
            "epoch=11\n"
          ]
        },
        {
          "output_type": "stream",
          "name": "stderr",
          "text": []
        },
        {
          "output_type": "stream",
          "name": "stdout",
          "text": [
            "Epoch 12/200 - Loss: 1.186, Accuracy: 60.88%\n",
            "Saved new best model with accuracy: 60.88%\n",
            "epoch=12\n"
          ]
        },
        {
          "output_type": "stream",
          "name": "stderr",
          "text": []
        },
        {
          "output_type": "stream",
          "name": "stdout",
          "text": [
            "Epoch 13/200 - Loss: 1.150, Accuracy: 57.71%\n",
            "epoch=13\n"
          ]
        },
        {
          "output_type": "stream",
          "name": "stderr",
          "text": []
        },
        {
          "output_type": "stream",
          "name": "stdout",
          "text": [
            "Epoch 14/200 - Loss: 1.124, Accuracy: 54.88%\n",
            "epoch=14\n"
          ]
        },
        {
          "output_type": "stream",
          "name": "stderr",
          "text": []
        },
        {
          "output_type": "stream",
          "name": "stdout",
          "text": [
            "Epoch 15/200 - Loss: 1.108, Accuracy: 59.47%\n",
            "epoch=15\n"
          ]
        },
        {
          "output_type": "stream",
          "name": "stderr",
          "text": []
        },
        {
          "output_type": "stream",
          "name": "stdout",
          "text": [
            "Epoch 16/200 - Loss: 1.093, Accuracy: 55.00%\n",
            "epoch=16\n"
          ]
        },
        {
          "output_type": "stream",
          "name": "stderr",
          "text": []
        },
        {
          "output_type": "stream",
          "name": "stdout",
          "text": [
            "Epoch 17/200 - Loss: 1.074, Accuracy: 64.28%\n",
            "Saved new best model with accuracy: 64.28%\n",
            "epoch=17\n"
          ]
        },
        {
          "output_type": "stream",
          "name": "stderr",
          "text": []
        },
        {
          "output_type": "stream",
          "name": "stdout",
          "text": [
            "Epoch 18/200 - Loss: 1.055, Accuracy: 63.78%\n",
            "epoch=18\n"
          ]
        },
        {
          "output_type": "stream",
          "name": "stderr",
          "text": []
        },
        {
          "output_type": "stream",
          "name": "stdout",
          "text": [
            "Epoch 19/200 - Loss: 1.046, Accuracy: 66.53%\n",
            "Saved new best model with accuracy: 66.53%\n",
            "epoch=19\n"
          ]
        },
        {
          "output_type": "stream",
          "name": "stderr",
          "text": []
        },
        {
          "output_type": "stream",
          "name": "stdout",
          "text": [
            "Epoch 20/200 - Loss: 1.030, Accuracy: 63.09%\n",
            "epoch=20\n"
          ]
        },
        {
          "output_type": "stream",
          "name": "stderr",
          "text": []
        },
        {
          "output_type": "stream",
          "name": "stdout",
          "text": [
            "Epoch 21/200 - Loss: 1.029, Accuracy: 65.25%\n",
            "epoch=21\n"
          ]
        },
        {
          "output_type": "stream",
          "name": "stderr",
          "text": []
        },
        {
          "output_type": "stream",
          "name": "stdout",
          "text": [
            "Epoch 22/200 - Loss: 1.017, Accuracy: 66.78%\n",
            "Saved new best model with accuracy: 66.78%\n",
            "epoch=22\n"
          ]
        },
        {
          "output_type": "stream",
          "name": "stderr",
          "text": []
        },
        {
          "output_type": "stream",
          "name": "stdout",
          "text": [
            "Epoch 23/200 - Loss: 1.012, Accuracy: 64.74%\n",
            "epoch=23\n"
          ]
        },
        {
          "output_type": "stream",
          "name": "stderr",
          "text": []
        },
        {
          "output_type": "stream",
          "name": "stdout",
          "text": [
            "Epoch 24/200 - Loss: 1.001, Accuracy: 58.16%\n",
            "epoch=24\n"
          ]
        },
        {
          "output_type": "stream",
          "name": "stderr",
          "text": []
        },
        {
          "output_type": "stream",
          "name": "stdout",
          "text": [
            "Epoch 25/200 - Loss: 0.998, Accuracy: 65.59%\n",
            "epoch=25\n"
          ]
        },
        {
          "output_type": "stream",
          "name": "stderr",
          "text": []
        },
        {
          "output_type": "stream",
          "name": "stdout",
          "text": [
            "Epoch 26/200 - Loss: 0.984, Accuracy: 66.64%\n",
            "epoch=26\n"
          ]
        },
        {
          "output_type": "stream",
          "name": "stderr",
          "text": []
        },
        {
          "output_type": "stream",
          "name": "stdout",
          "text": [
            "Epoch 27/200 - Loss: 0.990, Accuracy: 66.60%\n",
            "epoch=27\n"
          ]
        },
        {
          "output_type": "stream",
          "name": "stderr",
          "text": []
        },
        {
          "output_type": "stream",
          "name": "stdout",
          "text": [
            "Epoch 28/200 - Loss: 0.980, Accuracy: 64.27%\n",
            "epoch=28\n"
          ]
        },
        {
          "output_type": "stream",
          "name": "stderr",
          "text": []
        },
        {
          "output_type": "stream",
          "name": "stdout",
          "text": [
            "Epoch 29/200 - Loss: 0.984, Accuracy: 62.66%\n",
            "epoch=29\n"
          ]
        },
        {
          "output_type": "stream",
          "name": "stderr",
          "text": []
        },
        {
          "output_type": "stream",
          "name": "stdout",
          "text": [
            "Epoch 30/200 - Loss: 0.982, Accuracy: 64.43%\n",
            "epoch=30\n"
          ]
        },
        {
          "output_type": "stream",
          "name": "stderr",
          "text": []
        },
        {
          "output_type": "stream",
          "name": "stdout",
          "text": [
            "Epoch 31/200 - Loss: 0.974, Accuracy: 60.08%\n",
            "epoch=31\n"
          ]
        },
        {
          "output_type": "stream",
          "name": "stderr",
          "text": []
        },
        {
          "output_type": "stream",
          "name": "stdout",
          "text": [
            "Epoch 32/200 - Loss: 0.971, Accuracy: 65.48%\n",
            "epoch=32\n"
          ]
        },
        {
          "output_type": "stream",
          "name": "stderr",
          "text": []
        },
        {
          "output_type": "stream",
          "name": "stdout",
          "text": [
            "Epoch 33/200 - Loss: 0.966, Accuracy: 68.74%\n",
            "Saved new best model with accuracy: 68.74%\n",
            "epoch=33\n"
          ]
        },
        {
          "output_type": "stream",
          "name": "stderr",
          "text": []
        },
        {
          "output_type": "stream",
          "name": "stdout",
          "text": [
            "Epoch 34/200 - Loss: 0.958, Accuracy: 65.09%\n",
            "epoch=34\n"
          ]
        },
        {
          "output_type": "stream",
          "name": "stderr",
          "text": []
        },
        {
          "output_type": "stream",
          "name": "stdout",
          "text": [
            "Epoch 35/200 - Loss: 0.957, Accuracy: 63.81%\n",
            "epoch=35\n"
          ]
        },
        {
          "output_type": "stream",
          "name": "stderr",
          "text": []
        },
        {
          "output_type": "stream",
          "name": "stdout",
          "text": [
            "Epoch 36/200 - Loss: 0.958, Accuracy: 66.33%\n",
            "epoch=36\n"
          ]
        },
        {
          "output_type": "stream",
          "name": "stderr",
          "text": []
        },
        {
          "output_type": "stream",
          "name": "stdout",
          "text": [
            "Epoch 37/200 - Loss: 0.951, Accuracy: 66.90%\n",
            "epoch=37\n"
          ]
        },
        {
          "output_type": "stream",
          "name": "stderr",
          "text": []
        },
        {
          "output_type": "stream",
          "name": "stdout",
          "text": [
            "Epoch 38/200 - Loss: 0.948, Accuracy: 66.52%\n",
            "epoch=38\n"
          ]
        },
        {
          "output_type": "stream",
          "name": "stderr",
          "text": []
        },
        {
          "output_type": "stream",
          "name": "stdout",
          "text": [
            "Epoch 39/200 - Loss: 0.944, Accuracy: 63.94%\n",
            "epoch=39\n"
          ]
        },
        {
          "output_type": "stream",
          "name": "stderr",
          "text": []
        },
        {
          "output_type": "stream",
          "name": "stdout",
          "text": [
            "Epoch 40/200 - Loss: 0.947, Accuracy: 67.43%\n",
            "epoch=40\n"
          ]
        },
        {
          "output_type": "stream",
          "name": "stderr",
          "text": []
        },
        {
          "output_type": "stream",
          "name": "stdout",
          "text": [
            "Epoch 41/200 - Loss: 0.934, Accuracy: 60.76%\n",
            "epoch=41\n"
          ]
        },
        {
          "output_type": "stream",
          "name": "stderr",
          "text": []
        },
        {
          "output_type": "stream",
          "name": "stdout",
          "text": [
            "Epoch 42/200 - Loss: 0.935, Accuracy: 66.79%\n",
            "epoch=42\n"
          ]
        },
        {
          "output_type": "stream",
          "name": "stderr",
          "text": []
        },
        {
          "output_type": "stream",
          "name": "stdout",
          "text": [
            "Epoch 43/200 - Loss: 0.929, Accuracy: 62.15%\n",
            "epoch=43\n"
          ]
        },
        {
          "output_type": "stream",
          "name": "stderr",
          "text": []
        },
        {
          "output_type": "stream",
          "name": "stdout",
          "text": [
            "Epoch 44/200 - Loss: 0.930, Accuracy: 66.54%\n",
            "epoch=44\n"
          ]
        },
        {
          "output_type": "stream",
          "name": "stderr",
          "text": []
        },
        {
          "output_type": "stream",
          "name": "stdout",
          "text": [
            "Epoch 45/200 - Loss: 0.927, Accuracy: 68.68%\n",
            "epoch=45\n"
          ]
        },
        {
          "output_type": "stream",
          "name": "stderr",
          "text": []
        },
        {
          "output_type": "stream",
          "name": "stdout",
          "text": [
            "Epoch 46/200 - Loss: 0.923, Accuracy: 66.79%\n",
            "epoch=46\n"
          ]
        },
        {
          "output_type": "stream",
          "name": "stderr",
          "text": []
        },
        {
          "output_type": "stream",
          "name": "stdout",
          "text": [
            "Epoch 47/200 - Loss: 0.920, Accuracy: 69.49%\n",
            "Saved new best model with accuracy: 69.49%\n",
            "epoch=47\n"
          ]
        },
        {
          "output_type": "stream",
          "name": "stderr",
          "text": []
        },
        {
          "output_type": "stream",
          "name": "stdout",
          "text": [
            "Epoch 48/200 - Loss: 0.921, Accuracy: 68.29%\n",
            "epoch=48\n"
          ]
        },
        {
          "output_type": "stream",
          "name": "stderr",
          "text": []
        },
        {
          "output_type": "stream",
          "name": "stdout",
          "text": [
            "Epoch 49/200 - Loss: 0.906, Accuracy: 67.24%\n",
            "epoch=49\n"
          ]
        },
        {
          "output_type": "stream",
          "name": "stderr",
          "text": []
        },
        {
          "output_type": "stream",
          "name": "stdout",
          "text": [
            "Epoch 50/200 - Loss: 0.914, Accuracy: 63.67%\n",
            "epoch=50\n"
          ]
        },
        {
          "output_type": "stream",
          "name": "stderr",
          "text": []
        },
        {
          "output_type": "stream",
          "name": "stdout",
          "text": [
            "Epoch 51/200 - Loss: 0.922, Accuracy: 71.60%\n",
            "Saved new best model with accuracy: 71.60%\n",
            "epoch=51\n"
          ]
        },
        {
          "output_type": "stream",
          "name": "stderr",
          "text": []
        },
        {
          "output_type": "stream",
          "name": "stdout",
          "text": [
            "Epoch 52/200 - Loss: 0.907, Accuracy: 68.70%\n",
            "epoch=52\n"
          ]
        },
        {
          "output_type": "stream",
          "name": "stderr",
          "text": []
        },
        {
          "output_type": "stream",
          "name": "stdout",
          "text": [
            "Epoch 53/200 - Loss: 0.898, Accuracy: 68.34%\n",
            "epoch=53\n"
          ]
        },
        {
          "output_type": "stream",
          "name": "stderr",
          "text": []
        },
        {
          "output_type": "stream",
          "name": "stdout",
          "text": [
            "Epoch 54/200 - Loss: 0.902, Accuracy: 64.26%\n",
            "epoch=54\n"
          ]
        },
        {
          "output_type": "stream",
          "name": "stderr",
          "text": []
        },
        {
          "output_type": "stream",
          "name": "stdout",
          "text": [
            "Epoch 55/200 - Loss: 0.898, Accuracy: 69.68%\n",
            "epoch=55\n"
          ]
        },
        {
          "output_type": "stream",
          "name": "stderr",
          "text": []
        },
        {
          "output_type": "stream",
          "name": "stdout",
          "text": [
            "Epoch 56/200 - Loss: 0.891, Accuracy: 64.59%\n",
            "epoch=56\n"
          ]
        },
        {
          "output_type": "stream",
          "name": "stderr",
          "text": []
        },
        {
          "output_type": "stream",
          "name": "stdout",
          "text": [
            "Epoch 57/200 - Loss: 0.894, Accuracy: 68.69%\n",
            "epoch=57\n"
          ]
        },
        {
          "output_type": "stream",
          "name": "stderr",
          "text": []
        },
        {
          "output_type": "stream",
          "name": "stdout",
          "text": [
            "Epoch 58/200 - Loss: 0.883, Accuracy: 72.14%\n",
            "Saved new best model with accuracy: 72.14%\n",
            "epoch=58\n"
          ]
        },
        {
          "output_type": "stream",
          "name": "stderr",
          "text": []
        },
        {
          "output_type": "stream",
          "name": "stdout",
          "text": [
            "Epoch 59/200 - Loss: 0.880, Accuracy: 65.27%\n",
            "epoch=59\n"
          ]
        },
        {
          "output_type": "stream",
          "name": "stderr",
          "text": []
        },
        {
          "output_type": "stream",
          "name": "stdout",
          "text": [
            "Epoch 60/200 - Loss: 0.891, Accuracy: 64.69%\n",
            "epoch=60\n"
          ]
        },
        {
          "output_type": "stream",
          "name": "stderr",
          "text": []
        },
        {
          "output_type": "stream",
          "name": "stdout",
          "text": [
            "Epoch 61/200 - Loss: 0.885, Accuracy: 67.13%\n",
            "epoch=61\n"
          ]
        },
        {
          "output_type": "stream",
          "name": "stderr",
          "text": []
        },
        {
          "output_type": "stream",
          "name": "stdout",
          "text": [
            "Epoch 62/200 - Loss: 0.884, Accuracy: 67.52%\n",
            "epoch=62\n"
          ]
        },
        {
          "output_type": "stream",
          "name": "stderr",
          "text": []
        },
        {
          "output_type": "stream",
          "name": "stdout",
          "text": [
            "Epoch 63/200 - Loss: 0.878, Accuracy: 70.42%\n",
            "epoch=63\n"
          ]
        },
        {
          "output_type": "stream",
          "name": "stderr",
          "text": []
        },
        {
          "output_type": "stream",
          "name": "stdout",
          "text": [
            "Epoch 64/200 - Loss: 0.876, Accuracy: 69.36%\n",
            "epoch=64\n"
          ]
        },
        {
          "output_type": "stream",
          "name": "stderr",
          "text": []
        },
        {
          "output_type": "stream",
          "name": "stdout",
          "text": [
            "Epoch 65/200 - Loss: 0.864, Accuracy: 72.31%\n",
            "Saved new best model with accuracy: 72.31%\n",
            "epoch=65\n"
          ]
        },
        {
          "output_type": "stream",
          "name": "stderr",
          "text": []
        },
        {
          "output_type": "stream",
          "name": "stdout",
          "text": [
            "Epoch 66/200 - Loss: 0.862, Accuracy: 69.28%\n",
            "epoch=66\n"
          ]
        },
        {
          "output_type": "stream",
          "name": "stderr",
          "text": []
        },
        {
          "output_type": "stream",
          "name": "stdout",
          "text": [
            "Epoch 67/200 - Loss: 0.858, Accuracy: 67.39%\n",
            "epoch=67\n"
          ]
        },
        {
          "output_type": "stream",
          "name": "stderr",
          "text": []
        },
        {
          "output_type": "stream",
          "name": "stdout",
          "text": [
            "Epoch 68/200 - Loss: 0.857, Accuracy: 68.52%\n",
            "epoch=68\n"
          ]
        },
        {
          "output_type": "stream",
          "name": "stderr",
          "text": []
        },
        {
          "output_type": "stream",
          "name": "stdout",
          "text": [
            "Epoch 69/200 - Loss: 0.858, Accuracy: 69.92%\n",
            "epoch=69\n"
          ]
        },
        {
          "output_type": "stream",
          "name": "stderr",
          "text": []
        },
        {
          "output_type": "stream",
          "name": "stdout",
          "text": [
            "Epoch 70/200 - Loss: 0.851, Accuracy: 66.34%\n",
            "epoch=70\n"
          ]
        },
        {
          "output_type": "stream",
          "name": "stderr",
          "text": []
        },
        {
          "output_type": "stream",
          "name": "stdout",
          "text": [
            "Epoch 71/200 - Loss: 0.853, Accuracy: 67.53%\n",
            "epoch=71\n"
          ]
        },
        {
          "output_type": "stream",
          "name": "stderr",
          "text": []
        },
        {
          "output_type": "stream",
          "name": "stdout",
          "text": [
            "Epoch 72/200 - Loss: 0.844, Accuracy: 73.11%\n",
            "Saved new best model with accuracy: 73.11%\n",
            "epoch=72\n"
          ]
        },
        {
          "output_type": "stream",
          "name": "stderr",
          "text": []
        },
        {
          "output_type": "stream",
          "name": "stdout",
          "text": [
            "Epoch 73/200 - Loss: 0.836, Accuracy: 70.08%\n",
            "epoch=73\n"
          ]
        },
        {
          "output_type": "stream",
          "name": "stderr",
          "text": []
        },
        {
          "output_type": "stream",
          "name": "stdout",
          "text": [
            "Epoch 74/200 - Loss: 0.840, Accuracy: 65.98%\n",
            "epoch=74\n"
          ]
        },
        {
          "output_type": "stream",
          "name": "stderr",
          "text": []
        },
        {
          "output_type": "stream",
          "name": "stdout",
          "text": [
            "Epoch 75/200 - Loss: 0.838, Accuracy: 73.23%\n",
            "Saved new best model with accuracy: 73.23%\n",
            "epoch=75\n"
          ]
        },
        {
          "output_type": "stream",
          "name": "stderr",
          "text": []
        },
        {
          "output_type": "stream",
          "name": "stdout",
          "text": [
            "Epoch 76/200 - Loss: 0.833, Accuracy: 68.38%\n",
            "epoch=76\n"
          ]
        },
        {
          "output_type": "stream",
          "name": "stderr",
          "text": []
        },
        {
          "output_type": "stream",
          "name": "stdout",
          "text": [
            "Epoch 77/200 - Loss: 0.829, Accuracy: 66.96%\n",
            "epoch=77\n"
          ]
        },
        {
          "output_type": "stream",
          "name": "stderr",
          "text": []
        },
        {
          "output_type": "stream",
          "name": "stdout",
          "text": [
            "Epoch 78/200 - Loss: 0.825, Accuracy: 68.43%\n",
            "epoch=78\n"
          ]
        },
        {
          "output_type": "stream",
          "name": "stderr",
          "text": []
        },
        {
          "output_type": "stream",
          "name": "stdout",
          "text": [
            "Epoch 79/200 - Loss: 0.826, Accuracy: 68.03%\n",
            "epoch=79\n"
          ]
        },
        {
          "output_type": "stream",
          "name": "stderr",
          "text": []
        },
        {
          "output_type": "stream",
          "name": "stdout",
          "text": [
            "Epoch 80/200 - Loss: 0.820, Accuracy: 69.23%\n",
            "epoch=80\n"
          ]
        },
        {
          "output_type": "stream",
          "name": "stderr",
          "text": []
        },
        {
          "output_type": "stream",
          "name": "stdout",
          "text": [
            "Epoch 81/200 - Loss: 0.821, Accuracy: 73.35%\n",
            "Saved new best model with accuracy: 73.35%\n",
            "epoch=81\n"
          ]
        },
        {
          "output_type": "stream",
          "name": "stderr",
          "text": []
        },
        {
          "output_type": "stream",
          "name": "stdout",
          "text": [
            "Epoch 82/200 - Loss: 0.817, Accuracy: 70.77%\n",
            "epoch=82\n"
          ]
        },
        {
          "output_type": "stream",
          "name": "stderr",
          "text": []
        },
        {
          "output_type": "stream",
          "name": "stdout",
          "text": [
            "Epoch 83/200 - Loss: 0.812, Accuracy: 67.38%\n",
            "epoch=83\n"
          ]
        },
        {
          "output_type": "stream",
          "name": "stderr",
          "text": []
        },
        {
          "output_type": "stream",
          "name": "stdout",
          "text": [
            "Epoch 84/200 - Loss: 0.807, Accuracy: 71.43%\n",
            "epoch=84\n"
          ]
        },
        {
          "output_type": "stream",
          "name": "stderr",
          "text": []
        },
        {
          "output_type": "stream",
          "name": "stdout",
          "text": [
            "Epoch 85/200 - Loss: 0.800, Accuracy: 74.72%\n",
            "Saved new best model with accuracy: 74.72%\n",
            "epoch=85\n"
          ]
        },
        {
          "output_type": "stream",
          "name": "stderr",
          "text": []
        },
        {
          "output_type": "stream",
          "name": "stdout",
          "text": [
            "Epoch 86/200 - Loss: 0.797, Accuracy: 70.06%\n",
            "epoch=86\n"
          ]
        },
        {
          "output_type": "stream",
          "name": "stderr",
          "text": []
        },
        {
          "output_type": "stream",
          "name": "stdout",
          "text": [
            "Epoch 87/200 - Loss: 0.786, Accuracy: 72.37%\n",
            "epoch=87\n"
          ]
        },
        {
          "output_type": "stream",
          "name": "stderr",
          "text": []
        },
        {
          "output_type": "stream",
          "name": "stdout",
          "text": [
            "Epoch 88/200 - Loss: 0.783, Accuracy: 73.79%\n",
            "epoch=88\n"
          ]
        },
        {
          "output_type": "stream",
          "name": "stderr",
          "text": []
        },
        {
          "output_type": "stream",
          "name": "stdout",
          "text": [
            "Epoch 89/200 - Loss: 0.787, Accuracy: 71.74%\n",
            "epoch=89\n"
          ]
        },
        {
          "output_type": "stream",
          "name": "stderr",
          "text": []
        },
        {
          "output_type": "stream",
          "name": "stdout",
          "text": [
            "Epoch 90/200 - Loss: 0.779, Accuracy: 70.20%\n",
            "epoch=90\n"
          ]
        },
        {
          "output_type": "stream",
          "name": "stderr",
          "text": []
        },
        {
          "output_type": "stream",
          "name": "stdout",
          "text": [
            "Epoch 91/200 - Loss: 0.773, Accuracy: 71.77%\n",
            "epoch=91\n"
          ]
        },
        {
          "output_type": "stream",
          "name": "stderr",
          "text": []
        },
        {
          "output_type": "stream",
          "name": "stdout",
          "text": [
            "Epoch 92/200 - Loss: 0.774, Accuracy: 73.26%\n",
            "epoch=92\n"
          ]
        },
        {
          "output_type": "stream",
          "name": "stderr",
          "text": []
        },
        {
          "output_type": "stream",
          "name": "stdout",
          "text": [
            "Epoch 93/200 - Loss: 0.766, Accuracy: 71.25%\n",
            "epoch=93\n"
          ]
        },
        {
          "output_type": "stream",
          "name": "stderr",
          "text": []
        },
        {
          "output_type": "stream",
          "name": "stdout",
          "text": [
            "Epoch 94/200 - Loss: 0.761, Accuracy: 70.80%\n",
            "epoch=94\n"
          ]
        },
        {
          "output_type": "stream",
          "name": "stderr",
          "text": []
        },
        {
          "output_type": "stream",
          "name": "stdout",
          "text": [
            "Epoch 95/200 - Loss: 0.760, Accuracy: 74.31%\n",
            "epoch=95\n"
          ]
        },
        {
          "output_type": "stream",
          "name": "stderr",
          "text": []
        },
        {
          "output_type": "stream",
          "name": "stdout",
          "text": [
            "Epoch 96/200 - Loss: 0.750, Accuracy: 71.78%\n",
            "epoch=96\n"
          ]
        },
        {
          "output_type": "stream",
          "name": "stderr",
          "text": []
        },
        {
          "output_type": "stream",
          "name": "stdout",
          "text": [
            "Epoch 97/200 - Loss: 0.761, Accuracy: 70.54%\n",
            "epoch=97\n"
          ]
        },
        {
          "output_type": "stream",
          "name": "stderr",
          "text": []
        },
        {
          "output_type": "stream",
          "name": "stdout",
          "text": [
            "Epoch 98/200 - Loss: 0.744, Accuracy: 70.76%\n",
            "epoch=98\n"
          ]
        },
        {
          "output_type": "stream",
          "name": "stderr",
          "text": []
        },
        {
          "output_type": "stream",
          "name": "stdout",
          "text": [
            "Epoch 99/200 - Loss: 0.739, Accuracy: 66.55%\n",
            "epoch=99\n"
          ]
        },
        {
          "output_type": "stream",
          "name": "stderr",
          "text": []
        },
        {
          "output_type": "stream",
          "name": "stdout",
          "text": [
            "Epoch 100/200 - Loss: 0.741, Accuracy: 76.54%\n",
            "Saved new best model with accuracy: 76.54%\n",
            "epoch=100\n"
          ]
        },
        {
          "output_type": "stream",
          "name": "stderr",
          "text": []
        },
        {
          "output_type": "stream",
          "name": "stdout",
          "text": [
            "Epoch 101/200 - Loss: 0.734, Accuracy: 75.15%\n",
            "epoch=101\n"
          ]
        },
        {
          "output_type": "stream",
          "name": "stderr",
          "text": []
        },
        {
          "output_type": "stream",
          "name": "stdout",
          "text": [
            "Epoch 102/200 - Loss: 0.719, Accuracy: 72.66%\n",
            "epoch=102\n"
          ]
        },
        {
          "output_type": "stream",
          "name": "stderr",
          "text": []
        },
        {
          "output_type": "stream",
          "name": "stdout",
          "text": [
            "Epoch 103/200 - Loss: 0.722, Accuracy: 74.84%\n",
            "epoch=103\n"
          ]
        },
        {
          "output_type": "stream",
          "name": "stderr",
          "text": []
        },
        {
          "output_type": "stream",
          "name": "stdout",
          "text": [
            "Epoch 104/200 - Loss: 0.715, Accuracy: 73.02%\n",
            "epoch=104\n"
          ]
        },
        {
          "output_type": "stream",
          "name": "stderr",
          "text": []
        },
        {
          "output_type": "stream",
          "name": "stdout",
          "text": [
            "Epoch 105/200 - Loss: 0.718, Accuracy: 73.07%\n",
            "epoch=105\n"
          ]
        },
        {
          "output_type": "stream",
          "name": "stderr",
          "text": []
        },
        {
          "output_type": "stream",
          "name": "stdout",
          "text": [
            "Epoch 106/200 - Loss: 0.713, Accuracy: 75.58%\n",
            "epoch=106\n"
          ]
        },
        {
          "output_type": "stream",
          "name": "stderr",
          "text": []
        },
        {
          "output_type": "stream",
          "name": "stdout",
          "text": [
            "Epoch 107/200 - Loss: 0.705, Accuracy: 75.81%\n",
            "epoch=107\n"
          ]
        },
        {
          "output_type": "stream",
          "name": "stderr",
          "text": []
        },
        {
          "output_type": "stream",
          "name": "stdout",
          "text": [
            "Epoch 108/200 - Loss: 0.706, Accuracy: 66.60%\n",
            "epoch=108\n"
          ]
        },
        {
          "output_type": "stream",
          "name": "stderr",
          "text": []
        },
        {
          "output_type": "stream",
          "name": "stdout",
          "text": [
            "Epoch 109/200 - Loss: 0.704, Accuracy: 74.88%\n",
            "epoch=109\n"
          ]
        },
        {
          "output_type": "stream",
          "name": "stderr",
          "text": []
        },
        {
          "output_type": "stream",
          "name": "stdout",
          "text": [
            "Epoch 110/200 - Loss: 0.687, Accuracy: 74.37%\n",
            "epoch=110\n"
          ]
        },
        {
          "output_type": "stream",
          "name": "stderr",
          "text": []
        },
        {
          "output_type": "stream",
          "name": "stdout",
          "text": [
            "Epoch 111/200 - Loss: 0.691, Accuracy: 75.95%\n",
            "epoch=111\n"
          ]
        },
        {
          "output_type": "stream",
          "name": "stderr",
          "text": []
        },
        {
          "output_type": "stream",
          "name": "stdout",
          "text": [
            "Epoch 112/200 - Loss: 0.679, Accuracy: 75.25%\n",
            "epoch=112\n"
          ]
        },
        {
          "output_type": "stream",
          "name": "stderr",
          "text": []
        },
        {
          "output_type": "stream",
          "name": "stdout",
          "text": [
            "Epoch 113/200 - Loss: 0.679, Accuracy: 76.03%\n",
            "epoch=113\n"
          ]
        },
        {
          "output_type": "stream",
          "name": "stderr",
          "text": []
        },
        {
          "output_type": "stream",
          "name": "stdout",
          "text": [
            "Epoch 114/200 - Loss: 0.672, Accuracy: 76.97%\n",
            "Saved new best model with accuracy: 76.97%\n",
            "epoch=114\n"
          ]
        },
        {
          "output_type": "stream",
          "name": "stderr",
          "text": []
        },
        {
          "output_type": "stream",
          "name": "stdout",
          "text": [
            "Epoch 115/200 - Loss: 0.667, Accuracy: 76.78%\n",
            "epoch=115\n"
          ]
        },
        {
          "output_type": "stream",
          "name": "stderr",
          "text": []
        },
        {
          "output_type": "stream",
          "name": "stdout",
          "text": [
            "Epoch 116/200 - Loss: 0.661, Accuracy: 75.00%\n",
            "epoch=116\n"
          ]
        },
        {
          "output_type": "stream",
          "name": "stderr",
          "text": []
        },
        {
          "output_type": "stream",
          "name": "stdout",
          "text": [
            "Epoch 117/200 - Loss: 0.656, Accuracy: 76.92%\n",
            "epoch=117\n"
          ]
        },
        {
          "output_type": "stream",
          "name": "stderr",
          "text": []
        },
        {
          "output_type": "stream",
          "name": "stdout",
          "text": [
            "Epoch 118/200 - Loss: 0.649, Accuracy: 76.20%\n",
            "epoch=118\n"
          ]
        },
        {
          "output_type": "stream",
          "name": "stderr",
          "text": []
        },
        {
          "output_type": "stream",
          "name": "stdout",
          "text": [
            "Epoch 119/200 - Loss: 0.642, Accuracy: 77.33%\n",
            "Saved new best model with accuracy: 77.33%\n",
            "epoch=119\n"
          ]
        },
        {
          "output_type": "stream",
          "name": "stderr",
          "text": []
        },
        {
          "output_type": "stream",
          "name": "stdout",
          "text": [
            "Epoch 120/200 - Loss: 0.640, Accuracy: 71.35%\n",
            "epoch=120\n"
          ]
        },
        {
          "output_type": "stream",
          "name": "stderr",
          "text": []
        },
        {
          "output_type": "stream",
          "name": "stdout",
          "text": [
            "Epoch 121/200 - Loss: 0.639, Accuracy: 77.21%\n",
            "epoch=121\n"
          ]
        },
        {
          "output_type": "stream",
          "name": "stderr",
          "text": []
        },
        {
          "output_type": "stream",
          "name": "stdout",
          "text": [
            "Epoch 122/200 - Loss: 0.632, Accuracy: 76.47%\n",
            "epoch=122\n"
          ]
        },
        {
          "output_type": "stream",
          "name": "stderr",
          "text": []
        },
        {
          "output_type": "stream",
          "name": "stdout",
          "text": [
            "Epoch 123/200 - Loss: 0.625, Accuracy: 77.58%\n",
            "Saved new best model with accuracy: 77.58%\n",
            "epoch=123\n"
          ]
        },
        {
          "output_type": "stream",
          "name": "stderr",
          "text": []
        },
        {
          "output_type": "stream",
          "name": "stdout",
          "text": [
            "Epoch 124/200 - Loss: 0.616, Accuracy: 76.44%\n",
            "epoch=124\n"
          ]
        },
        {
          "output_type": "stream",
          "name": "stderr",
          "text": []
        },
        {
          "output_type": "stream",
          "name": "stdout",
          "text": [
            "Epoch 125/200 - Loss: 0.618, Accuracy: 76.84%\n",
            "epoch=125\n"
          ]
        },
        {
          "output_type": "stream",
          "name": "stderr",
          "text": []
        },
        {
          "output_type": "stream",
          "name": "stdout",
          "text": [
            "Epoch 126/200 - Loss: 0.603, Accuracy: 78.75%\n",
            "Saved new best model with accuracy: 78.75%\n",
            "epoch=126\n"
          ]
        },
        {
          "output_type": "stream",
          "name": "stderr",
          "text": []
        },
        {
          "output_type": "stream",
          "name": "stdout",
          "text": [
            "Epoch 127/200 - Loss: 0.600, Accuracy: 80.32%\n",
            "Saved new best model with accuracy: 80.32%\n",
            "epoch=127\n"
          ]
        },
        {
          "output_type": "stream",
          "name": "stderr",
          "text": []
        },
        {
          "output_type": "stream",
          "name": "stdout",
          "text": [
            "Epoch 128/200 - Loss: 0.598, Accuracy: 79.54%\n",
            "epoch=128\n"
          ]
        },
        {
          "output_type": "stream",
          "name": "stderr",
          "text": []
        },
        {
          "output_type": "stream",
          "name": "stdout",
          "text": [
            "Epoch 129/200 - Loss: 0.594, Accuracy: 78.99%\n",
            "epoch=129\n"
          ]
        },
        {
          "output_type": "stream",
          "name": "stderr",
          "text": []
        },
        {
          "output_type": "stream",
          "name": "stdout",
          "text": [
            "Epoch 130/200 - Loss: 0.583, Accuracy: 77.99%\n",
            "epoch=130\n"
          ]
        },
        {
          "output_type": "stream",
          "name": "stderr",
          "text": []
        },
        {
          "output_type": "stream",
          "name": "stdout",
          "text": [
            "Epoch 131/200 - Loss: 0.580, Accuracy: 79.59%\n",
            "epoch=131\n"
          ]
        },
        {
          "output_type": "stream",
          "name": "stderr",
          "text": []
        },
        {
          "output_type": "stream",
          "name": "stdout",
          "text": [
            "Epoch 132/200 - Loss: 0.576, Accuracy: 79.25%\n",
            "epoch=132\n"
          ]
        },
        {
          "output_type": "stream",
          "name": "stderr",
          "text": []
        },
        {
          "output_type": "stream",
          "name": "stdout",
          "text": [
            "Epoch 133/200 - Loss: 0.569, Accuracy: 78.41%\n",
            "epoch=133\n"
          ]
        },
        {
          "output_type": "stream",
          "name": "stderr",
          "text": []
        },
        {
          "output_type": "stream",
          "name": "stdout",
          "text": [
            "Epoch 134/200 - Loss: 0.559, Accuracy: 80.60%\n",
            "Saved new best model with accuracy: 80.60%\n",
            "epoch=134\n"
          ]
        },
        {
          "output_type": "stream",
          "name": "stderr",
          "text": []
        },
        {
          "output_type": "stream",
          "name": "stdout",
          "text": [
            "Epoch 135/200 - Loss: 0.555, Accuracy: 77.21%\n",
            "epoch=135\n"
          ]
        },
        {
          "output_type": "stream",
          "name": "stderr",
          "text": []
        },
        {
          "output_type": "stream",
          "name": "stdout",
          "text": [
            "Epoch 136/200 - Loss: 0.548, Accuracy: 75.79%\n",
            "epoch=136\n"
          ]
        },
        {
          "output_type": "stream",
          "name": "stderr",
          "text": []
        },
        {
          "output_type": "stream",
          "name": "stdout",
          "text": [
            "Epoch 137/200 - Loss: 0.549, Accuracy: 81.82%\n",
            "Saved new best model with accuracy: 81.82%\n",
            "epoch=137\n"
          ]
        },
        {
          "output_type": "stream",
          "name": "stderr",
          "text": []
        },
        {
          "output_type": "stream",
          "name": "stdout",
          "text": [
            "Epoch 138/200 - Loss: 0.537, Accuracy: 79.26%\n",
            "epoch=138\n"
          ]
        },
        {
          "output_type": "stream",
          "name": "stderr",
          "text": []
        },
        {
          "output_type": "stream",
          "name": "stdout",
          "text": [
            "Epoch 139/200 - Loss: 0.534, Accuracy: 81.69%\n",
            "epoch=139\n"
          ]
        },
        {
          "output_type": "stream",
          "name": "stderr",
          "text": []
        },
        {
          "output_type": "stream",
          "name": "stdout",
          "text": [
            "Epoch 140/200 - Loss: 0.530, Accuracy: 79.56%\n",
            "epoch=140\n"
          ]
        },
        {
          "output_type": "stream",
          "name": "stderr",
          "text": []
        },
        {
          "output_type": "stream",
          "name": "stdout",
          "text": [
            "Epoch 141/200 - Loss: 0.520, Accuracy: 80.91%\n",
            "epoch=141\n"
          ]
        },
        {
          "output_type": "stream",
          "name": "stderr",
          "text": []
        },
        {
          "output_type": "stream",
          "name": "stdout",
          "text": [
            "Epoch 142/200 - Loss: 0.505, Accuracy: 82.44%\n",
            "Saved new best model with accuracy: 82.44%\n",
            "epoch=142\n"
          ]
        },
        {
          "output_type": "stream",
          "name": "stderr",
          "text": []
        },
        {
          "output_type": "stream",
          "name": "stdout",
          "text": [
            "Epoch 143/200 - Loss: 0.508, Accuracy: 82.00%\n",
            "epoch=143\n"
          ]
        },
        {
          "output_type": "stream",
          "name": "stderr",
          "text": []
        },
        {
          "output_type": "stream",
          "name": "stdout",
          "text": [
            "Epoch 144/200 - Loss: 0.494, Accuracy: 81.99%\n",
            "epoch=144\n"
          ]
        },
        {
          "output_type": "stream",
          "name": "stderr",
          "text": []
        },
        {
          "output_type": "stream",
          "name": "stdout",
          "text": [
            "Epoch 145/200 - Loss: 0.487, Accuracy: 80.53%\n",
            "epoch=145\n"
          ]
        },
        {
          "output_type": "stream",
          "name": "stderr",
          "text": []
        },
        {
          "output_type": "stream",
          "name": "stdout",
          "text": [
            "Epoch 146/200 - Loss: 0.482, Accuracy: 80.06%\n",
            "epoch=146\n"
          ]
        },
        {
          "output_type": "stream",
          "name": "stderr",
          "text": []
        },
        {
          "output_type": "stream",
          "name": "stdout",
          "text": [
            "Epoch 147/200 - Loss: 0.477, Accuracy: 82.33%\n",
            "epoch=147\n"
          ]
        },
        {
          "output_type": "stream",
          "name": "stderr",
          "text": []
        },
        {
          "output_type": "stream",
          "name": "stdout",
          "text": [
            "Epoch 148/200 - Loss: 0.472, Accuracy: 82.86%\n",
            "Saved new best model with accuracy: 82.86%\n",
            "epoch=148\n"
          ]
        },
        {
          "output_type": "stream",
          "name": "stderr",
          "text": []
        },
        {
          "output_type": "stream",
          "name": "stdout",
          "text": [
            "Epoch 149/200 - Loss: 0.457, Accuracy: 82.04%\n",
            "epoch=149\n"
          ]
        },
        {
          "output_type": "stream",
          "name": "stderr",
          "text": []
        },
        {
          "output_type": "stream",
          "name": "stdout",
          "text": [
            "Epoch 150/200 - Loss: 0.456, Accuracy: 81.79%\n",
            "epoch=150\n"
          ]
        },
        {
          "output_type": "stream",
          "name": "stderr",
          "text": []
        },
        {
          "output_type": "stream",
          "name": "stdout",
          "text": [
            "Epoch 151/200 - Loss: 0.446, Accuracy: 82.97%\n",
            "Saved new best model with accuracy: 82.97%\n",
            "epoch=151\n"
          ]
        },
        {
          "output_type": "stream",
          "name": "stderr",
          "text": []
        },
        {
          "output_type": "stream",
          "name": "stdout",
          "text": [
            "Epoch 152/200 - Loss: 0.437, Accuracy: 83.34%\n",
            "Saved new best model with accuracy: 83.34%\n",
            "epoch=152\n"
          ]
        },
        {
          "output_type": "stream",
          "name": "stderr",
          "text": []
        },
        {
          "output_type": "stream",
          "name": "stdout",
          "text": [
            "Epoch 153/200 - Loss: 0.433, Accuracy: 82.43%\n",
            "epoch=153\n"
          ]
        },
        {
          "output_type": "stream",
          "name": "stderr",
          "text": []
        },
        {
          "output_type": "stream",
          "name": "stdout",
          "text": [
            "Epoch 154/200 - Loss: 0.421, Accuracy: 83.63%\n",
            "Saved new best model with accuracy: 83.63%\n",
            "epoch=154\n"
          ]
        },
        {
          "output_type": "stream",
          "name": "stderr",
          "text": []
        },
        {
          "output_type": "stream",
          "name": "stdout",
          "text": [
            "Epoch 155/200 - Loss: 0.421, Accuracy: 83.82%\n",
            "Saved new best model with accuracy: 83.82%\n",
            "epoch=155\n"
          ]
        },
        {
          "output_type": "stream",
          "name": "stderr",
          "text": []
        },
        {
          "output_type": "stream",
          "name": "stdout",
          "text": [
            "Epoch 156/200 - Loss: 0.410, Accuracy: 83.65%\n",
            "epoch=156\n"
          ]
        },
        {
          "output_type": "stream",
          "name": "stderr",
          "text": []
        },
        {
          "output_type": "stream",
          "name": "stdout",
          "text": [
            "Epoch 157/200 - Loss: 0.400, Accuracy: 83.67%\n",
            "epoch=157\n"
          ]
        },
        {
          "output_type": "stream",
          "name": "stderr",
          "text": []
        },
        {
          "output_type": "stream",
          "name": "stdout",
          "text": [
            "Epoch 158/200 - Loss: 0.394, Accuracy: 84.03%\n",
            "Saved new best model with accuracy: 84.03%\n",
            "epoch=158\n"
          ]
        },
        {
          "output_type": "stream",
          "name": "stderr",
          "text": []
        },
        {
          "output_type": "stream",
          "name": "stdout",
          "text": [
            "Epoch 159/200 - Loss: 0.380, Accuracy: 84.60%\n",
            "Saved new best model with accuracy: 84.60%\n",
            "epoch=159\n"
          ]
        },
        {
          "output_type": "stream",
          "name": "stderr",
          "text": []
        },
        {
          "output_type": "stream",
          "name": "stdout",
          "text": [
            "Epoch 160/200 - Loss: 0.376, Accuracy: 84.40%\n",
            "epoch=160\n"
          ]
        },
        {
          "output_type": "stream",
          "name": "stderr",
          "text": []
        },
        {
          "output_type": "stream",
          "name": "stdout",
          "text": [
            "Epoch 161/200 - Loss: 0.363, Accuracy: 84.75%\n",
            "Saved new best model with accuracy: 84.75%\n",
            "epoch=161\n"
          ]
        },
        {
          "output_type": "stream",
          "name": "stderr",
          "text": []
        },
        {
          "output_type": "stream",
          "name": "stdout",
          "text": [
            "Epoch 162/200 - Loss: 0.360, Accuracy: 84.58%\n",
            "epoch=162\n"
          ]
        },
        {
          "output_type": "stream",
          "name": "stderr",
          "text": []
        },
        {
          "output_type": "stream",
          "name": "stdout",
          "text": [
            "Epoch 163/200 - Loss: 0.346, Accuracy: 84.26%\n",
            "epoch=163\n"
          ]
        },
        {
          "output_type": "stream",
          "name": "stderr",
          "text": []
        },
        {
          "output_type": "stream",
          "name": "stdout",
          "text": [
            "Epoch 164/200 - Loss: 0.340, Accuracy: 84.92%\n",
            "Saved new best model with accuracy: 84.92%\n",
            "epoch=164\n"
          ]
        },
        {
          "output_type": "stream",
          "name": "stderr",
          "text": []
        },
        {
          "output_type": "stream",
          "name": "stdout",
          "text": [
            "Epoch 165/200 - Loss: 0.334, Accuracy: 85.74%\n",
            "Saved new best model with accuracy: 85.74%\n",
            "epoch=165\n"
          ]
        },
        {
          "output_type": "stream",
          "name": "stderr",
          "text": []
        },
        {
          "output_type": "stream",
          "name": "stdout",
          "text": [
            "Epoch 166/200 - Loss: 0.318, Accuracy: 85.26%\n",
            "epoch=166\n"
          ]
        },
        {
          "output_type": "stream",
          "name": "stderr",
          "text": []
        },
        {
          "output_type": "stream",
          "name": "stdout",
          "text": [
            "Epoch 167/200 - Loss: 0.310, Accuracy: 85.64%\n",
            "epoch=167\n"
          ]
        },
        {
          "output_type": "stream",
          "name": "stderr",
          "text": []
        },
        {
          "output_type": "stream",
          "name": "stdout",
          "text": [
            "Epoch 168/200 - Loss: 0.304, Accuracy: 85.88%\n",
            "Saved new best model with accuracy: 85.88%\n",
            "epoch=168\n"
          ]
        },
        {
          "output_type": "stream",
          "name": "stderr",
          "text": []
        },
        {
          "output_type": "stream",
          "name": "stdout",
          "text": [
            "Epoch 169/200 - Loss: 0.292, Accuracy: 85.96%\n",
            "Saved new best model with accuracy: 85.96%\n",
            "epoch=169\n"
          ]
        },
        {
          "output_type": "stream",
          "name": "stderr",
          "text": []
        },
        {
          "output_type": "stream",
          "name": "stdout",
          "text": [
            "Epoch 170/200 - Loss: 0.276, Accuracy: 85.94%\n",
            "epoch=170\n"
          ]
        },
        {
          "output_type": "stream",
          "name": "stderr",
          "text": []
        },
        {
          "output_type": "stream",
          "name": "stdout",
          "text": [
            "Epoch 171/200 - Loss: 0.272, Accuracy: 85.44%\n",
            "epoch=171\n"
          ]
        },
        {
          "output_type": "stream",
          "name": "stderr",
          "text": []
        },
        {
          "output_type": "stream",
          "name": "stdout",
          "text": [
            "Epoch 172/200 - Loss: 0.261, Accuracy: 85.45%\n",
            "epoch=172\n"
          ]
        },
        {
          "output_type": "stream",
          "name": "stderr",
          "text": []
        },
        {
          "output_type": "stream",
          "name": "stdout",
          "text": [
            "Epoch 173/200 - Loss: 0.250, Accuracy: 86.33%\n",
            "Saved new best model with accuracy: 86.33%\n",
            "epoch=173\n"
          ]
        },
        {
          "output_type": "stream",
          "name": "stderr",
          "text": []
        },
        {
          "output_type": "stream",
          "name": "stdout",
          "text": [
            "Epoch 174/200 - Loss: 0.241, Accuracy: 86.80%\n",
            "Saved new best model with accuracy: 86.80%\n",
            "epoch=174\n"
          ]
        },
        {
          "output_type": "stream",
          "name": "stderr",
          "text": []
        },
        {
          "output_type": "stream",
          "name": "stdout",
          "text": [
            "Epoch 175/200 - Loss: 0.229, Accuracy: 86.18%\n",
            "epoch=175\n"
          ]
        },
        {
          "output_type": "stream",
          "name": "stderr",
          "text": []
        },
        {
          "output_type": "stream",
          "name": "stdout",
          "text": [
            "Epoch 176/200 - Loss: 0.222, Accuracy: 87.28%\n",
            "Saved new best model with accuracy: 87.28%\n",
            "epoch=176\n"
          ]
        },
        {
          "output_type": "stream",
          "name": "stderr",
          "text": []
        },
        {
          "output_type": "stream",
          "name": "stdout",
          "text": [
            "Epoch 177/200 - Loss: 0.212, Accuracy: 87.34%\n",
            "Saved new best model with accuracy: 87.34%\n",
            "epoch=177\n"
          ]
        },
        {
          "output_type": "stream",
          "name": "stderr",
          "text": []
        },
        {
          "output_type": "stream",
          "name": "stdout",
          "text": [
            "Epoch 178/200 - Loss: 0.205, Accuracy: 87.29%\n",
            "epoch=178\n"
          ]
        },
        {
          "output_type": "stream",
          "name": "stderr",
          "text": []
        },
        {
          "output_type": "stream",
          "name": "stdout",
          "text": [
            "Epoch 179/200 - Loss: 0.190, Accuracy: 87.66%\n",
            "Saved new best model with accuracy: 87.66%\n",
            "epoch=179\n"
          ]
        },
        {
          "output_type": "stream",
          "name": "stderr",
          "text": []
        },
        {
          "output_type": "stream",
          "name": "stdout",
          "text": [
            "Epoch 180/200 - Loss: 0.179, Accuracy: 87.81%\n",
            "Saved new best model with accuracy: 87.81%\n",
            "epoch=180\n"
          ]
        },
        {
          "output_type": "stream",
          "name": "stderr",
          "text": []
        },
        {
          "output_type": "stream",
          "name": "stdout",
          "text": [
            "Epoch 181/200 - Loss: 0.166, Accuracy: 87.70%\n",
            "epoch=181\n"
          ]
        },
        {
          "output_type": "stream",
          "name": "stderr",
          "text": []
        },
        {
          "output_type": "stream",
          "name": "stdout",
          "text": [
            "Epoch 182/200 - Loss: 0.158, Accuracy: 88.11%\n",
            "Saved new best model with accuracy: 88.11%\n",
            "epoch=182\n"
          ]
        },
        {
          "output_type": "stream",
          "name": "stderr",
          "text": []
        },
        {
          "output_type": "stream",
          "name": "stdout",
          "text": [
            "Epoch 183/200 - Loss: 0.148, Accuracy: 87.94%\n",
            "epoch=183\n"
          ]
        },
        {
          "output_type": "stream",
          "name": "stderr",
          "text": []
        },
        {
          "output_type": "stream",
          "name": "stdout",
          "text": [
            "Epoch 184/200 - Loss: 0.138, Accuracy: 87.84%\n",
            "epoch=184\n"
          ]
        },
        {
          "output_type": "stream",
          "name": "stderr",
          "text": []
        },
        {
          "output_type": "stream",
          "name": "stdout",
          "text": [
            "Epoch 185/200 - Loss: 0.129, Accuracy: 88.36%\n",
            "Saved new best model with accuracy: 88.36%\n",
            "epoch=185\n"
          ]
        },
        {
          "output_type": "stream",
          "name": "stderr",
          "text": []
        },
        {
          "output_type": "stream",
          "name": "stdout",
          "text": [
            "Epoch 186/200 - Loss: 0.120, Accuracy: 88.41%\n",
            "Saved new best model with accuracy: 88.41%\n",
            "epoch=186\n"
          ]
        },
        {
          "output_type": "stream",
          "name": "stderr",
          "text": []
        },
        {
          "output_type": "stream",
          "name": "stdout",
          "text": [
            "Epoch 187/200 - Loss: 0.112, Accuracy: 88.36%\n",
            "epoch=187\n"
          ]
        },
        {
          "output_type": "stream",
          "name": "stderr",
          "text": []
        },
        {
          "output_type": "stream",
          "name": "stdout",
          "text": [
            "Epoch 188/200 - Loss: 0.105, Accuracy: 88.64%\n",
            "Saved new best model with accuracy: 88.64%\n",
            "epoch=188\n"
          ]
        },
        {
          "output_type": "stream",
          "name": "stderr",
          "text": []
        },
        {
          "output_type": "stream",
          "name": "stdout",
          "text": [
            "Epoch 189/200 - Loss: 0.099, Accuracy: 88.73%\n",
            "Saved new best model with accuracy: 88.73%\n",
            "epoch=189\n"
          ]
        },
        {
          "output_type": "stream",
          "name": "stderr",
          "text": []
        },
        {
          "output_type": "stream",
          "name": "stdout",
          "text": [
            "Epoch 190/200 - Loss: 0.095, Accuracy: 88.55%\n",
            "epoch=190\n"
          ]
        },
        {
          "output_type": "stream",
          "name": "stderr",
          "text": []
        },
        {
          "output_type": "stream",
          "name": "stdout",
          "text": [
            "Epoch 191/200 - Loss: 0.087, Accuracy: 88.82%\n",
            "Saved new best model with accuracy: 88.82%\n",
            "epoch=191\n"
          ]
        },
        {
          "output_type": "stream",
          "name": "stderr",
          "text": []
        },
        {
          "output_type": "stream",
          "name": "stdout",
          "text": [
            "Epoch 192/200 - Loss: 0.082, Accuracy: 88.75%\n",
            "epoch=192\n"
          ]
        },
        {
          "output_type": "stream",
          "name": "stderr",
          "text": []
        },
        {
          "output_type": "stream",
          "name": "stdout",
          "text": [
            "Epoch 193/200 - Loss: 0.077, Accuracy: 88.88%\n",
            "Saved new best model with accuracy: 88.88%\n",
            "epoch=193\n"
          ]
        },
        {
          "output_type": "stream",
          "name": "stderr",
          "text": []
        },
        {
          "output_type": "stream",
          "name": "stdout",
          "text": [
            "Epoch 194/200 - Loss: 0.073, Accuracy: 88.99%\n",
            "Saved new best model with accuracy: 88.99%\n",
            "epoch=194\n"
          ]
        },
        {
          "output_type": "stream",
          "name": "stderr",
          "text": []
        },
        {
          "output_type": "stream",
          "name": "stdout",
          "text": [
            "Epoch 195/200 - Loss: 0.069, Accuracy: 88.88%\n",
            "epoch=195\n"
          ]
        },
        {
          "output_type": "stream",
          "name": "stderr",
          "text": []
        },
        {
          "output_type": "stream",
          "name": "stdout",
          "text": [
            "Epoch 196/200 - Loss: 0.070, Accuracy: 88.95%\n",
            "epoch=196\n"
          ]
        },
        {
          "output_type": "stream",
          "name": "stderr",
          "text": []
        },
        {
          "output_type": "stream",
          "name": "stdout",
          "text": [
            "Epoch 197/200 - Loss: 0.068, Accuracy: 88.95%\n",
            "epoch=197\n"
          ]
        },
        {
          "output_type": "stream",
          "name": "stderr",
          "text": []
        },
        {
          "output_type": "stream",
          "name": "stdout",
          "text": [
            "Epoch 198/200 - Loss: 0.067, Accuracy: 88.90%\n",
            "epoch=198\n"
          ]
        },
        {
          "output_type": "stream",
          "name": "stderr",
          "text": []
        },
        {
          "output_type": "stream",
          "name": "stdout",
          "text": [
            "Epoch 199/200 - Loss: 0.067, Accuracy: 89.04%\n",
            "Saved new best model with accuracy: 89.04%\n",
            "epoch=199\n"
          ]
        },
        {
          "output_type": "stream",
          "name": "stderr",
          "text": []
        },
        {
          "output_type": "stream",
          "name": "stdout",
          "text": [
            "Epoch 200/200 - Loss: 0.064, Accuracy: 88.89%\n",
            "Total weight sparsity in the model: 19.98%\n",
            "-----------------------pruning_rate=0.3------------------------\n",
            "Files already downloaded and verified\n",
            "Files already downloaded and verified\n",
            "epoch=0\n"
          ]
        },
        {
          "output_type": "stream",
          "name": "stderr",
          "text": []
        },
        {
          "output_type": "stream",
          "name": "stdout",
          "text": [
            "Epoch 1/10 - Loss: 4.010, Accuracy: 12.78%\n",
            "Total weight sparsity in the model: 3.00%\n",
            "epoch=1\n"
          ]
        },
        {
          "output_type": "stream",
          "name": "stderr",
          "text": []
        },
        {
          "output_type": "stream",
          "name": "stdout",
          "text": [
            "Epoch 2/10 - Loss: 2.094, Accuracy: 20.50%\n",
            "Total weight sparsity in the model: 5.99%\n",
            "epoch=2\n"
          ]
        },
        {
          "output_type": "stream",
          "name": "stderr",
          "text": []
        },
        {
          "output_type": "stream",
          "name": "stdout",
          "text": [
            "Epoch 3/10 - Loss: 1.928, Accuracy: 35.24%\n",
            "Total weight sparsity in the model: 8.99%\n",
            "epoch=3\n"
          ]
        },
        {
          "output_type": "stream",
          "name": "stderr",
          "text": []
        },
        {
          "output_type": "stream",
          "name": "stdout",
          "text": [
            "Epoch 4/10 - Loss: 1.777, Accuracy: 38.60%\n",
            "Total weight sparsity in the model: 11.99%\n",
            "epoch=4\n"
          ]
        },
        {
          "output_type": "stream",
          "name": "stderr",
          "text": []
        },
        {
          "output_type": "stream",
          "name": "stdout",
          "text": [
            "Epoch 5/10 - Loss: 1.673, Accuracy: 42.98%\n",
            "Total weight sparsity in the model: 14.98%\n",
            "epoch=5\n"
          ]
        },
        {
          "output_type": "stream",
          "name": "stderr",
          "text": []
        },
        {
          "output_type": "stream",
          "name": "stdout",
          "text": [
            "Epoch 6/10 - Loss: 1.597, Accuracy: 43.55%\n",
            "Total weight sparsity in the model: 17.98%\n",
            "epoch=6\n"
          ]
        },
        {
          "output_type": "stream",
          "name": "stderr",
          "text": []
        },
        {
          "output_type": "stream",
          "name": "stdout",
          "text": [
            "Epoch 7/10 - Loss: 1.524, Accuracy: 50.12%\n",
            "Total weight sparsity in the model: 20.98%\n",
            "epoch=7\n"
          ]
        },
        {
          "output_type": "stream",
          "name": "stderr",
          "text": []
        },
        {
          "output_type": "stream",
          "name": "stdout",
          "text": [
            "Epoch 8/10 - Loss: 1.450, Accuracy: 49.12%\n",
            "Total weight sparsity in the model: 23.98%\n",
            "epoch=8\n"
          ]
        },
        {
          "output_type": "stream",
          "name": "stderr",
          "text": []
        },
        {
          "output_type": "stream",
          "name": "stdout",
          "text": [
            "Epoch 9/10 - Loss: 1.360, Accuracy: 52.32%\n",
            "Total weight sparsity in the model: 26.97%\n",
            "epoch=9\n"
          ]
        },
        {
          "output_type": "stream",
          "name": "stderr",
          "text": []
        },
        {
          "output_type": "stream",
          "name": "stdout",
          "text": [
            "Epoch 10/10 - Loss: 1.311, Accuracy: 54.50%\n",
            "Total weight sparsity in the model: 29.97%\n",
            "epoch=10\n"
          ]
        },
        {
          "output_type": "stream",
          "name": "stderr",
          "text": []
        },
        {
          "output_type": "stream",
          "name": "stdout",
          "text": [
            "Epoch 11/200 - Loss: 1.276, Accuracy: 57.03%\n",
            "Saved new best model with accuracy: 57.03%\n",
            "epoch=11\n"
          ]
        },
        {
          "output_type": "stream",
          "name": "stderr",
          "text": []
        },
        {
          "output_type": "stream",
          "name": "stdout",
          "text": [
            "Epoch 12/200 - Loss: 1.246, Accuracy: 52.58%\n",
            "epoch=12\n"
          ]
        },
        {
          "output_type": "stream",
          "name": "stderr",
          "text": []
        },
        {
          "output_type": "stream",
          "name": "stdout",
          "text": [
            "Epoch 13/200 - Loss: 1.223, Accuracy: 59.70%\n",
            "Saved new best model with accuracy: 59.70%\n",
            "epoch=13\n"
          ]
        },
        {
          "output_type": "stream",
          "name": "stderr",
          "text": []
        },
        {
          "output_type": "stream",
          "name": "stdout",
          "text": [
            "Epoch 14/200 - Loss: 1.198, Accuracy: 59.21%\n",
            "epoch=14\n"
          ]
        },
        {
          "output_type": "stream",
          "name": "stderr",
          "text": []
        },
        {
          "output_type": "stream",
          "name": "stdout",
          "text": [
            "Epoch 15/200 - Loss: 1.172, Accuracy: 60.78%\n",
            "Saved new best model with accuracy: 60.78%\n",
            "epoch=15\n"
          ]
        },
        {
          "output_type": "stream",
          "name": "stderr",
          "text": []
        },
        {
          "output_type": "stream",
          "name": "stdout",
          "text": [
            "Epoch 16/200 - Loss: 1.153, Accuracy: 54.32%\n",
            "epoch=16\n"
          ]
        },
        {
          "output_type": "stream",
          "name": "stderr",
          "text": []
        },
        {
          "output_type": "stream",
          "name": "stdout",
          "text": [
            "Epoch 17/200 - Loss: 1.125, Accuracy: 62.38%\n",
            "Saved new best model with accuracy: 62.38%\n",
            "epoch=17\n"
          ]
        },
        {
          "output_type": "stream",
          "name": "stderr",
          "text": []
        },
        {
          "output_type": "stream",
          "name": "stdout",
          "text": [
            "Epoch 18/200 - Loss: 1.107, Accuracy: 63.11%\n",
            "Saved new best model with accuracy: 63.11%\n",
            "epoch=18\n"
          ]
        },
        {
          "output_type": "stream",
          "name": "stderr",
          "text": []
        },
        {
          "output_type": "stream",
          "name": "stdout",
          "text": [
            "Epoch 19/200 - Loss: 1.090, Accuracy: 65.10%\n",
            "Saved new best model with accuracy: 65.10%\n",
            "epoch=19\n"
          ]
        },
        {
          "output_type": "stream",
          "name": "stderr",
          "text": []
        },
        {
          "output_type": "stream",
          "name": "stdout",
          "text": [
            "Epoch 20/200 - Loss: 1.074, Accuracy: 64.39%\n",
            "epoch=20\n"
          ]
        },
        {
          "output_type": "stream",
          "name": "stderr",
          "text": []
        },
        {
          "output_type": "stream",
          "name": "stdout",
          "text": [
            "Epoch 21/200 - Loss: 1.066, Accuracy: 60.42%\n",
            "epoch=21\n"
          ]
        },
        {
          "output_type": "stream",
          "name": "stderr",
          "text": []
        },
        {
          "output_type": "stream",
          "name": "stdout",
          "text": [
            "Epoch 22/200 - Loss: 1.054, Accuracy: 64.61%\n",
            "epoch=22\n"
          ]
        },
        {
          "output_type": "stream",
          "name": "stderr",
          "text": []
        },
        {
          "output_type": "stream",
          "name": "stdout",
          "text": [
            "Epoch 23/200 - Loss: 1.044, Accuracy: 63.52%\n",
            "epoch=23\n"
          ]
        },
        {
          "output_type": "stream",
          "name": "stderr",
          "text": []
        },
        {
          "output_type": "stream",
          "name": "stdout",
          "text": [
            "Epoch 24/200 - Loss: 1.032, Accuracy: 66.12%\n",
            "Saved new best model with accuracy: 66.12%\n",
            "epoch=24\n"
          ]
        },
        {
          "output_type": "stream",
          "name": "stderr",
          "text": []
        },
        {
          "output_type": "stream",
          "name": "stdout",
          "text": [
            "Epoch 25/200 - Loss: 1.017, Accuracy: 66.57%\n",
            "Saved new best model with accuracy: 66.57%\n",
            "epoch=25\n"
          ]
        },
        {
          "output_type": "stream",
          "name": "stderr",
          "text": []
        },
        {
          "output_type": "stream",
          "name": "stdout",
          "text": [
            "Epoch 26/200 - Loss: 1.014, Accuracy: 62.45%\n",
            "epoch=26\n"
          ]
        },
        {
          "output_type": "stream",
          "name": "stderr",
          "text": []
        },
        {
          "output_type": "stream",
          "name": "stdout",
          "text": [
            "Epoch 27/200 - Loss: 1.012, Accuracy: 67.83%\n",
            "Saved new best model with accuracy: 67.83%\n",
            "epoch=27\n"
          ]
        },
        {
          "output_type": "stream",
          "name": "stderr",
          "text": []
        },
        {
          "output_type": "stream",
          "name": "stdout",
          "text": [
            "Epoch 28/200 - Loss: 1.005, Accuracy: 68.29%\n",
            "Saved new best model with accuracy: 68.29%\n",
            "epoch=28\n"
          ]
        },
        {
          "output_type": "stream",
          "name": "stderr",
          "text": []
        },
        {
          "output_type": "stream",
          "name": "stdout",
          "text": [
            "Epoch 29/200 - Loss: 0.986, Accuracy: 62.39%\n",
            "epoch=29\n"
          ]
        },
        {
          "output_type": "stream",
          "name": "stderr",
          "text": []
        },
        {
          "output_type": "stream",
          "name": "stdout",
          "text": [
            "Epoch 30/200 - Loss: 0.991, Accuracy: 67.14%\n",
            "epoch=30\n"
          ]
        },
        {
          "output_type": "stream",
          "name": "stderr",
          "text": []
        },
        {
          "output_type": "stream",
          "name": "stdout",
          "text": [
            "Epoch 31/200 - Loss: 0.985, Accuracy: 65.48%\n",
            "epoch=31\n"
          ]
        },
        {
          "output_type": "stream",
          "name": "stderr",
          "text": []
        },
        {
          "output_type": "stream",
          "name": "stdout",
          "text": [
            "Epoch 32/200 - Loss: 0.980, Accuracy: 66.35%\n",
            "epoch=32\n"
          ]
        },
        {
          "output_type": "stream",
          "name": "stderr",
          "text": []
        },
        {
          "output_type": "stream",
          "name": "stdout",
          "text": [
            "Epoch 33/200 - Loss: 0.976, Accuracy: 62.81%\n",
            "epoch=33\n"
          ]
        },
        {
          "output_type": "stream",
          "name": "stderr",
          "text": []
        },
        {
          "output_type": "stream",
          "name": "stdout",
          "text": [
            "Epoch 34/200 - Loss: 0.977, Accuracy: 60.66%\n",
            "epoch=34\n"
          ]
        },
        {
          "output_type": "stream",
          "name": "stderr",
          "text": []
        },
        {
          "output_type": "stream",
          "name": "stdout",
          "text": [
            "Epoch 35/200 - Loss: 0.964, Accuracy: 63.01%\n",
            "epoch=35\n"
          ]
        },
        {
          "output_type": "stream",
          "name": "stderr",
          "text": []
        },
        {
          "output_type": "stream",
          "name": "stdout",
          "text": [
            "Epoch 36/200 - Loss: 0.966, Accuracy: 68.52%\n",
            "Saved new best model with accuracy: 68.52%\n",
            "epoch=36\n"
          ]
        },
        {
          "output_type": "stream",
          "name": "stderr",
          "text": []
        },
        {
          "output_type": "stream",
          "name": "stdout",
          "text": [
            "Epoch 37/200 - Loss: 0.957, Accuracy: 67.97%\n",
            "epoch=37\n"
          ]
        },
        {
          "output_type": "stream",
          "name": "stderr",
          "text": []
        },
        {
          "output_type": "stream",
          "name": "stdout",
          "text": [
            "Epoch 38/200 - Loss: 0.951, Accuracy: 60.56%\n",
            "epoch=38\n"
          ]
        },
        {
          "output_type": "stream",
          "name": "stderr",
          "text": []
        },
        {
          "output_type": "stream",
          "name": "stdout",
          "text": [
            "Epoch 39/200 - Loss: 0.962, Accuracy: 63.09%\n",
            "epoch=39\n"
          ]
        },
        {
          "output_type": "stream",
          "name": "stderr",
          "text": []
        },
        {
          "output_type": "stream",
          "name": "stdout",
          "text": [
            "Epoch 40/200 - Loss: 0.953, Accuracy: 64.89%\n",
            "epoch=40\n"
          ]
        },
        {
          "output_type": "stream",
          "name": "stderr",
          "text": []
        },
        {
          "output_type": "stream",
          "name": "stdout",
          "text": [
            "Epoch 41/200 - Loss: 0.940, Accuracy: 64.92%\n",
            "epoch=41\n"
          ]
        },
        {
          "output_type": "stream",
          "name": "stderr",
          "text": []
        },
        {
          "output_type": "stream",
          "name": "stdout",
          "text": [
            "Epoch 42/200 - Loss: 0.940, Accuracy: 63.77%\n",
            "epoch=42\n"
          ]
        },
        {
          "output_type": "stream",
          "name": "stderr",
          "text": []
        },
        {
          "output_type": "stream",
          "name": "stdout",
          "text": [
            "Epoch 43/200 - Loss: 0.934, Accuracy: 69.95%\n",
            "Saved new best model with accuracy: 69.95%\n",
            "epoch=43\n"
          ]
        },
        {
          "output_type": "stream",
          "name": "stderr",
          "text": []
        },
        {
          "output_type": "stream",
          "name": "stdout",
          "text": [
            "Epoch 44/200 - Loss: 0.929, Accuracy: 67.58%\n",
            "epoch=44\n"
          ]
        },
        {
          "output_type": "stream",
          "name": "stderr",
          "text": []
        },
        {
          "output_type": "stream",
          "name": "stdout",
          "text": [
            "Epoch 45/200 - Loss: 0.929, Accuracy: 67.75%\n",
            "epoch=45\n"
          ]
        },
        {
          "output_type": "stream",
          "name": "stderr",
          "text": []
        },
        {
          "output_type": "stream",
          "name": "stdout",
          "text": [
            "Epoch 46/200 - Loss: 0.921, Accuracy: 66.46%\n",
            "epoch=46\n"
          ]
        },
        {
          "output_type": "stream",
          "name": "stderr",
          "text": []
        },
        {
          "output_type": "stream",
          "name": "stdout",
          "text": [
            "Epoch 47/200 - Loss: 0.926, Accuracy: 67.82%\n",
            "epoch=47\n"
          ]
        },
        {
          "output_type": "stream",
          "name": "stderr",
          "text": []
        },
        {
          "output_type": "stream",
          "name": "stdout",
          "text": [
            "Epoch 48/200 - Loss: 0.921, Accuracy: 65.08%\n",
            "epoch=48\n"
          ]
        },
        {
          "output_type": "stream",
          "name": "stderr",
          "text": []
        },
        {
          "output_type": "stream",
          "name": "stdout",
          "text": [
            "Epoch 49/200 - Loss: 0.921, Accuracy: 67.22%\n",
            "epoch=49\n"
          ]
        },
        {
          "output_type": "stream",
          "name": "stderr",
          "text": []
        },
        {
          "output_type": "stream",
          "name": "stdout",
          "text": [
            "Epoch 50/200 - Loss: 0.912, Accuracy: 66.97%\n",
            "epoch=50\n"
          ]
        },
        {
          "output_type": "stream",
          "name": "stderr",
          "text": []
        },
        {
          "output_type": "stream",
          "name": "stdout",
          "text": [
            "Epoch 51/200 - Loss: 0.916, Accuracy: 71.22%\n",
            "Saved new best model with accuracy: 71.22%\n",
            "epoch=51\n"
          ]
        },
        {
          "output_type": "stream",
          "name": "stderr",
          "text": []
        },
        {
          "output_type": "stream",
          "name": "stdout",
          "text": [
            "Epoch 52/200 - Loss: 0.906, Accuracy: 69.23%\n",
            "epoch=52\n"
          ]
        },
        {
          "output_type": "stream",
          "name": "stderr",
          "text": []
        },
        {
          "output_type": "stream",
          "name": "stdout",
          "text": [
            "Epoch 53/200 - Loss: 0.908, Accuracy: 71.93%\n",
            "Saved new best model with accuracy: 71.93%\n",
            "epoch=53\n"
          ]
        },
        {
          "output_type": "stream",
          "name": "stderr",
          "text": []
        },
        {
          "output_type": "stream",
          "name": "stdout",
          "text": [
            "Epoch 54/200 - Loss: 0.904, Accuracy: 70.80%\n",
            "epoch=54\n"
          ]
        },
        {
          "output_type": "stream",
          "name": "stderr",
          "text": []
        },
        {
          "output_type": "stream",
          "name": "stdout",
          "text": [
            "Epoch 55/200 - Loss: 0.899, Accuracy: 57.47%\n",
            "epoch=55\n"
          ]
        },
        {
          "output_type": "stream",
          "name": "stderr",
          "text": []
        },
        {
          "output_type": "stream",
          "name": "stdout",
          "text": [
            "Epoch 56/200 - Loss: 0.899, Accuracy: 69.35%\n",
            "epoch=56\n"
          ]
        },
        {
          "output_type": "stream",
          "name": "stderr",
          "text": []
        },
        {
          "output_type": "stream",
          "name": "stdout",
          "text": [
            "Epoch 57/200 - Loss: 0.890, Accuracy: 69.68%\n",
            "epoch=57\n"
          ]
        },
        {
          "output_type": "stream",
          "name": "stderr",
          "text": []
        },
        {
          "output_type": "stream",
          "name": "stdout",
          "text": [
            "Epoch 58/200 - Loss: 0.898, Accuracy: 68.59%\n",
            "epoch=58\n"
          ]
        },
        {
          "output_type": "stream",
          "name": "stderr",
          "text": []
        },
        {
          "output_type": "stream",
          "name": "stdout",
          "text": [
            "Epoch 59/200 - Loss: 0.888, Accuracy: 68.13%\n",
            "epoch=59\n"
          ]
        },
        {
          "output_type": "stream",
          "name": "stderr",
          "text": []
        },
        {
          "output_type": "stream",
          "name": "stdout",
          "text": [
            "Epoch 60/200 - Loss: 0.884, Accuracy: 69.99%\n",
            "epoch=60\n"
          ]
        },
        {
          "output_type": "stream",
          "name": "stderr",
          "text": []
        },
        {
          "output_type": "stream",
          "name": "stdout",
          "text": [
            "Epoch 61/200 - Loss: 0.876, Accuracy: 68.05%\n",
            "epoch=61\n"
          ]
        },
        {
          "output_type": "stream",
          "name": "stderr",
          "text": []
        },
        {
          "output_type": "stream",
          "name": "stdout",
          "text": [
            "Epoch 62/200 - Loss: 0.876, Accuracy: 66.83%\n",
            "epoch=62\n"
          ]
        },
        {
          "output_type": "stream",
          "name": "stderr",
          "text": []
        },
        {
          "output_type": "stream",
          "name": "stdout",
          "text": [
            "Epoch 63/200 - Loss: 0.883, Accuracy: 63.89%\n",
            "epoch=63\n"
          ]
        },
        {
          "output_type": "stream",
          "name": "stderr",
          "text": []
        },
        {
          "output_type": "stream",
          "name": "stdout",
          "text": [
            "Epoch 64/200 - Loss: 0.872, Accuracy: 70.78%\n",
            "epoch=64\n"
          ]
        },
        {
          "output_type": "stream",
          "name": "stderr",
          "text": []
        },
        {
          "output_type": "stream",
          "name": "stdout",
          "text": [
            "Epoch 65/200 - Loss: 0.870, Accuracy: 67.23%\n",
            "epoch=65\n"
          ]
        },
        {
          "output_type": "stream",
          "name": "stderr",
          "text": []
        },
        {
          "output_type": "stream",
          "name": "stdout",
          "text": [
            "Epoch 66/200 - Loss: 0.863, Accuracy: 66.55%\n",
            "epoch=66\n"
          ]
        },
        {
          "output_type": "stream",
          "name": "stderr",
          "text": []
        },
        {
          "output_type": "stream",
          "name": "stdout",
          "text": [
            "Epoch 67/200 - Loss: 0.872, Accuracy: 67.98%\n",
            "epoch=67\n"
          ]
        },
        {
          "output_type": "stream",
          "name": "stderr",
          "text": []
        },
        {
          "output_type": "stream",
          "name": "stdout",
          "text": [
            "Epoch 68/200 - Loss: 0.862, Accuracy: 68.24%\n",
            "epoch=68\n"
          ]
        },
        {
          "output_type": "stream",
          "name": "stderr",
          "text": []
        },
        {
          "output_type": "stream",
          "name": "stdout",
          "text": [
            "Epoch 69/200 - Loss: 0.866, Accuracy: 68.67%\n",
            "epoch=69\n"
          ]
        },
        {
          "output_type": "stream",
          "name": "stderr",
          "text": []
        },
        {
          "output_type": "stream",
          "name": "stdout",
          "text": [
            "Epoch 70/200 - Loss: 0.853, Accuracy: 67.06%\n",
            "epoch=70\n"
          ]
        },
        {
          "output_type": "stream",
          "name": "stderr",
          "text": []
        },
        {
          "output_type": "stream",
          "name": "stdout",
          "text": [
            "Epoch 71/200 - Loss: 0.845, Accuracy: 70.14%\n",
            "epoch=71\n"
          ]
        },
        {
          "output_type": "stream",
          "name": "stderr",
          "text": []
        },
        {
          "output_type": "stream",
          "name": "stdout",
          "text": [
            "Epoch 72/200 - Loss: 0.853, Accuracy: 61.83%\n",
            "epoch=72\n"
          ]
        },
        {
          "output_type": "stream",
          "name": "stderr",
          "text": []
        },
        {
          "output_type": "stream",
          "name": "stdout",
          "text": [
            "Epoch 73/200 - Loss: 0.837, Accuracy: 64.62%\n",
            "epoch=73\n"
          ]
        },
        {
          "output_type": "stream",
          "name": "stderr",
          "text": []
        },
        {
          "output_type": "stream",
          "name": "stdout",
          "text": [
            "Epoch 74/200 - Loss: 0.847, Accuracy: 69.16%\n",
            "epoch=74\n"
          ]
        },
        {
          "output_type": "stream",
          "name": "stderr",
          "text": []
        },
        {
          "output_type": "stream",
          "name": "stdout",
          "text": [
            "Epoch 75/200 - Loss: 0.835, Accuracy: 72.63%\n",
            "Saved new best model with accuracy: 72.63%\n",
            "epoch=75\n"
          ]
        },
        {
          "output_type": "stream",
          "name": "stderr",
          "text": []
        },
        {
          "output_type": "stream",
          "name": "stdout",
          "text": [
            "Epoch 76/200 - Loss: 0.834, Accuracy: 69.97%\n",
            "epoch=76\n"
          ]
        },
        {
          "output_type": "stream",
          "name": "stderr",
          "text": []
        },
        {
          "output_type": "stream",
          "name": "stdout",
          "text": [
            "Epoch 77/200 - Loss: 0.833, Accuracy: 68.31%\n",
            "epoch=77\n"
          ]
        },
        {
          "output_type": "stream",
          "name": "stderr",
          "text": []
        },
        {
          "output_type": "stream",
          "name": "stdout",
          "text": [
            "Epoch 78/200 - Loss: 0.824, Accuracy: 72.50%\n",
            "epoch=78\n"
          ]
        },
        {
          "output_type": "stream",
          "name": "stderr",
          "text": []
        },
        {
          "output_type": "stream",
          "name": "stdout",
          "text": [
            "Epoch 79/200 - Loss: 0.823, Accuracy: 70.81%\n",
            "epoch=79\n"
          ]
        },
        {
          "output_type": "stream",
          "name": "stderr",
          "text": []
        },
        {
          "output_type": "stream",
          "name": "stdout",
          "text": [
            "Epoch 80/200 - Loss: 0.817, Accuracy: 71.02%\n",
            "epoch=80\n"
          ]
        },
        {
          "output_type": "stream",
          "name": "stderr",
          "text": []
        },
        {
          "output_type": "stream",
          "name": "stdout",
          "text": [
            "Epoch 81/200 - Loss: 0.823, Accuracy: 71.84%\n",
            "epoch=81\n"
          ]
        },
        {
          "output_type": "stream",
          "name": "stderr",
          "text": []
        },
        {
          "output_type": "stream",
          "name": "stdout",
          "text": [
            "Epoch 82/200 - Loss: 0.813, Accuracy: 69.40%\n",
            "epoch=82\n"
          ]
        },
        {
          "output_type": "stream",
          "name": "stderr",
          "text": []
        },
        {
          "output_type": "stream",
          "name": "stdout",
          "text": [
            "Epoch 83/200 - Loss: 0.816, Accuracy: 70.52%\n",
            "epoch=83\n"
          ]
        },
        {
          "output_type": "stream",
          "name": "stderr",
          "text": []
        },
        {
          "output_type": "stream",
          "name": "stdout",
          "text": [
            "Epoch 84/200 - Loss: 0.799, Accuracy: 70.98%\n",
            "epoch=84\n"
          ]
        },
        {
          "output_type": "stream",
          "name": "stderr",
          "text": []
        },
        {
          "output_type": "stream",
          "name": "stdout",
          "text": [
            "Epoch 85/200 - Loss: 0.798, Accuracy: 73.31%\n",
            "Saved new best model with accuracy: 73.31%\n",
            "epoch=85\n"
          ]
        },
        {
          "output_type": "stream",
          "name": "stderr",
          "text": []
        },
        {
          "output_type": "stream",
          "name": "stdout",
          "text": [
            "Epoch 86/200 - Loss: 0.795, Accuracy: 71.29%\n",
            "epoch=86\n"
          ]
        },
        {
          "output_type": "stream",
          "name": "stderr",
          "text": []
        },
        {
          "output_type": "stream",
          "name": "stdout",
          "text": [
            "Epoch 87/200 - Loss: 0.798, Accuracy: 72.47%\n",
            "epoch=87\n"
          ]
        },
        {
          "output_type": "stream",
          "name": "stderr",
          "text": []
        },
        {
          "output_type": "stream",
          "name": "stdout",
          "text": [
            "Epoch 88/200 - Loss: 0.786, Accuracy: 71.91%\n",
            "epoch=88\n"
          ]
        },
        {
          "output_type": "stream",
          "name": "stderr",
          "text": []
        },
        {
          "output_type": "stream",
          "name": "stdout",
          "text": [
            "Epoch 89/200 - Loss: 0.792, Accuracy: 71.52%\n",
            "epoch=89\n"
          ]
        },
        {
          "output_type": "stream",
          "name": "stderr",
          "text": []
        },
        {
          "output_type": "stream",
          "name": "stdout",
          "text": [
            "Epoch 90/200 - Loss: 0.779, Accuracy: 74.00%\n",
            "Saved new best model with accuracy: 74.00%\n",
            "epoch=90\n"
          ]
        },
        {
          "output_type": "stream",
          "name": "stderr",
          "text": []
        },
        {
          "output_type": "stream",
          "name": "stdout",
          "text": [
            "Epoch 91/200 - Loss: 0.772, Accuracy: 70.78%\n",
            "epoch=91\n"
          ]
        },
        {
          "output_type": "stream",
          "name": "stderr",
          "text": []
        },
        {
          "output_type": "stream",
          "name": "stdout",
          "text": [
            "Epoch 92/200 - Loss: 0.766, Accuracy: 73.81%\n",
            "epoch=92\n"
          ]
        },
        {
          "output_type": "stream",
          "name": "stderr",
          "text": []
        },
        {
          "output_type": "stream",
          "name": "stdout",
          "text": [
            "Epoch 93/200 - Loss: 0.771, Accuracy: 73.19%\n",
            "epoch=93\n"
          ]
        },
        {
          "output_type": "stream",
          "name": "stderr",
          "text": []
        },
        {
          "output_type": "stream",
          "name": "stdout",
          "text": [
            "Epoch 94/200 - Loss: 0.768, Accuracy: 75.10%\n",
            "Saved new best model with accuracy: 75.10%\n",
            "epoch=94\n"
          ]
        },
        {
          "output_type": "stream",
          "name": "stderr",
          "text": []
        },
        {
          "output_type": "stream",
          "name": "stdout",
          "text": [
            "Epoch 95/200 - Loss: 0.758, Accuracy: 72.98%\n",
            "epoch=95\n"
          ]
        },
        {
          "output_type": "stream",
          "name": "stderr",
          "text": []
        },
        {
          "output_type": "stream",
          "name": "stdout",
          "text": [
            "Epoch 96/200 - Loss: 0.761, Accuracy: 69.47%\n",
            "epoch=96\n"
          ]
        },
        {
          "output_type": "stream",
          "name": "stderr",
          "text": []
        },
        {
          "output_type": "stream",
          "name": "stdout",
          "text": [
            "Epoch 97/200 - Loss: 0.763, Accuracy: 76.41%\n",
            "Saved new best model with accuracy: 76.41%\n",
            "epoch=97\n"
          ]
        },
        {
          "output_type": "stream",
          "name": "stderr",
          "text": []
        },
        {
          "output_type": "stream",
          "name": "stdout",
          "text": [
            "Epoch 98/200 - Loss: 0.753, Accuracy: 74.68%\n",
            "epoch=98\n"
          ]
        },
        {
          "output_type": "stream",
          "name": "stderr",
          "text": []
        },
        {
          "output_type": "stream",
          "name": "stdout",
          "text": [
            "Epoch 99/200 - Loss: 0.739, Accuracy: 72.93%\n",
            "epoch=99\n"
          ]
        },
        {
          "output_type": "stream",
          "name": "stderr",
          "text": []
        },
        {
          "output_type": "stream",
          "name": "stdout",
          "text": [
            "Epoch 100/200 - Loss: 0.745, Accuracy: 69.72%\n",
            "epoch=100\n"
          ]
        },
        {
          "output_type": "stream",
          "name": "stderr",
          "text": []
        },
        {
          "output_type": "stream",
          "name": "stdout",
          "text": [
            "Epoch 101/200 - Loss: 0.741, Accuracy: 74.48%\n",
            "epoch=101\n"
          ]
        },
        {
          "output_type": "stream",
          "name": "stderr",
          "text": []
        },
        {
          "output_type": "stream",
          "name": "stdout",
          "text": [
            "Epoch 102/200 - Loss: 0.730, Accuracy: 74.32%\n",
            "epoch=102\n"
          ]
        },
        {
          "output_type": "stream",
          "name": "stderr",
          "text": []
        },
        {
          "output_type": "stream",
          "name": "stdout",
          "text": [
            "Epoch 103/200 - Loss: 0.727, Accuracy: 73.38%\n",
            "epoch=103\n"
          ]
        },
        {
          "output_type": "stream",
          "name": "stderr",
          "text": []
        },
        {
          "output_type": "stream",
          "name": "stdout",
          "text": [
            "Epoch 104/200 - Loss: 0.727, Accuracy: 75.29%\n",
            "epoch=104\n"
          ]
        },
        {
          "output_type": "stream",
          "name": "stderr",
          "text": []
        },
        {
          "output_type": "stream",
          "name": "stdout",
          "text": [
            "Epoch 105/200 - Loss: 0.716, Accuracy: 75.43%\n",
            "epoch=105\n"
          ]
        },
        {
          "output_type": "stream",
          "name": "stderr",
          "text": []
        },
        {
          "output_type": "stream",
          "name": "stdout",
          "text": [
            "Epoch 106/200 - Loss: 0.713, Accuracy: 71.14%\n",
            "epoch=106\n"
          ]
        },
        {
          "output_type": "stream",
          "name": "stderr",
          "text": []
        },
        {
          "output_type": "stream",
          "name": "stdout",
          "text": [
            "Epoch 107/200 - Loss: 0.709, Accuracy: 72.02%\n",
            "epoch=107\n"
          ]
        },
        {
          "output_type": "stream",
          "name": "stderr",
          "text": []
        },
        {
          "output_type": "stream",
          "name": "stdout",
          "text": [
            "Epoch 108/200 - Loss: 0.710, Accuracy: 77.09%\n",
            "Saved new best model with accuracy: 77.09%\n",
            "epoch=108\n"
          ]
        },
        {
          "output_type": "stream",
          "name": "stderr",
          "text": []
        },
        {
          "output_type": "stream",
          "name": "stdout",
          "text": [
            "Epoch 109/200 - Loss: 0.699, Accuracy: 74.39%\n",
            "epoch=109\n"
          ]
        },
        {
          "output_type": "stream",
          "name": "stderr",
          "text": []
        },
        {
          "output_type": "stream",
          "name": "stdout",
          "text": [
            "Epoch 110/200 - Loss: 0.697, Accuracy: 76.39%\n",
            "epoch=110\n"
          ]
        },
        {
          "output_type": "stream",
          "name": "stderr",
          "text": []
        },
        {
          "output_type": "stream",
          "name": "stdout",
          "text": [
            "Epoch 111/200 - Loss: 0.689, Accuracy: 74.75%\n",
            "epoch=111\n"
          ]
        },
        {
          "output_type": "stream",
          "name": "stderr",
          "text": []
        },
        {
          "output_type": "stream",
          "name": "stdout",
          "text": [
            "Epoch 112/200 - Loss: 0.685, Accuracy: 73.94%\n",
            "epoch=112\n"
          ]
        },
        {
          "output_type": "stream",
          "name": "stderr",
          "text": []
        },
        {
          "output_type": "stream",
          "name": "stdout",
          "text": [
            "Epoch 113/200 - Loss: 0.677, Accuracy: 75.61%\n",
            "epoch=113\n"
          ]
        },
        {
          "output_type": "stream",
          "name": "stderr",
          "text": []
        },
        {
          "output_type": "stream",
          "name": "stdout",
          "text": [
            "Epoch 114/200 - Loss: 0.671, Accuracy: 74.81%\n",
            "epoch=114\n"
          ]
        },
        {
          "output_type": "stream",
          "name": "stderr",
          "text": []
        },
        {
          "output_type": "stream",
          "name": "stdout",
          "text": [
            "Epoch 115/200 - Loss: 0.675, Accuracy: 74.85%\n",
            "epoch=115\n"
          ]
        },
        {
          "output_type": "stream",
          "name": "stderr",
          "text": []
        },
        {
          "output_type": "stream",
          "name": "stdout",
          "text": [
            "Epoch 116/200 - Loss: 0.660, Accuracy: 73.06%\n",
            "epoch=116\n"
          ]
        },
        {
          "output_type": "stream",
          "name": "stderr",
          "text": []
        },
        {
          "output_type": "stream",
          "name": "stdout",
          "text": [
            "Epoch 117/200 - Loss: 0.660, Accuracy: 75.39%\n",
            "epoch=117\n"
          ]
        },
        {
          "output_type": "stream",
          "name": "stderr",
          "text": []
        },
        {
          "output_type": "stream",
          "name": "stdout",
          "text": [
            "Epoch 118/200 - Loss: 0.658, Accuracy: 77.31%\n",
            "Saved new best model with accuracy: 77.31%\n",
            "epoch=118\n"
          ]
        },
        {
          "output_type": "stream",
          "name": "stderr",
          "text": []
        },
        {
          "output_type": "stream",
          "name": "stdout",
          "text": [
            "Epoch 119/200 - Loss: 0.657, Accuracy: 74.27%\n",
            "epoch=119\n"
          ]
        },
        {
          "output_type": "stream",
          "name": "stderr",
          "text": []
        },
        {
          "output_type": "stream",
          "name": "stdout",
          "text": [
            "Epoch 120/200 - Loss: 0.646, Accuracy: 75.85%\n",
            "epoch=120\n"
          ]
        },
        {
          "output_type": "stream",
          "name": "stderr",
          "text": []
        },
        {
          "output_type": "stream",
          "name": "stdout",
          "text": [
            "Epoch 121/200 - Loss: 0.638, Accuracy: 76.23%\n",
            "epoch=121\n"
          ]
        },
        {
          "output_type": "stream",
          "name": "stderr",
          "text": []
        },
        {
          "output_type": "stream",
          "name": "stdout",
          "text": [
            "Epoch 122/200 - Loss: 0.638, Accuracy: 75.55%\n",
            "epoch=122\n"
          ]
        },
        {
          "output_type": "stream",
          "name": "stderr",
          "text": []
        },
        {
          "output_type": "stream",
          "name": "stdout",
          "text": [
            "Epoch 123/200 - Loss: 0.635, Accuracy: 77.10%\n",
            "epoch=123\n"
          ]
        },
        {
          "output_type": "stream",
          "name": "stderr",
          "text": []
        },
        {
          "output_type": "stream",
          "name": "stdout",
          "text": [
            "Epoch 124/200 - Loss: 0.627, Accuracy: 76.83%\n",
            "epoch=124\n"
          ]
        },
        {
          "output_type": "stream",
          "name": "stderr",
          "text": []
        },
        {
          "output_type": "stream",
          "name": "stdout",
          "text": [
            "Epoch 125/200 - Loss: 0.617, Accuracy: 76.76%\n",
            "epoch=125\n"
          ]
        },
        {
          "output_type": "stream",
          "name": "stderr",
          "text": []
        },
        {
          "output_type": "stream",
          "name": "stdout",
          "text": [
            "Epoch 126/200 - Loss: 0.606, Accuracy: 78.59%\n",
            "Saved new best model with accuracy: 78.59%\n",
            "epoch=126\n"
          ]
        },
        {
          "output_type": "stream",
          "name": "stderr",
          "text": []
        },
        {
          "output_type": "stream",
          "name": "stdout",
          "text": [
            "Epoch 127/200 - Loss: 0.610, Accuracy: 76.70%\n",
            "epoch=127\n"
          ]
        },
        {
          "output_type": "stream",
          "name": "stderr",
          "text": []
        },
        {
          "output_type": "stream",
          "name": "stdout",
          "text": [
            "Epoch 128/200 - Loss: 0.602, Accuracy: 78.68%\n",
            "Saved new best model with accuracy: 78.68%\n",
            "epoch=128\n"
          ]
        },
        {
          "output_type": "stream",
          "name": "stderr",
          "text": []
        },
        {
          "output_type": "stream",
          "name": "stdout",
          "text": [
            "Epoch 129/200 - Loss: 0.595, Accuracy: 79.16%\n",
            "Saved new best model with accuracy: 79.16%\n",
            "epoch=129\n"
          ]
        },
        {
          "output_type": "stream",
          "name": "stderr",
          "text": []
        },
        {
          "output_type": "stream",
          "name": "stdout",
          "text": [
            "Epoch 130/200 - Loss: 0.592, Accuracy: 78.95%\n",
            "epoch=130\n"
          ]
        },
        {
          "output_type": "stream",
          "name": "stderr",
          "text": []
        },
        {
          "output_type": "stream",
          "name": "stdout",
          "text": [
            "Epoch 131/200 - Loss: 0.585, Accuracy: 79.12%\n",
            "epoch=131\n"
          ]
        },
        {
          "output_type": "stream",
          "name": "stderr",
          "text": []
        },
        {
          "output_type": "stream",
          "name": "stdout",
          "text": [
            "Epoch 132/200 - Loss: 0.572, Accuracy: 77.37%\n",
            "epoch=132\n"
          ]
        },
        {
          "output_type": "stream",
          "name": "stderr",
          "text": []
        },
        {
          "output_type": "stream",
          "name": "stdout",
          "text": [
            "Epoch 133/200 - Loss: 0.571, Accuracy: 79.26%\n",
            "Saved new best model with accuracy: 79.26%\n",
            "epoch=133\n"
          ]
        },
        {
          "output_type": "stream",
          "name": "stderr",
          "text": []
        },
        {
          "output_type": "stream",
          "name": "stdout",
          "text": [
            "Epoch 134/200 - Loss: 0.562, Accuracy: 78.81%\n",
            "epoch=134\n"
          ]
        },
        {
          "output_type": "stream",
          "name": "stderr",
          "text": []
        },
        {
          "output_type": "stream",
          "name": "stdout",
          "text": [
            "Epoch 135/200 - Loss: 0.567, Accuracy: 78.65%\n",
            "epoch=135\n"
          ]
        },
        {
          "output_type": "stream",
          "name": "stderr",
          "text": []
        },
        {
          "output_type": "stream",
          "name": "stdout",
          "text": [
            "Epoch 136/200 - Loss: 0.554, Accuracy: 80.55%\n",
            "Saved new best model with accuracy: 80.55%\n",
            "epoch=136\n"
          ]
        },
        {
          "output_type": "stream",
          "name": "stderr",
          "text": []
        },
        {
          "output_type": "stream",
          "name": "stdout",
          "text": [
            "Epoch 137/200 - Loss: 0.548, Accuracy: 79.91%\n",
            "epoch=137\n"
          ]
        },
        {
          "output_type": "stream",
          "name": "stderr",
          "text": []
        },
        {
          "output_type": "stream",
          "name": "stdout",
          "text": [
            "Epoch 138/200 - Loss: 0.546, Accuracy: 77.29%\n",
            "epoch=138\n"
          ]
        },
        {
          "output_type": "stream",
          "name": "stderr",
          "text": []
        },
        {
          "output_type": "stream",
          "name": "stdout",
          "text": [
            "Epoch 139/200 - Loss: 0.542, Accuracy: 80.46%\n",
            "epoch=139\n"
          ]
        },
        {
          "output_type": "stream",
          "name": "stderr",
          "text": []
        },
        {
          "output_type": "stream",
          "name": "stdout",
          "text": [
            "Epoch 140/200 - Loss: 0.533, Accuracy: 79.35%\n",
            "epoch=140\n"
          ]
        },
        {
          "output_type": "stream",
          "name": "stderr",
          "text": []
        },
        {
          "output_type": "stream",
          "name": "stdout",
          "text": [
            "Epoch 141/200 - Loss: 0.521, Accuracy: 80.55%\n",
            "epoch=141\n"
          ]
        },
        {
          "output_type": "stream",
          "name": "stderr",
          "text": []
        },
        {
          "output_type": "stream",
          "name": "stdout",
          "text": [
            "Epoch 142/200 - Loss: 0.514, Accuracy: 79.88%\n",
            "epoch=142\n"
          ]
        },
        {
          "output_type": "stream",
          "name": "stderr",
          "text": []
        },
        {
          "output_type": "stream",
          "name": "stdout",
          "text": [
            "Epoch 143/200 - Loss: 0.510, Accuracy: 81.58%\n",
            "Saved new best model with accuracy: 81.58%\n",
            "epoch=143\n"
          ]
        },
        {
          "output_type": "stream",
          "name": "stderr",
          "text": []
        },
        {
          "output_type": "stream",
          "name": "stdout",
          "text": [
            "Epoch 144/200 - Loss: 0.501, Accuracy: 82.42%\n",
            "Saved new best model with accuracy: 82.42%\n",
            "epoch=144\n"
          ]
        },
        {
          "output_type": "stream",
          "name": "stderr",
          "text": []
        },
        {
          "output_type": "stream",
          "name": "stdout",
          "text": [
            "Epoch 145/200 - Loss: 0.493, Accuracy: 82.15%\n",
            "epoch=145\n"
          ]
        },
        {
          "output_type": "stream",
          "name": "stderr",
          "text": []
        },
        {
          "output_type": "stream",
          "name": "stdout",
          "text": [
            "Epoch 146/200 - Loss: 0.488, Accuracy: 79.43%\n",
            "epoch=146\n"
          ]
        },
        {
          "output_type": "stream",
          "name": "stderr",
          "text": []
        },
        {
          "output_type": "stream",
          "name": "stdout",
          "text": [
            "Epoch 147/200 - Loss: 0.479, Accuracy: 82.12%\n",
            "epoch=147\n"
          ]
        },
        {
          "output_type": "stream",
          "name": "stderr",
          "text": []
        },
        {
          "output_type": "stream",
          "name": "stdout",
          "text": [
            "Epoch 148/200 - Loss: 0.479, Accuracy: 81.78%\n",
            "epoch=148\n"
          ]
        },
        {
          "output_type": "stream",
          "name": "stderr",
          "text": []
        },
        {
          "output_type": "stream",
          "name": "stdout",
          "text": [
            "Epoch 149/200 - Loss: 0.470, Accuracy: 80.62%\n",
            "epoch=149\n"
          ]
        },
        {
          "output_type": "stream",
          "name": "stderr",
          "text": []
        },
        {
          "output_type": "stream",
          "name": "stdout",
          "text": [
            "Epoch 150/200 - Loss: 0.459, Accuracy: 82.61%\n",
            "Saved new best model with accuracy: 82.61%\n",
            "epoch=150\n"
          ]
        },
        {
          "output_type": "stream",
          "name": "stderr",
          "text": []
        },
        {
          "output_type": "stream",
          "name": "stdout",
          "text": [
            "Epoch 151/200 - Loss: 0.448, Accuracy: 81.60%\n",
            "epoch=151\n"
          ]
        },
        {
          "output_type": "stream",
          "name": "stderr",
          "text": []
        },
        {
          "output_type": "stream",
          "name": "stdout",
          "text": [
            "Epoch 152/200 - Loss: 0.442, Accuracy: 81.96%\n",
            "epoch=152\n"
          ]
        },
        {
          "output_type": "stream",
          "name": "stderr",
          "text": []
        },
        {
          "output_type": "stream",
          "name": "stdout",
          "text": [
            "Epoch 153/200 - Loss: 0.440, Accuracy: 82.33%\n",
            "epoch=153\n"
          ]
        },
        {
          "output_type": "stream",
          "name": "stderr",
          "text": []
        },
        {
          "output_type": "stream",
          "name": "stdout",
          "text": [
            "Epoch 154/200 - Loss: 0.429, Accuracy: 82.05%\n",
            "epoch=154\n"
          ]
        },
        {
          "output_type": "stream",
          "name": "stderr",
          "text": []
        },
        {
          "output_type": "stream",
          "name": "stdout",
          "text": [
            "Epoch 155/200 - Loss: 0.419, Accuracy: 83.44%\n",
            "Saved new best model with accuracy: 83.44%\n",
            "epoch=155\n"
          ]
        },
        {
          "output_type": "stream",
          "name": "stderr",
          "text": []
        },
        {
          "output_type": "stream",
          "name": "stdout",
          "text": [
            "Epoch 156/200 - Loss: 0.414, Accuracy: 81.65%\n",
            "epoch=156\n"
          ]
        },
        {
          "output_type": "stream",
          "name": "stderr",
          "text": []
        },
        {
          "output_type": "stream",
          "name": "stdout",
          "text": [
            "Epoch 157/200 - Loss: 0.409, Accuracy: 82.22%\n",
            "epoch=157\n"
          ]
        },
        {
          "output_type": "stream",
          "name": "stderr",
          "text": []
        },
        {
          "output_type": "stream",
          "name": "stdout",
          "text": [
            "Epoch 158/200 - Loss: 0.399, Accuracy: 83.33%\n",
            "epoch=158\n"
          ]
        },
        {
          "output_type": "stream",
          "name": "stderr",
          "text": []
        },
        {
          "output_type": "stream",
          "name": "stdout",
          "text": [
            "Epoch 159/200 - Loss: 0.385, Accuracy: 84.53%\n",
            "Saved new best model with accuracy: 84.53%\n",
            "epoch=159\n"
          ]
        },
        {
          "output_type": "stream",
          "name": "stderr",
          "text": []
        },
        {
          "output_type": "stream",
          "name": "stdout",
          "text": [
            "Epoch 160/200 - Loss: 0.379, Accuracy: 83.50%\n",
            "epoch=160\n"
          ]
        },
        {
          "output_type": "stream",
          "name": "stderr",
          "text": []
        },
        {
          "output_type": "stream",
          "name": "stdout",
          "text": [
            "Epoch 161/200 - Loss: 0.371, Accuracy: 84.46%\n",
            "epoch=161\n"
          ]
        },
        {
          "output_type": "stream",
          "name": "stderr",
          "text": []
        },
        {
          "output_type": "stream",
          "name": "stdout",
          "text": [
            "Epoch 162/200 - Loss: 0.362, Accuracy: 84.02%\n",
            "epoch=162\n"
          ]
        },
        {
          "output_type": "stream",
          "name": "stderr",
          "text": []
        },
        {
          "output_type": "stream",
          "name": "stdout",
          "text": [
            "Epoch 163/200 - Loss: 0.352, Accuracy: 83.58%\n",
            "epoch=163\n"
          ]
        },
        {
          "output_type": "stream",
          "name": "stderr",
          "text": []
        },
        {
          "output_type": "stream",
          "name": "stdout",
          "text": [
            "Epoch 164/200 - Loss: 0.342, Accuracy: 84.67%\n",
            "Saved new best model with accuracy: 84.67%\n",
            "epoch=164\n"
          ]
        },
        {
          "output_type": "stream",
          "name": "stderr",
          "text": []
        },
        {
          "output_type": "stream",
          "name": "stdout",
          "text": [
            "Epoch 165/200 - Loss: 0.335, Accuracy: 85.07%\n",
            "Saved new best model with accuracy: 85.07%\n",
            "epoch=165\n"
          ]
        },
        {
          "output_type": "stream",
          "name": "stderr",
          "text": []
        },
        {
          "output_type": "stream",
          "name": "stdout",
          "text": [
            "Epoch 166/200 - Loss: 0.329, Accuracy: 85.35%\n",
            "Saved new best model with accuracy: 85.35%\n",
            "epoch=166\n"
          ]
        },
        {
          "output_type": "stream",
          "name": "stderr",
          "text": []
        },
        {
          "output_type": "stream",
          "name": "stdout",
          "text": [
            "Epoch 167/200 - Loss: 0.316, Accuracy: 85.26%\n",
            "epoch=167\n"
          ]
        },
        {
          "output_type": "stream",
          "name": "stderr",
          "text": []
        },
        {
          "output_type": "stream",
          "name": "stdout",
          "text": [
            "Epoch 168/200 - Loss: 0.309, Accuracy: 85.04%\n",
            "epoch=168\n"
          ]
        },
        {
          "output_type": "stream",
          "name": "stderr",
          "text": []
        },
        {
          "output_type": "stream",
          "name": "stdout",
          "text": [
            "Epoch 169/200 - Loss: 0.300, Accuracy: 85.93%\n",
            "Saved new best model with accuracy: 85.93%\n",
            "epoch=169\n"
          ]
        },
        {
          "output_type": "stream",
          "name": "stderr",
          "text": []
        },
        {
          "output_type": "stream",
          "name": "stdout",
          "text": [
            "Epoch 170/200 - Loss: 0.286, Accuracy: 85.44%\n",
            "epoch=170\n"
          ]
        },
        {
          "output_type": "stream",
          "name": "stderr",
          "text": []
        },
        {
          "output_type": "stream",
          "name": "stdout",
          "text": [
            "Epoch 171/200 - Loss: 0.271, Accuracy: 85.94%\n",
            "Saved new best model with accuracy: 85.94%\n",
            "epoch=171\n"
          ]
        },
        {
          "output_type": "stream",
          "name": "stderr",
          "text": []
        },
        {
          "output_type": "stream",
          "name": "stdout",
          "text": [
            "Epoch 172/200 - Loss: 0.266, Accuracy: 85.94%\n",
            "epoch=172\n"
          ]
        },
        {
          "output_type": "stream",
          "name": "stderr",
          "text": []
        },
        {
          "output_type": "stream",
          "name": "stdout",
          "text": [
            "Epoch 173/200 - Loss: 0.256, Accuracy: 86.34%\n",
            "Saved new best model with accuracy: 86.34%\n",
            "epoch=173\n"
          ]
        },
        {
          "output_type": "stream",
          "name": "stderr",
          "text": []
        },
        {
          "output_type": "stream",
          "name": "stdout",
          "text": [
            "Epoch 174/200 - Loss: 0.243, Accuracy: 86.22%\n",
            "epoch=174\n"
          ]
        },
        {
          "output_type": "stream",
          "name": "stderr",
          "text": []
        },
        {
          "output_type": "stream",
          "name": "stdout",
          "text": [
            "Epoch 175/200 - Loss: 0.236, Accuracy: 86.02%\n",
            "epoch=175\n"
          ]
        },
        {
          "output_type": "stream",
          "name": "stderr",
          "text": []
        },
        {
          "output_type": "stream",
          "name": "stdout",
          "text": [
            "Epoch 176/200 - Loss: 0.225, Accuracy: 86.91%\n",
            "Saved new best model with accuracy: 86.91%\n",
            "epoch=176\n"
          ]
        },
        {
          "output_type": "stream",
          "name": "stderr",
          "text": []
        },
        {
          "output_type": "stream",
          "name": "stdout",
          "text": [
            "Epoch 177/200 - Loss: 0.214, Accuracy: 87.06%\n",
            "Saved new best model with accuracy: 87.06%\n",
            "epoch=177\n"
          ]
        },
        {
          "output_type": "stream",
          "name": "stderr",
          "text": []
        },
        {
          "output_type": "stream",
          "name": "stdout",
          "text": [
            "Epoch 178/200 - Loss: 0.205, Accuracy: 87.01%\n",
            "epoch=178\n"
          ]
        },
        {
          "output_type": "stream",
          "name": "stderr",
          "text": []
        },
        {
          "output_type": "stream",
          "name": "stdout",
          "text": [
            "Epoch 179/200 - Loss: 0.195, Accuracy: 86.98%\n",
            "epoch=179\n"
          ]
        },
        {
          "output_type": "stream",
          "name": "stderr",
          "text": []
        },
        {
          "output_type": "stream",
          "name": "stdout",
          "text": [
            "Epoch 180/200 - Loss: 0.190, Accuracy: 87.08%\n",
            "Saved new best model with accuracy: 87.08%\n",
            "epoch=180\n"
          ]
        },
        {
          "output_type": "stream",
          "name": "stderr",
          "text": []
        },
        {
          "output_type": "stream",
          "name": "stdout",
          "text": [
            "Epoch 181/200 - Loss: 0.173, Accuracy: 87.00%\n",
            "epoch=181\n"
          ]
        },
        {
          "output_type": "stream",
          "name": "stderr",
          "text": []
        },
        {
          "output_type": "stream",
          "name": "stdout",
          "text": [
            "Epoch 182/200 - Loss: 0.161, Accuracy: 87.78%\n",
            "Saved new best model with accuracy: 87.78%\n",
            "epoch=182\n"
          ]
        },
        {
          "output_type": "stream",
          "name": "stderr",
          "text": []
        },
        {
          "output_type": "stream",
          "name": "stdout",
          "text": [
            "Epoch 183/200 - Loss: 0.153, Accuracy: 87.75%\n",
            "epoch=183\n"
          ]
        },
        {
          "output_type": "stream",
          "name": "stderr",
          "text": []
        },
        {
          "output_type": "stream",
          "name": "stdout",
          "text": [
            "Epoch 184/200 - Loss: 0.142, Accuracy: 87.25%\n",
            "epoch=184\n"
          ]
        },
        {
          "output_type": "stream",
          "name": "stderr",
          "text": []
        },
        {
          "output_type": "stream",
          "name": "stdout",
          "text": [
            "Epoch 185/200 - Loss: 0.134, Accuracy: 87.98%\n",
            "Saved new best model with accuracy: 87.98%\n",
            "epoch=185\n"
          ]
        },
        {
          "output_type": "stream",
          "name": "stderr",
          "text": []
        },
        {
          "output_type": "stream",
          "name": "stdout",
          "text": [
            "Epoch 186/200 - Loss: 0.130, Accuracy: 87.72%\n",
            "epoch=186\n"
          ]
        },
        {
          "output_type": "stream",
          "name": "stderr",
          "text": []
        },
        {
          "output_type": "stream",
          "name": "stdout",
          "text": [
            "Epoch 187/200 - Loss: 0.116, Accuracy: 87.96%\n",
            "epoch=187\n"
          ]
        },
        {
          "output_type": "stream",
          "name": "stderr",
          "text": []
        },
        {
          "output_type": "stream",
          "name": "stdout",
          "text": [
            "Epoch 188/200 - Loss: 0.110, Accuracy: 87.86%\n",
            "epoch=188\n"
          ]
        },
        {
          "output_type": "stream",
          "name": "stderr",
          "text": []
        },
        {
          "output_type": "stream",
          "name": "stdout",
          "text": [
            "Epoch 189/200 - Loss: 0.102, Accuracy: 88.59%\n",
            "Saved new best model with accuracy: 88.59%\n",
            "epoch=189\n"
          ]
        },
        {
          "output_type": "stream",
          "name": "stderr",
          "text": []
        },
        {
          "output_type": "stream",
          "name": "stdout",
          "text": [
            "Epoch 190/200 - Loss: 0.100, Accuracy: 88.28%\n",
            "epoch=190\n"
          ]
        },
        {
          "output_type": "stream",
          "name": "stderr",
          "text": []
        },
        {
          "output_type": "stream",
          "name": "stdout",
          "text": [
            "Epoch 191/200 - Loss: 0.087, Accuracy: 88.47%\n",
            "epoch=191\n"
          ]
        },
        {
          "output_type": "stream",
          "name": "stderr",
          "text": []
        },
        {
          "output_type": "stream",
          "name": "stdout",
          "text": [
            "Epoch 192/200 - Loss: 0.085, Accuracy: 88.56%\n",
            "epoch=192\n"
          ]
        },
        {
          "output_type": "stream",
          "name": "stderr",
          "text": []
        },
        {
          "output_type": "stream",
          "name": "stdout",
          "text": [
            "Epoch 193/200 - Loss: 0.082, Accuracy: 88.56%\n",
            "epoch=193\n"
          ]
        },
        {
          "output_type": "stream",
          "name": "stderr",
          "text": []
        },
        {
          "output_type": "stream",
          "name": "stdout",
          "text": [
            "Epoch 194/200 - Loss: 0.079, Accuracy: 88.45%\n",
            "epoch=194\n"
          ]
        },
        {
          "output_type": "stream",
          "name": "stderr",
          "text": []
        },
        {
          "output_type": "stream",
          "name": "stdout",
          "text": [
            "Epoch 195/200 - Loss: 0.073, Accuracy: 88.57%\n",
            "epoch=195\n"
          ]
        },
        {
          "output_type": "stream",
          "name": "stderr",
          "text": []
        },
        {
          "output_type": "stream",
          "name": "stdout",
          "text": [
            "Epoch 196/200 - Loss: 0.073, Accuracy: 88.69%\n",
            "Saved new best model with accuracy: 88.69%\n",
            "epoch=196\n"
          ]
        },
        {
          "output_type": "stream",
          "name": "stderr",
          "text": []
        },
        {
          "output_type": "stream",
          "name": "stdout",
          "text": [
            "Epoch 197/200 - Loss: 0.071, Accuracy: 89.00%\n",
            "Saved new best model with accuracy: 89.00%\n",
            "epoch=197\n"
          ]
        },
        {
          "output_type": "stream",
          "name": "stderr",
          "text": []
        },
        {
          "output_type": "stream",
          "name": "stdout",
          "text": [
            "Epoch 198/200 - Loss: 0.069, Accuracy: 88.71%\n",
            "epoch=198\n"
          ]
        },
        {
          "output_type": "stream",
          "name": "stderr",
          "text": []
        },
        {
          "output_type": "stream",
          "name": "stdout",
          "text": [
            "Epoch 199/200 - Loss: 0.070, Accuracy: 88.67%\n",
            "epoch=199\n"
          ]
        },
        {
          "output_type": "stream",
          "name": "stderr",
          "text": []
        },
        {
          "output_type": "stream",
          "name": "stdout",
          "text": [
            "Epoch 200/200 - Loss: 0.068, Accuracy: 88.69%\n",
            "Total weight sparsity in the model: 29.97%\n",
            "-----------------------pruning_rate=0.4------------------------\n",
            "Files already downloaded and verified\n",
            "Files already downloaded and verified\n",
            "epoch=0\n"
          ]
        },
        {
          "output_type": "stream",
          "name": "stderr",
          "text": []
        },
        {
          "output_type": "stream",
          "name": "stdout",
          "text": [
            "Epoch 1/10 - Loss: 3.743, Accuracy: 19.33%\n",
            "Total weight sparsity in the model: 4.00%\n",
            "epoch=1\n"
          ]
        },
        {
          "output_type": "stream",
          "name": "stderr",
          "text": []
        },
        {
          "output_type": "stream",
          "name": "stdout",
          "text": [
            "Epoch 2/10 - Loss: 1.980, Accuracy: 28.83%\n",
            "Total weight sparsity in the model: 7.99%\n",
            "epoch=2\n"
          ]
        },
        {
          "output_type": "stream",
          "name": "stderr",
          "text": []
        },
        {
          "output_type": "stream",
          "name": "stdout",
          "text": [
            "Epoch 3/10 - Loss: 1.839, Accuracy: 35.59%\n",
            "Total weight sparsity in the model: 11.99%\n",
            "epoch=3\n"
          ]
        },
        {
          "output_type": "stream",
          "name": "stderr",
          "text": []
        },
        {
          "output_type": "stream",
          "name": "stdout",
          "text": [
            "Epoch 4/10 - Loss: 1.704, Accuracy: 39.50%\n",
            "Total weight sparsity in the model: 15.98%\n",
            "epoch=4\n"
          ]
        },
        {
          "output_type": "stream",
          "name": "stderr",
          "text": []
        },
        {
          "output_type": "stream",
          "name": "stdout",
          "text": [
            "Epoch 5/10 - Loss: 1.646, Accuracy: 38.45%\n",
            "Total weight sparsity in the model: 19.98%\n",
            "epoch=5\n"
          ]
        },
        {
          "output_type": "stream",
          "name": "stderr",
          "text": []
        },
        {
          "output_type": "stream",
          "name": "stdout",
          "text": [
            "Epoch 6/10 - Loss: 1.622, Accuracy: 41.92%\n",
            "Total weight sparsity in the model: 23.98%\n",
            "epoch=6\n"
          ]
        },
        {
          "output_type": "stream",
          "name": "stderr",
          "text": []
        },
        {
          "output_type": "stream",
          "name": "stdout",
          "text": [
            "Epoch 7/10 - Loss: 1.509, Accuracy: 49.93%\n",
            "Total weight sparsity in the model: 27.97%\n",
            "epoch=7\n"
          ]
        },
        {
          "output_type": "stream",
          "name": "stderr",
          "text": []
        },
        {
          "output_type": "stream",
          "name": "stdout",
          "text": [
            "Epoch 8/10 - Loss: 1.437, Accuracy: 49.28%\n",
            "Total weight sparsity in the model: 31.97%\n",
            "epoch=8\n"
          ]
        },
        {
          "output_type": "stream",
          "name": "stderr",
          "text": []
        },
        {
          "output_type": "stream",
          "name": "stdout",
          "text": [
            "Epoch 9/10 - Loss: 1.384, Accuracy: 48.52%\n",
            "Total weight sparsity in the model: 35.96%\n",
            "epoch=9\n"
          ]
        },
        {
          "output_type": "stream",
          "name": "stderr",
          "text": []
        },
        {
          "output_type": "stream",
          "name": "stdout",
          "text": [
            "Epoch 10/10 - Loss: 1.329, Accuracy: 49.48%\n",
            "Total weight sparsity in the model: 39.96%\n",
            "epoch=10\n"
          ]
        },
        {
          "output_type": "stream",
          "name": "stderr",
          "text": []
        },
        {
          "output_type": "stream",
          "name": "stdout",
          "text": [
            "Epoch 11/200 - Loss: 1.256, Accuracy: 53.04%\n",
            "Saved new best model with accuracy: 53.04%\n",
            "epoch=11\n"
          ]
        },
        {
          "output_type": "stream",
          "name": "stderr",
          "text": []
        },
        {
          "output_type": "stream",
          "name": "stdout",
          "text": [
            "Epoch 12/200 - Loss: 1.204, Accuracy: 59.31%\n",
            "Saved new best model with accuracy: 59.31%\n",
            "epoch=12\n"
          ]
        },
        {
          "output_type": "stream",
          "name": "stderr",
          "text": []
        },
        {
          "output_type": "stream",
          "name": "stdout",
          "text": [
            "Epoch 13/200 - Loss: 1.169, Accuracy: 56.93%\n",
            "epoch=13\n"
          ]
        },
        {
          "output_type": "stream",
          "name": "stderr",
          "text": []
        },
        {
          "output_type": "stream",
          "name": "stdout",
          "text": [
            "Epoch 14/200 - Loss: 1.138, Accuracy: 60.50%\n",
            "Saved new best model with accuracy: 60.50%\n",
            "epoch=14\n"
          ]
        },
        {
          "output_type": "stream",
          "name": "stderr",
          "text": []
        },
        {
          "output_type": "stream",
          "name": "stdout",
          "text": [
            "Epoch 15/200 - Loss: 1.124, Accuracy: 60.90%\n",
            "Saved new best model with accuracy: 60.90%\n",
            "epoch=15\n"
          ]
        },
        {
          "output_type": "stream",
          "name": "stderr",
          "text": []
        },
        {
          "output_type": "stream",
          "name": "stdout",
          "text": [
            "Epoch 16/200 - Loss: 1.101, Accuracy: 61.46%\n",
            "Saved new best model with accuracy: 61.46%\n",
            "epoch=16\n"
          ]
        },
        {
          "output_type": "stream",
          "name": "stderr",
          "text": []
        },
        {
          "output_type": "stream",
          "name": "stdout",
          "text": [
            "Epoch 17/200 - Loss: 1.082, Accuracy: 59.23%\n",
            "epoch=17\n"
          ]
        },
        {
          "output_type": "stream",
          "name": "stderr",
          "text": []
        },
        {
          "output_type": "stream",
          "name": "stdout",
          "text": [
            "Epoch 18/200 - Loss: 1.068, Accuracy: 61.63%\n",
            "Saved new best model with accuracy: 61.63%\n",
            "epoch=18\n"
          ]
        },
        {
          "output_type": "stream",
          "name": "stderr",
          "text": []
        },
        {
          "output_type": "stream",
          "name": "stdout",
          "text": [
            "Epoch 19/200 - Loss: 1.049, Accuracy: 58.31%\n",
            "epoch=19\n"
          ]
        },
        {
          "output_type": "stream",
          "name": "stderr",
          "text": []
        },
        {
          "output_type": "stream",
          "name": "stdout",
          "text": [
            "Epoch 20/200 - Loss: 1.047, Accuracy: 65.80%\n",
            "Saved new best model with accuracy: 65.80%\n",
            "epoch=20\n"
          ]
        },
        {
          "output_type": "stream",
          "name": "stderr",
          "text": []
        },
        {
          "output_type": "stream",
          "name": "stdout",
          "text": [
            "Epoch 21/200 - Loss: 1.022, Accuracy: 68.00%\n",
            "Saved new best model with accuracy: 68.00%\n",
            "epoch=21\n"
          ]
        },
        {
          "output_type": "stream",
          "name": "stderr",
          "text": []
        },
        {
          "output_type": "stream",
          "name": "stdout",
          "text": [
            "Epoch 22/200 - Loss: 1.025, Accuracy: 60.60%\n",
            "epoch=22\n"
          ]
        },
        {
          "output_type": "stream",
          "name": "stderr",
          "text": []
        },
        {
          "output_type": "stream",
          "name": "stdout",
          "text": [
            "Epoch 23/200 - Loss: 1.013, Accuracy: 57.85%\n",
            "epoch=23\n"
          ]
        },
        {
          "output_type": "stream",
          "name": "stderr",
          "text": []
        },
        {
          "output_type": "stream",
          "name": "stdout",
          "text": [
            "Epoch 24/200 - Loss: 1.010, Accuracy: 62.55%\n",
            "epoch=24\n"
          ]
        },
        {
          "output_type": "stream",
          "name": "stderr",
          "text": []
        },
        {
          "output_type": "stream",
          "name": "stdout",
          "text": [
            "Epoch 25/200 - Loss: 0.997, Accuracy: 63.38%\n",
            "epoch=25\n"
          ]
        },
        {
          "output_type": "stream",
          "name": "stderr",
          "text": []
        },
        {
          "output_type": "stream",
          "name": "stdout",
          "text": [
            "Epoch 26/200 - Loss: 0.995, Accuracy: 68.52%\n",
            "Saved new best model with accuracy: 68.52%\n",
            "epoch=26\n"
          ]
        },
        {
          "output_type": "stream",
          "name": "stderr",
          "text": []
        },
        {
          "output_type": "stream",
          "name": "stdout",
          "text": [
            "Epoch 27/200 - Loss: 0.994, Accuracy: 61.41%\n",
            "epoch=27\n"
          ]
        },
        {
          "output_type": "stream",
          "name": "stderr",
          "text": []
        },
        {
          "output_type": "stream",
          "name": "stdout",
          "text": [
            "Epoch 28/200 - Loss: 0.976, Accuracy: 66.26%\n",
            "epoch=28\n"
          ]
        },
        {
          "output_type": "stream",
          "name": "stderr",
          "text": []
        },
        {
          "output_type": "stream",
          "name": "stdout",
          "text": [
            "Epoch 29/200 - Loss: 0.978, Accuracy: 68.46%\n",
            "epoch=29\n"
          ]
        },
        {
          "output_type": "stream",
          "name": "stderr",
          "text": []
        },
        {
          "output_type": "stream",
          "name": "stdout",
          "text": [
            "Epoch 30/200 - Loss: 0.973, Accuracy: 67.13%\n",
            "epoch=30\n"
          ]
        },
        {
          "output_type": "stream",
          "name": "stderr",
          "text": []
        },
        {
          "output_type": "stream",
          "name": "stdout",
          "text": [
            "Epoch 31/200 - Loss: 0.969, Accuracy: 67.56%\n",
            "epoch=31\n"
          ]
        },
        {
          "output_type": "stream",
          "name": "stderr",
          "text": []
        },
        {
          "output_type": "stream",
          "name": "stdout",
          "text": [
            "Epoch 32/200 - Loss: 0.965, Accuracy: 66.64%\n",
            "epoch=32\n"
          ]
        },
        {
          "output_type": "stream",
          "name": "stderr",
          "text": []
        },
        {
          "output_type": "stream",
          "name": "stdout",
          "text": [
            "Epoch 33/200 - Loss: 0.961, Accuracy: 63.64%\n",
            "epoch=33\n"
          ]
        },
        {
          "output_type": "stream",
          "name": "stderr",
          "text": []
        },
        {
          "output_type": "stream",
          "name": "stdout",
          "text": [
            "Epoch 34/200 - Loss: 0.962, Accuracy: 65.50%\n",
            "epoch=34\n"
          ]
        },
        {
          "output_type": "stream",
          "name": "stderr",
          "text": []
        },
        {
          "output_type": "stream",
          "name": "stdout",
          "text": [
            "Epoch 35/200 - Loss: 0.953, Accuracy: 69.58%\n",
            "Saved new best model with accuracy: 69.58%\n",
            "epoch=35\n"
          ]
        },
        {
          "output_type": "stream",
          "name": "stderr",
          "text": []
        },
        {
          "output_type": "stream",
          "name": "stdout",
          "text": [
            "Epoch 36/200 - Loss: 0.952, Accuracy: 66.70%\n",
            "epoch=36\n"
          ]
        },
        {
          "output_type": "stream",
          "name": "stderr",
          "text": []
        },
        {
          "output_type": "stream",
          "name": "stdout",
          "text": [
            "Epoch 37/200 - Loss: 0.944, Accuracy: 67.08%\n",
            "epoch=37\n"
          ]
        },
        {
          "output_type": "stream",
          "name": "stderr",
          "text": []
        },
        {
          "output_type": "stream",
          "name": "stdout",
          "text": [
            "Epoch 38/200 - Loss: 0.951, Accuracy: 66.70%\n",
            "epoch=38\n"
          ]
        },
        {
          "output_type": "stream",
          "name": "stderr",
          "text": []
        },
        {
          "output_type": "stream",
          "name": "stdout",
          "text": [
            "Epoch 39/200 - Loss: 0.944, Accuracy: 69.05%\n",
            "epoch=39\n"
          ]
        },
        {
          "output_type": "stream",
          "name": "stderr",
          "text": []
        },
        {
          "output_type": "stream",
          "name": "stdout",
          "text": [
            "Epoch 40/200 - Loss: 0.939, Accuracy: 66.05%\n",
            "epoch=40\n"
          ]
        },
        {
          "output_type": "stream",
          "name": "stderr",
          "text": []
        },
        {
          "output_type": "stream",
          "name": "stdout",
          "text": [
            "Epoch 41/200 - Loss: 0.947, Accuracy: 64.83%\n",
            "epoch=41\n"
          ]
        },
        {
          "output_type": "stream",
          "name": "stderr",
          "text": []
        },
        {
          "output_type": "stream",
          "name": "stdout",
          "text": [
            "Epoch 42/200 - Loss: 0.936, Accuracy: 68.93%\n",
            "epoch=42\n"
          ]
        },
        {
          "output_type": "stream",
          "name": "stderr",
          "text": []
        },
        {
          "output_type": "stream",
          "name": "stdout",
          "text": [
            "Epoch 43/200 - Loss: 0.935, Accuracy: 69.84%\n",
            "Saved new best model with accuracy: 69.84%\n",
            "epoch=43\n"
          ]
        },
        {
          "output_type": "stream",
          "name": "stderr",
          "text": []
        },
        {
          "output_type": "stream",
          "name": "stdout",
          "text": [
            "Epoch 44/200 - Loss: 0.932, Accuracy: 65.39%\n",
            "epoch=44\n"
          ]
        },
        {
          "output_type": "stream",
          "name": "stderr",
          "text": []
        },
        {
          "output_type": "stream",
          "name": "stdout",
          "text": [
            "Epoch 45/200 - Loss: 0.935, Accuracy: 62.39%\n",
            "epoch=45\n"
          ]
        },
        {
          "output_type": "stream",
          "name": "stderr",
          "text": []
        },
        {
          "output_type": "stream",
          "name": "stdout",
          "text": [
            "Epoch 46/200 - Loss: 0.921, Accuracy: 65.03%\n",
            "epoch=46\n"
          ]
        },
        {
          "output_type": "stream",
          "name": "stderr",
          "text": []
        },
        {
          "output_type": "stream",
          "name": "stdout",
          "text": [
            "Epoch 47/200 - Loss: 0.921, Accuracy: 66.41%\n",
            "epoch=47\n"
          ]
        },
        {
          "output_type": "stream",
          "name": "stderr",
          "text": []
        },
        {
          "output_type": "stream",
          "name": "stdout",
          "text": [
            "Epoch 48/200 - Loss: 0.924, Accuracy: 69.86%\n",
            "Saved new best model with accuracy: 69.86%\n",
            "epoch=48\n"
          ]
        },
        {
          "output_type": "stream",
          "name": "stderr",
          "text": []
        },
        {
          "output_type": "stream",
          "name": "stdout",
          "text": [
            "Epoch 49/200 - Loss: 0.918, Accuracy: 62.42%\n",
            "epoch=49\n"
          ]
        },
        {
          "output_type": "stream",
          "name": "stderr",
          "text": []
        },
        {
          "output_type": "stream",
          "name": "stdout",
          "text": [
            "Epoch 50/200 - Loss: 0.911, Accuracy: 66.55%\n",
            "epoch=50\n"
          ]
        },
        {
          "output_type": "stream",
          "name": "stderr",
          "text": []
        },
        {
          "output_type": "stream",
          "name": "stdout",
          "text": [
            "Epoch 51/200 - Loss: 0.903, Accuracy: 66.32%\n",
            "epoch=51\n"
          ]
        },
        {
          "output_type": "stream",
          "name": "stderr",
          "text": []
        },
        {
          "output_type": "stream",
          "name": "stdout",
          "text": [
            "Epoch 52/200 - Loss: 0.918, Accuracy: 68.02%\n",
            "epoch=52\n"
          ]
        },
        {
          "output_type": "stream",
          "name": "stderr",
          "text": []
        },
        {
          "output_type": "stream",
          "name": "stdout",
          "text": [
            "Epoch 53/200 - Loss: 0.912, Accuracy: 67.60%\n",
            "epoch=53\n"
          ]
        },
        {
          "output_type": "stream",
          "name": "stderr",
          "text": []
        },
        {
          "output_type": "stream",
          "name": "stdout",
          "text": [
            "Epoch 54/200 - Loss: 0.915, Accuracy: 66.23%\n",
            "epoch=54\n"
          ]
        },
        {
          "output_type": "stream",
          "name": "stderr",
          "text": []
        },
        {
          "output_type": "stream",
          "name": "stdout",
          "text": [
            "Epoch 55/200 - Loss: 0.902, Accuracy: 72.18%\n",
            "Saved new best model with accuracy: 72.18%\n",
            "epoch=55\n"
          ]
        },
        {
          "output_type": "stream",
          "name": "stderr",
          "text": []
        },
        {
          "output_type": "stream",
          "name": "stdout",
          "text": [
            "Epoch 56/200 - Loss: 0.895, Accuracy: 69.84%\n",
            "epoch=56\n"
          ]
        },
        {
          "output_type": "stream",
          "name": "stderr",
          "text": []
        },
        {
          "output_type": "stream",
          "name": "stdout",
          "text": [
            "Epoch 57/200 - Loss: 0.898, Accuracy: 68.66%\n",
            "epoch=57\n"
          ]
        },
        {
          "output_type": "stream",
          "name": "stderr",
          "text": []
        },
        {
          "output_type": "stream",
          "name": "stdout",
          "text": [
            "Epoch 58/200 - Loss: 0.889, Accuracy: 70.21%\n",
            "epoch=58\n"
          ]
        },
        {
          "output_type": "stream",
          "name": "stderr",
          "text": []
        },
        {
          "output_type": "stream",
          "name": "stdout",
          "text": [
            "Epoch 59/200 - Loss: 0.899, Accuracy: 68.45%\n",
            "epoch=59\n"
          ]
        },
        {
          "output_type": "stream",
          "name": "stderr",
          "text": []
        },
        {
          "output_type": "stream",
          "name": "stdout",
          "text": [
            "Epoch 60/200 - Loss: 0.885, Accuracy: 69.33%\n",
            "epoch=60\n"
          ]
        },
        {
          "output_type": "stream",
          "name": "stderr",
          "text": []
        },
        {
          "output_type": "stream",
          "name": "stdout",
          "text": [
            "Epoch 61/200 - Loss: 0.888, Accuracy: 68.28%\n",
            "epoch=61\n"
          ]
        },
        {
          "output_type": "stream",
          "name": "stderr",
          "text": []
        },
        {
          "output_type": "stream",
          "name": "stdout",
          "text": [
            "Epoch 62/200 - Loss: 0.879, Accuracy: 69.88%\n",
            "epoch=62\n"
          ]
        },
        {
          "output_type": "stream",
          "name": "stderr",
          "text": []
        },
        {
          "output_type": "stream",
          "name": "stdout",
          "text": [
            "Epoch 63/200 - Loss: 0.883, Accuracy: 73.46%\n",
            "Saved new best model with accuracy: 73.46%\n",
            "epoch=63\n"
          ]
        },
        {
          "output_type": "stream",
          "name": "stderr",
          "text": []
        },
        {
          "output_type": "stream",
          "name": "stdout",
          "text": [
            "Epoch 64/200 - Loss: 0.875, Accuracy: 67.71%\n",
            "epoch=64\n"
          ]
        },
        {
          "output_type": "stream",
          "name": "stderr",
          "text": []
        },
        {
          "output_type": "stream",
          "name": "stdout",
          "text": [
            "Epoch 65/200 - Loss: 0.877, Accuracy: 70.40%\n",
            "epoch=65\n"
          ]
        },
        {
          "output_type": "stream",
          "name": "stderr",
          "text": []
        },
        {
          "output_type": "stream",
          "name": "stdout",
          "text": [
            "Epoch 66/200 - Loss: 0.873, Accuracy: 68.71%\n",
            "epoch=66\n"
          ]
        },
        {
          "output_type": "stream",
          "name": "stderr",
          "text": []
        },
        {
          "output_type": "stream",
          "name": "stdout",
          "text": [
            "Epoch 67/200 - Loss: 0.874, Accuracy: 71.98%\n",
            "epoch=67\n"
          ]
        },
        {
          "output_type": "stream",
          "name": "stderr",
          "text": []
        },
        {
          "output_type": "stream",
          "name": "stdout",
          "text": [
            "Epoch 68/200 - Loss: 0.872, Accuracy: 71.96%\n",
            "epoch=68\n"
          ]
        },
        {
          "output_type": "stream",
          "name": "stderr",
          "text": []
        },
        {
          "output_type": "stream",
          "name": "stdout",
          "text": [
            "Epoch 69/200 - Loss: 0.857, Accuracy: 69.12%\n",
            "epoch=69\n"
          ]
        },
        {
          "output_type": "stream",
          "name": "stderr",
          "text": []
        },
        {
          "output_type": "stream",
          "name": "stdout",
          "text": [
            "Epoch 70/200 - Loss: 0.858, Accuracy: 71.74%\n",
            "epoch=70\n"
          ]
        },
        {
          "output_type": "stream",
          "name": "stderr",
          "text": []
        },
        {
          "output_type": "stream",
          "name": "stdout",
          "text": [
            "Epoch 71/200 - Loss: 0.855, Accuracy: 68.61%\n",
            "epoch=71\n"
          ]
        },
        {
          "output_type": "stream",
          "name": "stderr",
          "text": []
        },
        {
          "output_type": "stream",
          "name": "stdout",
          "text": [
            "Epoch 72/200 - Loss: 0.866, Accuracy: 69.41%\n",
            "epoch=72\n"
          ]
        },
        {
          "output_type": "stream",
          "name": "stderr",
          "text": []
        },
        {
          "output_type": "stream",
          "name": "stdout",
          "text": [
            "Epoch 73/200 - Loss: 0.835, Accuracy: 71.08%\n",
            "epoch=73\n"
          ]
        },
        {
          "output_type": "stream",
          "name": "stderr",
          "text": []
        },
        {
          "output_type": "stream",
          "name": "stdout",
          "text": [
            "Epoch 74/200 - Loss: 0.840, Accuracy: 72.78%\n",
            "epoch=74\n"
          ]
        },
        {
          "output_type": "stream",
          "name": "stderr",
          "text": []
        },
        {
          "output_type": "stream",
          "name": "stdout",
          "text": [
            "Epoch 75/200 - Loss: 0.836, Accuracy: 69.94%\n",
            "epoch=75\n"
          ]
        },
        {
          "output_type": "stream",
          "name": "stderr",
          "text": []
        },
        {
          "output_type": "stream",
          "name": "stdout",
          "text": [
            "Epoch 76/200 - Loss: 0.839, Accuracy: 69.01%\n",
            "epoch=76\n"
          ]
        },
        {
          "output_type": "stream",
          "name": "stderr",
          "text": []
        },
        {
          "output_type": "stream",
          "name": "stdout",
          "text": [
            "Epoch 77/200 - Loss: 0.837, Accuracy: 71.83%\n",
            "epoch=77\n"
          ]
        },
        {
          "output_type": "stream",
          "name": "stderr",
          "text": []
        },
        {
          "output_type": "stream",
          "name": "stdout",
          "text": [
            "Epoch 78/200 - Loss: 0.825, Accuracy: 70.25%\n",
            "epoch=78\n"
          ]
        },
        {
          "output_type": "stream",
          "name": "stderr",
          "text": []
        },
        {
          "output_type": "stream",
          "name": "stdout",
          "text": [
            "Epoch 79/200 - Loss: 0.829, Accuracy: 67.99%\n",
            "epoch=79\n"
          ]
        },
        {
          "output_type": "stream",
          "name": "stderr",
          "text": []
        },
        {
          "output_type": "stream",
          "name": "stdout",
          "text": [
            "Epoch 80/200 - Loss: 0.826, Accuracy: 70.80%\n",
            "epoch=80\n"
          ]
        },
        {
          "output_type": "stream",
          "name": "stderr",
          "text": []
        },
        {
          "output_type": "stream",
          "name": "stdout",
          "text": [
            "Epoch 81/200 - Loss: 0.820, Accuracy: 70.66%\n",
            "epoch=81\n"
          ]
        },
        {
          "output_type": "stream",
          "name": "stderr",
          "text": []
        },
        {
          "output_type": "stream",
          "name": "stdout",
          "text": [
            "Epoch 82/200 - Loss: 0.816, Accuracy: 64.74%\n",
            "epoch=82\n"
          ]
        },
        {
          "output_type": "stream",
          "name": "stderr",
          "text": []
        },
        {
          "output_type": "stream",
          "name": "stdout",
          "text": [
            "Epoch 83/200 - Loss: 0.815, Accuracy: 74.35%\n",
            "Saved new best model with accuracy: 74.35%\n",
            "epoch=83\n"
          ]
        },
        {
          "output_type": "stream",
          "name": "stderr",
          "text": []
        },
        {
          "output_type": "stream",
          "name": "stdout",
          "text": [
            "Epoch 84/200 - Loss: 0.810, Accuracy: 67.76%\n",
            "epoch=84\n"
          ]
        },
        {
          "output_type": "stream",
          "name": "stderr",
          "text": []
        },
        {
          "output_type": "stream",
          "name": "stdout",
          "text": [
            "Epoch 85/200 - Loss: 0.804, Accuracy: 73.76%\n",
            "epoch=85\n"
          ]
        },
        {
          "output_type": "stream",
          "name": "stderr",
          "text": []
        },
        {
          "output_type": "stream",
          "name": "stdout",
          "text": [
            "Epoch 86/200 - Loss: 0.802, Accuracy: 71.98%\n",
            "epoch=86\n"
          ]
        },
        {
          "output_type": "stream",
          "name": "stderr",
          "text": []
        },
        {
          "output_type": "stream",
          "name": "stdout",
          "text": [
            "Epoch 87/200 - Loss: 0.796, Accuracy: 70.19%\n",
            "epoch=87\n"
          ]
        },
        {
          "output_type": "stream",
          "name": "stderr",
          "text": []
        },
        {
          "output_type": "stream",
          "name": "stdout",
          "text": [
            "Epoch 88/200 - Loss: 0.792, Accuracy: 73.75%\n",
            "epoch=88\n"
          ]
        },
        {
          "output_type": "stream",
          "name": "stderr",
          "text": []
        },
        {
          "output_type": "stream",
          "name": "stdout",
          "text": [
            "Epoch 89/200 - Loss: 0.794, Accuracy: 71.40%\n",
            "epoch=89\n"
          ]
        },
        {
          "output_type": "stream",
          "name": "stderr",
          "text": []
        },
        {
          "output_type": "stream",
          "name": "stdout",
          "text": [
            "Epoch 90/200 - Loss: 0.791, Accuracy: 70.94%\n",
            "epoch=90\n"
          ]
        },
        {
          "output_type": "stream",
          "name": "stderr",
          "text": []
        },
        {
          "output_type": "stream",
          "name": "stdout",
          "text": [
            "Epoch 91/200 - Loss: 0.779, Accuracy: 72.84%\n",
            "epoch=91\n"
          ]
        },
        {
          "output_type": "stream",
          "name": "stderr",
          "text": []
        },
        {
          "output_type": "stream",
          "name": "stdout",
          "text": [
            "Epoch 92/200 - Loss: 0.783, Accuracy: 73.03%\n",
            "epoch=92\n"
          ]
        },
        {
          "output_type": "stream",
          "name": "stderr",
          "text": []
        },
        {
          "output_type": "stream",
          "name": "stdout",
          "text": [
            "Epoch 93/200 - Loss: 0.774, Accuracy: 71.04%\n",
            "epoch=93\n"
          ]
        },
        {
          "output_type": "stream",
          "name": "stderr",
          "text": []
        },
        {
          "output_type": "stream",
          "name": "stdout",
          "text": [
            "Epoch 94/200 - Loss: 0.773, Accuracy: 69.53%\n",
            "epoch=94\n"
          ]
        },
        {
          "output_type": "stream",
          "name": "stderr",
          "text": []
        },
        {
          "output_type": "stream",
          "name": "stdout",
          "text": [
            "Epoch 95/200 - Loss: 0.769, Accuracy: 72.11%\n",
            "epoch=95\n"
          ]
        },
        {
          "output_type": "stream",
          "name": "stderr",
          "text": []
        },
        {
          "output_type": "stream",
          "name": "stdout",
          "text": [
            "Epoch 96/200 - Loss: 0.767, Accuracy: 74.70%\n",
            "Saved new best model with accuracy: 74.70%\n",
            "epoch=96\n"
          ]
        },
        {
          "output_type": "stream",
          "name": "stderr",
          "text": []
        },
        {
          "output_type": "stream",
          "name": "stdout",
          "text": [
            "Epoch 97/200 - Loss: 0.763, Accuracy: 73.51%\n",
            "epoch=97\n"
          ]
        },
        {
          "output_type": "stream",
          "name": "stderr",
          "text": []
        },
        {
          "output_type": "stream",
          "name": "stdout",
          "text": [
            "Epoch 98/200 - Loss: 0.754, Accuracy: 74.33%\n",
            "epoch=98\n"
          ]
        },
        {
          "output_type": "stream",
          "name": "stderr",
          "text": []
        },
        {
          "output_type": "stream",
          "name": "stdout",
          "text": [
            "Epoch 99/200 - Loss: 0.756, Accuracy: 72.33%\n",
            "epoch=99\n"
          ]
        },
        {
          "output_type": "stream",
          "name": "stderr",
          "text": []
        },
        {
          "output_type": "stream",
          "name": "stdout",
          "text": [
            "Epoch 100/200 - Loss: 0.745, Accuracy: 75.63%\n",
            "Saved new best model with accuracy: 75.63%\n",
            "epoch=100\n"
          ]
        },
        {
          "output_type": "stream",
          "name": "stderr",
          "text": []
        },
        {
          "output_type": "stream",
          "name": "stdout",
          "text": [
            "Epoch 101/200 - Loss: 0.746, Accuracy: 71.46%\n",
            "epoch=101\n"
          ]
        },
        {
          "output_type": "stream",
          "name": "stderr",
          "text": []
        },
        {
          "output_type": "stream",
          "name": "stdout",
          "text": [
            "Epoch 102/200 - Loss: 0.739, Accuracy: 76.17%\n",
            "Saved new best model with accuracy: 76.17%\n",
            "epoch=102\n"
          ]
        },
        {
          "output_type": "stream",
          "name": "stderr",
          "text": []
        },
        {
          "output_type": "stream",
          "name": "stdout",
          "text": [
            "Epoch 103/200 - Loss: 0.734, Accuracy: 75.16%\n",
            "epoch=103\n"
          ]
        },
        {
          "output_type": "stream",
          "name": "stderr",
          "text": []
        },
        {
          "output_type": "stream",
          "name": "stdout",
          "text": [
            "Epoch 104/200 - Loss: 0.735, Accuracy: 73.91%\n",
            "epoch=104\n"
          ]
        },
        {
          "output_type": "stream",
          "name": "stderr",
          "text": []
        },
        {
          "output_type": "stream",
          "name": "stdout",
          "text": [
            "Epoch 105/200 - Loss: 0.724, Accuracy: 75.15%\n",
            "epoch=105\n"
          ]
        },
        {
          "output_type": "stream",
          "name": "stderr",
          "text": []
        },
        {
          "output_type": "stream",
          "name": "stdout",
          "text": [
            "Epoch 106/200 - Loss: 0.722, Accuracy: 74.44%\n",
            "epoch=106\n"
          ]
        },
        {
          "output_type": "stream",
          "name": "stderr",
          "text": []
        },
        {
          "output_type": "stream",
          "name": "stdout",
          "text": [
            "Epoch 107/200 - Loss: 0.719, Accuracy: 70.33%\n",
            "epoch=107\n"
          ]
        },
        {
          "output_type": "stream",
          "name": "stderr",
          "text": []
        },
        {
          "output_type": "stream",
          "name": "stdout",
          "text": [
            "Epoch 108/200 - Loss: 0.718, Accuracy: 75.18%\n",
            "epoch=108\n"
          ]
        },
        {
          "output_type": "stream",
          "name": "stderr",
          "text": []
        },
        {
          "output_type": "stream",
          "name": "stdout",
          "text": [
            "Epoch 109/200 - Loss: 0.715, Accuracy: 75.33%\n",
            "epoch=109\n"
          ]
        },
        {
          "output_type": "stream",
          "name": "stderr",
          "text": []
        },
        {
          "output_type": "stream",
          "name": "stdout",
          "text": [
            "Epoch 110/200 - Loss: 0.705, Accuracy: 73.54%\n",
            "epoch=110\n"
          ]
        },
        {
          "output_type": "stream",
          "name": "stderr",
          "text": []
        },
        {
          "output_type": "stream",
          "name": "stdout",
          "text": [
            "Epoch 111/200 - Loss: 0.695, Accuracy: 75.14%\n",
            "epoch=111\n"
          ]
        },
        {
          "output_type": "stream",
          "name": "stderr",
          "text": []
        },
        {
          "output_type": "stream",
          "name": "stdout",
          "text": [
            "Epoch 112/200 - Loss: 0.697, Accuracy: 75.01%\n",
            "epoch=112\n"
          ]
        },
        {
          "output_type": "stream",
          "name": "stderr",
          "text": []
        },
        {
          "output_type": "stream",
          "name": "stdout",
          "text": [
            "Epoch 113/200 - Loss: 0.691, Accuracy: 77.45%\n",
            "Saved new best model with accuracy: 77.45%\n",
            "epoch=113\n"
          ]
        },
        {
          "output_type": "stream",
          "name": "stderr",
          "text": []
        },
        {
          "output_type": "stream",
          "name": "stdout",
          "text": [
            "Epoch 114/200 - Loss: 0.684, Accuracy: 75.16%\n",
            "epoch=114\n"
          ]
        },
        {
          "output_type": "stream",
          "name": "stderr",
          "text": []
        },
        {
          "output_type": "stream",
          "name": "stdout",
          "text": [
            "Epoch 115/200 - Loss: 0.683, Accuracy: 72.41%\n",
            "epoch=115\n"
          ]
        },
        {
          "output_type": "stream",
          "name": "stderr",
          "text": []
        },
        {
          "output_type": "stream",
          "name": "stdout",
          "text": [
            "Epoch 116/200 - Loss: 0.682, Accuracy: 71.88%\n",
            "epoch=116\n"
          ]
        },
        {
          "output_type": "stream",
          "name": "stderr",
          "text": []
        },
        {
          "output_type": "stream",
          "name": "stdout",
          "text": [
            "Epoch 117/200 - Loss: 0.673, Accuracy: 75.66%\n",
            "epoch=117\n"
          ]
        },
        {
          "output_type": "stream",
          "name": "stderr",
          "text": []
        },
        {
          "output_type": "stream",
          "name": "stdout",
          "text": [
            "Epoch 118/200 - Loss: 0.662, Accuracy: 75.59%\n",
            "epoch=118\n"
          ]
        },
        {
          "output_type": "stream",
          "name": "stderr",
          "text": []
        },
        {
          "output_type": "stream",
          "name": "stdout",
          "text": [
            "Epoch 119/200 - Loss: 0.663, Accuracy: 74.36%\n",
            "epoch=119\n"
          ]
        },
        {
          "output_type": "stream",
          "name": "stderr",
          "text": []
        },
        {
          "output_type": "stream",
          "name": "stdout",
          "text": [
            "Epoch 120/200 - Loss: 0.655, Accuracy: 71.23%\n",
            "epoch=120\n"
          ]
        },
        {
          "output_type": "stream",
          "name": "stderr",
          "text": []
        },
        {
          "output_type": "stream",
          "name": "stdout",
          "text": [
            "Epoch 121/200 - Loss: 0.653, Accuracy: 77.05%\n",
            "epoch=121\n"
          ]
        },
        {
          "output_type": "stream",
          "name": "stderr",
          "text": []
        },
        {
          "output_type": "stream",
          "name": "stdout",
          "text": [
            "Epoch 122/200 - Loss: 0.651, Accuracy: 73.91%\n",
            "epoch=122\n"
          ]
        },
        {
          "output_type": "stream",
          "name": "stderr",
          "text": []
        },
        {
          "output_type": "stream",
          "name": "stdout",
          "text": [
            "Epoch 123/200 - Loss: 0.644, Accuracy: 76.88%\n",
            "epoch=123\n"
          ]
        },
        {
          "output_type": "stream",
          "name": "stderr",
          "text": []
        },
        {
          "output_type": "stream",
          "name": "stdout",
          "text": [
            "Epoch 124/200 - Loss: 0.635, Accuracy: 77.59%\n",
            "Saved new best model with accuracy: 77.59%\n",
            "epoch=124\n"
          ]
        },
        {
          "output_type": "stream",
          "name": "stderr",
          "text": []
        },
        {
          "output_type": "stream",
          "name": "stdout",
          "text": [
            "Epoch 125/200 - Loss: 0.633, Accuracy: 74.84%\n",
            "epoch=125\n"
          ]
        },
        {
          "output_type": "stream",
          "name": "stderr",
          "text": []
        },
        {
          "output_type": "stream",
          "name": "stdout",
          "text": [
            "Epoch 126/200 - Loss: 0.625, Accuracy: 78.64%\n",
            "Saved new best model with accuracy: 78.64%\n",
            "epoch=126\n"
          ]
        },
        {
          "output_type": "stream",
          "name": "stderr",
          "text": []
        },
        {
          "output_type": "stream",
          "name": "stdout",
          "text": [
            "Epoch 127/200 - Loss: 0.616, Accuracy: 78.90%\n",
            "Saved new best model with accuracy: 78.90%\n",
            "epoch=127\n"
          ]
        },
        {
          "output_type": "stream",
          "name": "stderr",
          "text": []
        },
        {
          "output_type": "stream",
          "name": "stdout",
          "text": [
            "Epoch 128/200 - Loss: 0.617, Accuracy: 77.64%\n",
            "epoch=128\n"
          ]
        },
        {
          "output_type": "stream",
          "name": "stderr",
          "text": []
        },
        {
          "output_type": "stream",
          "name": "stdout",
          "text": [
            "Epoch 129/200 - Loss: 0.610, Accuracy: 78.17%\n",
            "epoch=129\n"
          ]
        },
        {
          "output_type": "stream",
          "name": "stderr",
          "text": []
        },
        {
          "output_type": "stream",
          "name": "stdout",
          "text": [
            "Epoch 130/200 - Loss: 0.600, Accuracy: 79.13%\n",
            "Saved new best model with accuracy: 79.13%\n",
            "epoch=130\n"
          ]
        },
        {
          "output_type": "stream",
          "name": "stderr",
          "text": []
        },
        {
          "output_type": "stream",
          "name": "stdout",
          "text": [
            "Epoch 131/200 - Loss: 0.592, Accuracy: 79.23%\n",
            "Saved new best model with accuracy: 79.23%\n",
            "epoch=131\n"
          ]
        },
        {
          "output_type": "stream",
          "name": "stderr",
          "text": []
        },
        {
          "output_type": "stream",
          "name": "stdout",
          "text": [
            "Epoch 132/200 - Loss: 0.594, Accuracy: 78.26%\n",
            "epoch=132\n"
          ]
        },
        {
          "output_type": "stream",
          "name": "stderr",
          "text": []
        },
        {
          "output_type": "stream",
          "name": "stdout",
          "text": [
            "Epoch 133/200 - Loss: 0.592, Accuracy: 79.57%\n",
            "Saved new best model with accuracy: 79.57%\n",
            "epoch=133\n"
          ]
        },
        {
          "output_type": "stream",
          "name": "stderr",
          "text": []
        },
        {
          "output_type": "stream",
          "name": "stdout",
          "text": [
            "Epoch 134/200 - Loss: 0.583, Accuracy: 78.04%\n",
            "epoch=134\n"
          ]
        },
        {
          "output_type": "stream",
          "name": "stderr",
          "text": []
        },
        {
          "output_type": "stream",
          "name": "stdout",
          "text": [
            "Epoch 135/200 - Loss: 0.578, Accuracy: 79.43%\n",
            "epoch=135\n"
          ]
        },
        {
          "output_type": "stream",
          "name": "stderr",
          "text": []
        },
        {
          "output_type": "stream",
          "name": "stdout",
          "text": [
            "Epoch 136/200 - Loss: 0.568, Accuracy: 79.71%\n",
            "Saved new best model with accuracy: 79.71%\n",
            "epoch=136\n"
          ]
        },
        {
          "output_type": "stream",
          "name": "stderr",
          "text": []
        },
        {
          "output_type": "stream",
          "name": "stdout",
          "text": [
            "Epoch 137/200 - Loss: 0.562, Accuracy: 79.65%\n",
            "epoch=137\n"
          ]
        },
        {
          "output_type": "stream",
          "name": "stderr",
          "text": []
        },
        {
          "output_type": "stream",
          "name": "stdout",
          "text": [
            "Epoch 138/200 - Loss: 0.555, Accuracy: 79.77%\n",
            "Saved new best model with accuracy: 79.77%\n",
            "epoch=138\n"
          ]
        },
        {
          "output_type": "stream",
          "name": "stderr",
          "text": []
        },
        {
          "output_type": "stream",
          "name": "stdout",
          "text": [
            "Epoch 139/200 - Loss: 0.551, Accuracy: 80.42%\n",
            "Saved new best model with accuracy: 80.42%\n",
            "epoch=139\n"
          ]
        },
        {
          "output_type": "stream",
          "name": "stderr",
          "text": []
        },
        {
          "output_type": "stream",
          "name": "stdout",
          "text": [
            "Epoch 140/200 - Loss: 0.549, Accuracy: 80.69%\n",
            "Saved new best model with accuracy: 80.69%\n",
            "epoch=140\n"
          ]
        },
        {
          "output_type": "stream",
          "name": "stderr",
          "text": []
        },
        {
          "output_type": "stream",
          "name": "stdout",
          "text": [
            "Epoch 141/200 - Loss: 0.541, Accuracy: 80.26%\n",
            "epoch=141\n"
          ]
        },
        {
          "output_type": "stream",
          "name": "stderr",
          "text": []
        },
        {
          "output_type": "stream",
          "name": "stdout",
          "text": [
            "Epoch 142/200 - Loss: 0.535, Accuracy: 79.78%\n",
            "epoch=142\n"
          ]
        },
        {
          "output_type": "stream",
          "name": "stderr",
          "text": []
        },
        {
          "output_type": "stream",
          "name": "stdout",
          "text": [
            "Epoch 143/200 - Loss: 0.529, Accuracy: 81.37%\n",
            "Saved new best model with accuracy: 81.37%\n",
            "epoch=143\n"
          ]
        },
        {
          "output_type": "stream",
          "name": "stderr",
          "text": []
        },
        {
          "output_type": "stream",
          "name": "stdout",
          "text": [
            "Epoch 144/200 - Loss: 0.520, Accuracy: 80.18%\n",
            "epoch=144\n"
          ]
        },
        {
          "output_type": "stream",
          "name": "stderr",
          "text": []
        },
        {
          "output_type": "stream",
          "name": "stdout",
          "text": [
            "Epoch 145/200 - Loss: 0.521, Accuracy: 81.20%\n",
            "epoch=145\n"
          ]
        },
        {
          "output_type": "stream",
          "name": "stderr",
          "text": []
        },
        {
          "output_type": "stream",
          "name": "stdout",
          "text": [
            "Epoch 146/200 - Loss: 0.509, Accuracy: 80.05%\n",
            "epoch=146\n"
          ]
        },
        {
          "output_type": "stream",
          "name": "stderr",
          "text": []
        },
        {
          "output_type": "stream",
          "name": "stdout",
          "text": [
            "Epoch 147/200 - Loss: 0.506, Accuracy: 80.35%\n",
            "epoch=147\n"
          ]
        },
        {
          "output_type": "stream",
          "name": "stderr",
          "text": []
        },
        {
          "output_type": "stream",
          "name": "stdout",
          "text": [
            "Epoch 148/200 - Loss: 0.496, Accuracy: 83.20%\n",
            "Saved new best model with accuracy: 83.20%\n",
            "epoch=148\n"
          ]
        },
        {
          "output_type": "stream",
          "name": "stderr",
          "text": []
        },
        {
          "output_type": "stream",
          "name": "stdout",
          "text": [
            "Epoch 149/200 - Loss: 0.480, Accuracy: 81.61%\n",
            "epoch=149\n"
          ]
        },
        {
          "output_type": "stream",
          "name": "stderr",
          "text": []
        },
        {
          "output_type": "stream",
          "name": "stdout",
          "text": [
            "Epoch 150/200 - Loss: 0.476, Accuracy: 80.77%\n",
            "epoch=150\n"
          ]
        },
        {
          "output_type": "stream",
          "name": "stderr",
          "text": []
        },
        {
          "output_type": "stream",
          "name": "stdout",
          "text": [
            "Epoch 151/200 - Loss: 0.474, Accuracy: 82.40%\n",
            "epoch=151\n"
          ]
        },
        {
          "output_type": "stream",
          "name": "stderr",
          "text": []
        },
        {
          "output_type": "stream",
          "name": "stdout",
          "text": [
            "Epoch 152/200 - Loss: 0.461, Accuracy: 83.30%\n",
            "Saved new best model with accuracy: 83.30%\n",
            "epoch=152\n"
          ]
        },
        {
          "output_type": "stream",
          "name": "stderr",
          "text": []
        },
        {
          "output_type": "stream",
          "name": "stdout",
          "text": [
            "Epoch 153/200 - Loss: 0.459, Accuracy: 82.56%\n",
            "epoch=153\n"
          ]
        },
        {
          "output_type": "stream",
          "name": "stderr",
          "text": []
        },
        {
          "output_type": "stream",
          "name": "stdout",
          "text": [
            "Epoch 154/200 - Loss: 0.451, Accuracy: 82.31%\n",
            "epoch=154\n"
          ]
        },
        {
          "output_type": "stream",
          "name": "stderr",
          "text": []
        },
        {
          "output_type": "stream",
          "name": "stdout",
          "text": [
            "Epoch 155/200 - Loss: 0.449, Accuracy: 82.70%\n",
            "epoch=155\n"
          ]
        },
        {
          "output_type": "stream",
          "name": "stderr",
          "text": []
        },
        {
          "output_type": "stream",
          "name": "stdout",
          "text": [
            "Epoch 156/200 - Loss: 0.437, Accuracy: 81.95%\n",
            "epoch=156\n"
          ]
        },
        {
          "output_type": "stream",
          "name": "stderr",
          "text": []
        },
        {
          "output_type": "stream",
          "name": "stdout",
          "text": [
            "Epoch 157/200 - Loss: 0.434, Accuracy: 82.22%\n",
            "epoch=157\n"
          ]
        },
        {
          "output_type": "stream",
          "name": "stderr",
          "text": []
        },
        {
          "output_type": "stream",
          "name": "stdout",
          "text": [
            "Epoch 158/200 - Loss: 0.420, Accuracy: 83.41%\n",
            "Saved new best model with accuracy: 83.41%\n",
            "epoch=158\n"
          ]
        },
        {
          "output_type": "stream",
          "name": "stderr",
          "text": []
        },
        {
          "output_type": "stream",
          "name": "stdout",
          "text": [
            "Epoch 159/200 - Loss: 0.408, Accuracy: 82.87%\n",
            "epoch=159\n"
          ]
        },
        {
          "output_type": "stream",
          "name": "stderr",
          "text": []
        },
        {
          "output_type": "stream",
          "name": "stdout",
          "text": [
            "Epoch 160/200 - Loss: 0.406, Accuracy: 83.81%\n",
            "Saved new best model with accuracy: 83.81%\n",
            "epoch=160\n"
          ]
        },
        {
          "output_type": "stream",
          "name": "stderr",
          "text": []
        },
        {
          "output_type": "stream",
          "name": "stdout",
          "text": [
            "Epoch 161/200 - Loss: 0.399, Accuracy: 83.85%\n",
            "Saved new best model with accuracy: 83.85%\n",
            "epoch=161\n"
          ]
        },
        {
          "output_type": "stream",
          "name": "stderr",
          "text": []
        },
        {
          "output_type": "stream",
          "name": "stdout",
          "text": [
            "Epoch 162/200 - Loss: 0.387, Accuracy: 84.46%\n",
            "Saved new best model with accuracy: 84.46%\n",
            "epoch=162\n"
          ]
        },
        {
          "output_type": "stream",
          "name": "stderr",
          "text": []
        },
        {
          "output_type": "stream",
          "name": "stdout",
          "text": [
            "Epoch 163/200 - Loss: 0.377, Accuracy: 83.65%\n",
            "epoch=163\n"
          ]
        },
        {
          "output_type": "stream",
          "name": "stderr",
          "text": []
        },
        {
          "output_type": "stream",
          "name": "stdout",
          "text": [
            "Epoch 164/200 - Loss: 0.371, Accuracy: 84.55%\n",
            "Saved new best model with accuracy: 84.55%\n",
            "epoch=164\n"
          ]
        },
        {
          "output_type": "stream",
          "name": "stderr",
          "text": []
        },
        {
          "output_type": "stream",
          "name": "stdout",
          "text": [
            "Epoch 165/200 - Loss: 0.363, Accuracy: 84.55%\n",
            "epoch=165\n"
          ]
        },
        {
          "output_type": "stream",
          "name": "stderr",
          "text": []
        },
        {
          "output_type": "stream",
          "name": "stdout",
          "text": [
            "Epoch 166/200 - Loss: 0.349, Accuracy: 84.84%\n",
            "Saved new best model with accuracy: 84.84%\n",
            "epoch=166\n"
          ]
        },
        {
          "output_type": "stream",
          "name": "stderr",
          "text": []
        },
        {
          "output_type": "stream",
          "name": "stdout",
          "text": [
            "Epoch 167/200 - Loss: 0.346, Accuracy: 84.63%\n",
            "epoch=167\n"
          ]
        },
        {
          "output_type": "stream",
          "name": "stderr",
          "text": []
        },
        {
          "output_type": "stream",
          "name": "stdout",
          "text": [
            "Epoch 168/200 - Loss: 0.330, Accuracy: 84.85%\n",
            "Saved new best model with accuracy: 84.85%\n",
            "epoch=168\n"
          ]
        },
        {
          "output_type": "stream",
          "name": "stderr",
          "text": []
        },
        {
          "output_type": "stream",
          "name": "stdout",
          "text": [
            "Epoch 169/200 - Loss: 0.332, Accuracy: 85.42%\n",
            "Saved new best model with accuracy: 85.42%\n",
            "epoch=169\n"
          ]
        },
        {
          "output_type": "stream",
          "name": "stderr",
          "text": []
        },
        {
          "output_type": "stream",
          "name": "stdout",
          "text": [
            "Epoch 170/200 - Loss: 0.319, Accuracy: 85.36%\n",
            "epoch=170\n"
          ]
        },
        {
          "output_type": "stream",
          "name": "stderr",
          "text": []
        },
        {
          "output_type": "stream",
          "name": "stdout",
          "text": [
            "Epoch 171/200 - Loss: 0.307, Accuracy: 84.57%\n",
            "epoch=171\n"
          ]
        },
        {
          "output_type": "stream",
          "name": "stderr",
          "text": []
        },
        {
          "output_type": "stream",
          "name": "stdout",
          "text": [
            "Epoch 172/200 - Loss: 0.301, Accuracy: 85.35%\n",
            "epoch=172\n"
          ]
        },
        {
          "output_type": "stream",
          "name": "stderr",
          "text": []
        },
        {
          "output_type": "stream",
          "name": "stdout",
          "text": [
            "Epoch 173/200 - Loss: 0.293, Accuracy: 86.71%\n",
            "Saved new best model with accuracy: 86.71%\n",
            "epoch=173\n"
          ]
        },
        {
          "output_type": "stream",
          "name": "stderr",
          "text": []
        },
        {
          "output_type": "stream",
          "name": "stdout",
          "text": [
            "Epoch 174/200 - Loss: 0.280, Accuracy: 86.60%\n",
            "epoch=174\n"
          ]
        },
        {
          "output_type": "stream",
          "name": "stderr",
          "text": []
        },
        {
          "output_type": "stream",
          "name": "stdout",
          "text": [
            "Epoch 175/200 - Loss: 0.275, Accuracy: 85.79%\n",
            "epoch=175\n"
          ]
        },
        {
          "output_type": "stream",
          "name": "stderr",
          "text": []
        },
        {
          "output_type": "stream",
          "name": "stdout",
          "text": [
            "Epoch 176/200 - Loss: 0.258, Accuracy: 86.39%\n",
            "epoch=176\n"
          ]
        },
        {
          "output_type": "stream",
          "name": "stderr",
          "text": []
        },
        {
          "output_type": "stream",
          "name": "stdout",
          "text": [
            "Epoch 177/200 - Loss: 0.249, Accuracy: 86.22%\n",
            "epoch=177\n"
          ]
        },
        {
          "output_type": "stream",
          "name": "stderr",
          "text": []
        },
        {
          "output_type": "stream",
          "name": "stdout",
          "text": [
            "Epoch 178/200 - Loss: 0.241, Accuracy: 87.16%\n",
            "Saved new best model with accuracy: 87.16%\n",
            "epoch=178\n"
          ]
        },
        {
          "output_type": "stream",
          "name": "stderr",
          "text": []
        },
        {
          "output_type": "stream",
          "name": "stdout",
          "text": [
            "Epoch 179/200 - Loss: 0.229, Accuracy: 87.18%\n",
            "Saved new best model with accuracy: 87.18%\n",
            "epoch=179\n"
          ]
        },
        {
          "output_type": "stream",
          "name": "stderr",
          "text": []
        },
        {
          "output_type": "stream",
          "name": "stdout",
          "text": [
            "Epoch 180/200 - Loss: 0.224, Accuracy: 87.33%\n",
            "Saved new best model with accuracy: 87.33%\n",
            "epoch=180\n"
          ]
        },
        {
          "output_type": "stream",
          "name": "stderr",
          "text": []
        },
        {
          "output_type": "stream",
          "name": "stdout",
          "text": [
            "Epoch 181/200 - Loss: 0.203, Accuracy: 87.10%\n",
            "epoch=181\n"
          ]
        },
        {
          "output_type": "stream",
          "name": "stderr",
          "text": []
        },
        {
          "output_type": "stream",
          "name": "stdout",
          "text": [
            "Epoch 182/200 - Loss: 0.200, Accuracy: 87.39%\n",
            "Saved new best model with accuracy: 87.39%\n",
            "epoch=182\n"
          ]
        },
        {
          "output_type": "stream",
          "name": "stderr",
          "text": []
        },
        {
          "output_type": "stream",
          "name": "stdout",
          "text": [
            "Epoch 183/200 - Loss: 0.191, Accuracy: 87.58%\n",
            "Saved new best model with accuracy: 87.58%\n",
            "epoch=183\n"
          ]
        },
        {
          "output_type": "stream",
          "name": "stderr",
          "text": []
        },
        {
          "output_type": "stream",
          "name": "stdout",
          "text": [
            "Epoch 184/200 - Loss: 0.180, Accuracy: 87.75%\n",
            "Saved new best model with accuracy: 87.75%\n",
            "epoch=184\n"
          ]
        },
        {
          "output_type": "stream",
          "name": "stderr",
          "text": []
        },
        {
          "output_type": "stream",
          "name": "stdout",
          "text": [
            "Epoch 185/200 - Loss: 0.170, Accuracy: 87.54%\n",
            "epoch=185\n"
          ]
        },
        {
          "output_type": "stream",
          "name": "stderr",
          "text": []
        },
        {
          "output_type": "stream",
          "name": "stdout",
          "text": [
            "Epoch 186/200 - Loss: 0.163, Accuracy: 87.78%\n",
            "Saved new best model with accuracy: 87.78%\n",
            "epoch=186\n"
          ]
        },
        {
          "output_type": "stream",
          "name": "stderr",
          "text": []
        },
        {
          "output_type": "stream",
          "name": "stdout",
          "text": [
            "Epoch 187/200 - Loss: 0.153, Accuracy: 87.94%\n",
            "Saved new best model with accuracy: 87.94%\n",
            "epoch=187\n"
          ]
        },
        {
          "output_type": "stream",
          "name": "stderr",
          "text": []
        },
        {
          "output_type": "stream",
          "name": "stdout",
          "text": [
            "Epoch 188/200 - Loss: 0.145, Accuracy: 88.15%\n",
            "Saved new best model with accuracy: 88.15%\n",
            "epoch=188\n"
          ]
        },
        {
          "output_type": "stream",
          "name": "stderr",
          "text": []
        },
        {
          "output_type": "stream",
          "name": "stdout",
          "text": [
            "Epoch 189/200 - Loss: 0.140, Accuracy: 88.05%\n",
            "epoch=189\n"
          ]
        },
        {
          "output_type": "stream",
          "name": "stderr",
          "text": []
        },
        {
          "output_type": "stream",
          "name": "stdout",
          "text": [
            "Epoch 190/200 - Loss: 0.132, Accuracy: 88.08%\n",
            "epoch=190\n"
          ]
        },
        {
          "output_type": "stream",
          "name": "stderr",
          "text": []
        },
        {
          "output_type": "stream",
          "name": "stdout",
          "text": [
            "Epoch 191/200 - Loss: 0.126, Accuracy: 88.10%\n",
            "epoch=191\n"
          ]
        },
        {
          "output_type": "stream",
          "name": "stderr",
          "text": []
        },
        {
          "output_type": "stream",
          "name": "stdout",
          "text": [
            "Epoch 192/200 - Loss: 0.120, Accuracy: 88.23%\n",
            "Saved new best model with accuracy: 88.23%\n",
            "epoch=192\n"
          ]
        },
        {
          "output_type": "stream",
          "name": "stderr",
          "text": []
        },
        {
          "output_type": "stream",
          "name": "stdout",
          "text": [
            "Epoch 193/200 - Loss: 0.116, Accuracy: 88.35%\n",
            "Saved new best model with accuracy: 88.35%\n",
            "epoch=193\n"
          ]
        },
        {
          "output_type": "stream",
          "name": "stderr",
          "text": []
        },
        {
          "output_type": "stream",
          "name": "stdout",
          "text": [
            "Epoch 194/200 - Loss: 0.111, Accuracy: 88.18%\n",
            "epoch=194\n"
          ]
        },
        {
          "output_type": "stream",
          "name": "stderr",
          "text": []
        },
        {
          "output_type": "stream",
          "name": "stdout",
          "text": [
            "Epoch 195/200 - Loss: 0.107, Accuracy: 88.37%\n",
            "Saved new best model with accuracy: 88.37%\n",
            "epoch=195\n"
          ]
        },
        {
          "output_type": "stream",
          "name": "stderr",
          "text": []
        },
        {
          "output_type": "stream",
          "name": "stdout",
          "text": [
            "Epoch 196/200 - Loss: 0.105, Accuracy: 88.18%\n",
            "epoch=196\n"
          ]
        },
        {
          "output_type": "stream",
          "name": "stderr",
          "text": []
        },
        {
          "output_type": "stream",
          "name": "stdout",
          "text": [
            "Epoch 197/200 - Loss: 0.102, Accuracy: 88.42%\n",
            "Saved new best model with accuracy: 88.42%\n",
            "epoch=197\n"
          ]
        },
        {
          "output_type": "stream",
          "name": "stderr",
          "text": []
        },
        {
          "output_type": "stream",
          "name": "stdout",
          "text": [
            "Epoch 198/200 - Loss: 0.102, Accuracy: 88.56%\n",
            "Saved new best model with accuracy: 88.56%\n",
            "epoch=198\n"
          ]
        },
        {
          "output_type": "stream",
          "name": "stderr",
          "text": []
        },
        {
          "output_type": "stream",
          "name": "stdout",
          "text": [
            "Epoch 199/200 - Loss: 0.099, Accuracy: 88.47%\n",
            "epoch=199\n"
          ]
        },
        {
          "output_type": "stream",
          "name": "stderr",
          "text": []
        },
        {
          "output_type": "stream",
          "name": "stdout",
          "text": [
            "Epoch 200/200 - Loss: 0.103, Accuracy: 88.50%\n",
            "Total weight sparsity in the model: 39.96%\n"
          ]
        }
      ]
    },
    {
      "cell_type": "code",
      "source": [],
      "metadata": {
        "id": "-uXcrRcvaCRt"
      },
      "execution_count": null,
      "outputs": []
    }
  ]
}